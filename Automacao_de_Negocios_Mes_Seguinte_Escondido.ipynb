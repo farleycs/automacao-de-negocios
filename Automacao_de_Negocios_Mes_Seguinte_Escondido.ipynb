{
  "nbformat": 4,
  "nbformat_minor": 0,
  "metadata": {
    "colab": {
      "name": "Automacao de Negocios - Mes Seguinte Escondido",
      "provenance": [],
      "collapsed_sections": [],
      "toc_visible": true,
      "authorship_tag": "ABX9TyN+g7P2w4qXgtRznqbCz6nu",
      "include_colab_link": true
    },
    "kernelspec": {
      "name": "python3",
      "display_name": "Python 3"
    }
  },
  "cells": [
    {
      "cell_type": "markdown",
      "metadata": {
        "id": "view-in-github",
        "colab_type": "text"
      },
      "source": [
        "<a href=\"https://colab.research.google.com/github/htsnet/automacao-de-negocios/blob/master/Automacao_de_Negocios_Mes_Seguinte_Escondido.ipynb\" target=\"_parent\"><img src=\"https://colab.research.google.com/assets/colab-badge.svg\" alt=\"Open In Colab\"/></a>"
      ]
    },
    {
      "cell_type": "markdown",
      "metadata": {
        "id": "0XIrIoBwb1NN",
        "colab_type": "text"
      },
      "source": [
        "#Uma variação do notebook original, sem split e uso do mês seguinte como validador"
      ]
    },
    {
      "cell_type": "markdown",
      "metadata": {
        "id": "esQEmXvQUDAO",
        "colab_type": "text"
      },
      "source": [
        "# Início: Importação as bibliotecas e Arquivo\n",
        "É preciso carregar um arquivo CSV com o padrão definido para execução do notebook"
      ]
    },
    {
      "cell_type": "code",
      "metadata": {
        "id": "60MYovA_7su6",
        "colab_type": "code",
        "colab": {
          "base_uri": "https://localhost:8080/",
          "height": 34
        },
        "outputId": "9d2ae007-7009-42b0-db78-f98715f3330f"
      },
      "source": [
        "import pandas as pd\n",
        "import numpy as np\n",
        "from sklearn.ensemble import ExtraTreesClassifier, RandomForestClassifier, GradientBoostingClassifier, AdaBoostClassifier\n",
        "from matplotlib import pyplot as plt\n",
        "from sklearn.metrics import roc_auc_score\n",
        "from sklearn.model_selection import train_test_split, cross_val_score, GridSearchCV\n",
        "from sklearn.ensemble import RandomForestRegressor\n",
        "from sklearn.metrics import mean_absolute_error\n",
        "from matplotlib.pyplot import figure\n",
        "import datetime\n",
        "import pickle\n",
        "from sklearn.metrics import confusion_matrix, accuracy_score, roc_curve, auc\n",
        "import seaborn as sns\n",
        "# TensorFlow e tf.keras\n",
        "import tensorflow as tf\n",
        "from tensorflow import keras\n",
        "from keras.models import Sequential\n",
        "from keras.layers import Dense"
      ],
      "execution_count": null,
      "outputs": [
        {
          "output_type": "stream",
          "text": [
            "Using TensorFlow backend.\n"
          ],
          "name": "stderr"
        }
      ]
    },
    {
      "cell_type": "code",
      "metadata": {
        "id": "9lrF2JfV8RVC",
        "colab_type": "code",
        "colab": {}
      },
      "source": [
        "#carrega a tabela de dados\n",
        "#separador de campos = ;\n",
        "#ponto decimal = ,\n",
        "historic = pd.read_csv(\"/content/Amostra Completa - Mercado Futuro.csv\", sep=\";\", decimal=\",\")"
      ],
      "execution_count": null,
      "outputs": []
    },
    {
      "cell_type": "code",
      "metadata": {
        "id": "bSeb5skcepaY",
        "colab_type": "code",
        "colab": {
          "base_uri": "https://localhost:8080/",
          "height": 270
        },
        "outputId": "78849109-4189-43bb-f03e-e3145057e22a"
      },
      "source": [
        "#converte o campo data (string) em formato de data\n",
        "historic['DataFormatada'] = pd.to_datetime(historic['Data'], format='%d/%m/%Y')\n",
        "historic.head()"
      ],
      "execution_count": null,
      "outputs": [
        {
          "output_type": "execute_result",
          "data": {
            "text/html": [
              "<div>\n",
              "<style scoped>\n",
              "    .dataframe tbody tr th:only-of-type {\n",
              "        vertical-align: middle;\n",
              "    }\n",
              "\n",
              "    .dataframe tbody tr th {\n",
              "        vertical-align: top;\n",
              "    }\n",
              "\n",
              "    .dataframe thead th {\n",
              "        text-align: right;\n",
              "    }\n",
              "</style>\n",
              "<table border=\"1\" class=\"dataframe\">\n",
              "  <thead>\n",
              "    <tr style=\"text-align: right;\">\n",
              "      <th></th>\n",
              "      <th>CodOp</th>\n",
              "      <th>Hora Entrada</th>\n",
              "      <th>Hora Saida</th>\n",
              "      <th>Duração</th>\n",
              "      <th>Data</th>\n",
              "      <th>Pentrada</th>\n",
              "      <th>Psaida</th>\n",
              "      <th>Ganhos</th>\n",
              "      <th>Perdas</th>\n",
              "      <th>Resultado</th>\n",
              "      <th>Saldo Trade</th>\n",
              "      <th>K entra</th>\n",
              "      <th>K Saida</th>\n",
              "      <th>Item 1</th>\n",
              "      <th>Item 2</th>\n",
              "      <th>Item 3</th>\n",
              "      <th>Item 4</th>\n",
              "      <th>Item 5</th>\n",
              "      <th>Item 6</th>\n",
              "      <th>Item 7</th>\n",
              "      <th>Item 8</th>\n",
              "      <th>Item 9</th>\n",
              "      <th>Item 10</th>\n",
              "      <th>Item 11</th>\n",
              "      <th>Item 12</th>\n",
              "      <th>Item 13</th>\n",
              "      <th>Item 14</th>\n",
              "      <th>Item 15</th>\n",
              "      <th>Item 16</th>\n",
              "      <th>Item 17</th>\n",
              "      <th>Item 18</th>\n",
              "      <th>Item 19</th>\n",
              "      <th>Item 20</th>\n",
              "      <th>Item 21</th>\n",
              "      <th>Item 22</th>\n",
              "      <th>Item 23</th>\n",
              "      <th>Item 24</th>\n",
              "      <th>Item 25</th>\n",
              "      <th>Item 26</th>\n",
              "      <th>Item 27</th>\n",
              "      <th>...</th>\n",
              "      <th>Item 39</th>\n",
              "      <th>Item 40</th>\n",
              "      <th>Item 41</th>\n",
              "      <th>Item 42</th>\n",
              "      <th>Item 43</th>\n",
              "      <th>Item 44</th>\n",
              "      <th>Item 45</th>\n",
              "      <th>Item 46</th>\n",
              "      <th>Item 47</th>\n",
              "      <th>Item 48</th>\n",
              "      <th>Item 49</th>\n",
              "      <th>Item 50</th>\n",
              "      <th>Item 51</th>\n",
              "      <th>Item 52</th>\n",
              "      <th>Item 53</th>\n",
              "      <th>Item 54</th>\n",
              "      <th>Item 55</th>\n",
              "      <th>Item 56</th>\n",
              "      <th>Item 57</th>\n",
              "      <th>Item 58</th>\n",
              "      <th>Item 59</th>\n",
              "      <th>Item 60</th>\n",
              "      <th>Item 61</th>\n",
              "      <th>Item 62</th>\n",
              "      <th>Item 63</th>\n",
              "      <th>Item 64</th>\n",
              "      <th>Item 65</th>\n",
              "      <th>Item 66</th>\n",
              "      <th>Item 67</th>\n",
              "      <th>Item 68</th>\n",
              "      <th>Item 69</th>\n",
              "      <th>Item 70</th>\n",
              "      <th>Item 71</th>\n",
              "      <th>Item 72</th>\n",
              "      <th>Item 73</th>\n",
              "      <th>Item 74</th>\n",
              "      <th>Item 75</th>\n",
              "      <th>Item 76</th>\n",
              "      <th>Item 77</th>\n",
              "      <th>DataFormatada</th>\n",
              "    </tr>\n",
              "  </thead>\n",
              "  <tbody>\n",
              "    <tr>\n",
              "      <th>0</th>\n",
              "      <td>9601</td>\n",
              "      <td>11:00:14</td>\n",
              "      <td>11:14:14</td>\n",
              "      <td>00:13:59</td>\n",
              "      <td>02/01/2019</td>\n",
              "      <td>3876.5</td>\n",
              "      <td>3862.5</td>\n",
              "      <td>0.0</td>\n",
              "      <td>14.0</td>\n",
              "      <td>2</td>\n",
              "      <td>-14.0</td>\n",
              "      <td>120</td>\n",
              "      <td>135</td>\n",
              "      <td>54400</td>\n",
              "      <td>-1800</td>\n",
              "      <td>-11.5</td>\n",
              "      <td>24</td>\n",
              "      <td>460.0</td>\n",
              "      <td>460.0</td>\n",
              "      <td>460.0</td>\n",
              "      <td>460.0</td>\n",
              "      <td>280.0</td>\n",
              "      <td>6800.0</td>\n",
              "      <td>9000.0</td>\n",
              "      <td>11400.0</td>\n",
              "      <td>22.0</td>\n",
              "      <td>52.0</td>\n",
              "      <td>40.5</td>\n",
              "      <td>37.5</td>\n",
              "      <td>-11.0</td>\n",
              "      <td>-6.0</td>\n",
              "      <td>-4.0</td>\n",
              "      <td>1.0</td>\n",
              "      <td>-1.0</td>\n",
              "      <td>-2.0</td>\n",
              "      <td>-58</td>\n",
              "      <td>-0.52</td>\n",
              "      <td>-66</td>\n",
              "      <td>-0.84</td>\n",
              "      <td>-60</td>\n",
              "      <td>...</td>\n",
              "      <td>33</td>\n",
              "      <td>39</td>\n",
              "      <td>41</td>\n",
              "      <td>27</td>\n",
              "      <td>37</td>\n",
              "      <td>44</td>\n",
              "      <td>0</td>\n",
              "      <td>100</td>\n",
              "      <td>500</td>\n",
              "      <td>5</td>\n",
              "      <td>15</td>\n",
              "      <td>5</td>\n",
              "      <td>0</td>\n",
              "      <td>0</td>\n",
              "      <td>-1500</td>\n",
              "      <td>10</td>\n",
              "      <td>10</td>\n",
              "      <td>440</td>\n",
              "      <td>-11</td>\n",
              "      <td>-4.0</td>\n",
              "      <td>-8.5</td>\n",
              "      <td>-9.5</td>\n",
              "      <td>-7.0</td>\n",
              "      <td>-8.5</td>\n",
              "      <td>-9.5</td>\n",
              "      <td>-6.5</td>\n",
              "      <td>-2.0</td>\n",
              "      <td>-1.0</td>\n",
              "      <td>-3.5</td>\n",
              "      <td>-2.0</td>\n",
              "      <td>-1.0</td>\n",
              "      <td>-3.0</td>\n",
              "      <td>0.0</td>\n",
              "      <td>-1.0</td>\n",
              "      <td>0.0</td>\n",
              "      <td>0.0</td>\n",
              "      <td>0.0</td>\n",
              "      <td>2.9</td>\n",
              "      <td>5.4</td>\n",
              "      <td>2019-01-02</td>\n",
              "    </tr>\n",
              "    <tr>\n",
              "      <th>1</th>\n",
              "      <td>9602</td>\n",
              "      <td>11:01:15</td>\n",
              "      <td>11:14:29</td>\n",
              "      <td>00:13:14</td>\n",
              "      <td>02/01/2019</td>\n",
              "      <td>3874.5</td>\n",
              "      <td>3859.0</td>\n",
              "      <td>0.0</td>\n",
              "      <td>15.5</td>\n",
              "      <td>2</td>\n",
              "      <td>-15.5</td>\n",
              "      <td>120</td>\n",
              "      <td>135</td>\n",
              "      <td>57600</td>\n",
              "      <td>-2200</td>\n",
              "      <td>-13.5</td>\n",
              "      <td>24</td>\n",
              "      <td>460.0</td>\n",
              "      <td>460.0</td>\n",
              "      <td>460.0</td>\n",
              "      <td>460.0</td>\n",
              "      <td>480.0</td>\n",
              "      <td>6800.0</td>\n",
              "      <td>9000.0</td>\n",
              "      <td>11400.0</td>\n",
              "      <td>38.0</td>\n",
              "      <td>52.0</td>\n",
              "      <td>40.5</td>\n",
              "      <td>37.5</td>\n",
              "      <td>-13.0</td>\n",
              "      <td>-7.0</td>\n",
              "      <td>-4.0</td>\n",
              "      <td>-4.0</td>\n",
              "      <td>-4.0</td>\n",
              "      <td>-2.0</td>\n",
              "      <td>4</td>\n",
              "      <td>0.08</td>\n",
              "      <td>-68</td>\n",
              "      <td>-0.88</td>\n",
              "      <td>-64</td>\n",
              "      <td>...</td>\n",
              "      <td>33</td>\n",
              "      <td>37</td>\n",
              "      <td>36</td>\n",
              "      <td>27</td>\n",
              "      <td>34</td>\n",
              "      <td>41</td>\n",
              "      <td>200</td>\n",
              "      <td>700</td>\n",
              "      <td>500</td>\n",
              "      <td>5</td>\n",
              "      <td>0</td>\n",
              "      <td>5</td>\n",
              "      <td>0</td>\n",
              "      <td>-2800</td>\n",
              "      <td>-1500</td>\n",
              "      <td>90</td>\n",
              "      <td>6690</td>\n",
              "      <td>440</td>\n",
              "      <td>-12</td>\n",
              "      <td>-5.0</td>\n",
              "      <td>-10.5</td>\n",
              "      <td>-11.5</td>\n",
              "      <td>-8.5</td>\n",
              "      <td>-11.0</td>\n",
              "      <td>-11.5</td>\n",
              "      <td>-7.5</td>\n",
              "      <td>-2.0</td>\n",
              "      <td>-1.0</td>\n",
              "      <td>-4.0</td>\n",
              "      <td>-1.5</td>\n",
              "      <td>-1.0</td>\n",
              "      <td>-3.5</td>\n",
              "      <td>-0.5</td>\n",
              "      <td>-1.0</td>\n",
              "      <td>0.0</td>\n",
              "      <td>0.0</td>\n",
              "      <td>0.0</td>\n",
              "      <td>2.9</td>\n",
              "      <td>5.4</td>\n",
              "      <td>2019-01-02</td>\n",
              "    </tr>\n",
              "    <tr>\n",
              "      <th>2</th>\n",
              "      <td>9603</td>\n",
              "      <td>11:02:16</td>\n",
              "      <td>11:19:46</td>\n",
              "      <td>00:17:30</td>\n",
              "      <td>02/01/2019</td>\n",
              "      <td>3872.5</td>\n",
              "      <td>3858.0</td>\n",
              "      <td>0.0</td>\n",
              "      <td>14.5</td>\n",
              "      <td>2</td>\n",
              "      <td>-14.5</td>\n",
              "      <td>120</td>\n",
              "      <td>140</td>\n",
              "      <td>57600</td>\n",
              "      <td>-2400</td>\n",
              "      <td>-15.5</td>\n",
              "      <td>24</td>\n",
              "      <td>470.0</td>\n",
              "      <td>460.0</td>\n",
              "      <td>460.0</td>\n",
              "      <td>460.0</td>\n",
              "      <td>1160.0</td>\n",
              "      <td>6800.0</td>\n",
              "      <td>9000.0</td>\n",
              "      <td>11400.0</td>\n",
              "      <td>78.0</td>\n",
              "      <td>52.0</td>\n",
              "      <td>40.5</td>\n",
              "      <td>37.5</td>\n",
              "      <td>-16.0</td>\n",
              "      <td>-8.0</td>\n",
              "      <td>-5.0</td>\n",
              "      <td>-5.0</td>\n",
              "      <td>-4.0</td>\n",
              "      <td>-1.0</td>\n",
              "      <td>-54</td>\n",
              "      <td>-0.82</td>\n",
              "      <td>-70</td>\n",
              "      <td>-0.92</td>\n",
              "      <td>-68</td>\n",
              "      <td>...</td>\n",
              "      <td>19</td>\n",
              "      <td>38</td>\n",
              "      <td>29</td>\n",
              "      <td>25</td>\n",
              "      <td>34</td>\n",
              "      <td>36</td>\n",
              "      <td>200</td>\n",
              "      <td>200</td>\n",
              "      <td>1000</td>\n",
              "      <td>15</td>\n",
              "      <td>5</td>\n",
              "      <td>0</td>\n",
              "      <td>0</td>\n",
              "      <td>-400</td>\n",
              "      <td>-5500</td>\n",
              "      <td>20</td>\n",
              "      <td>110</td>\n",
              "      <td>19650</td>\n",
              "      <td>-14</td>\n",
              "      <td>-5.5</td>\n",
              "      <td>-11.5</td>\n",
              "      <td>-14.5</td>\n",
              "      <td>-9.5</td>\n",
              "      <td>-12.5</td>\n",
              "      <td>-14.5</td>\n",
              "      <td>-8.5</td>\n",
              "      <td>-2.5</td>\n",
              "      <td>0.5</td>\n",
              "      <td>-4.5</td>\n",
              "      <td>-2.0</td>\n",
              "      <td>0.5</td>\n",
              "      <td>-4.0</td>\n",
              "      <td>-1.0</td>\n",
              "      <td>-2.5</td>\n",
              "      <td>0.0</td>\n",
              "      <td>0.0</td>\n",
              "      <td>0.0</td>\n",
              "      <td>2.0</td>\n",
              "      <td>5.4</td>\n",
              "      <td>2019-01-02</td>\n",
              "    </tr>\n",
              "    <tr>\n",
              "      <th>3</th>\n",
              "      <td>9604</td>\n",
              "      <td>11:03:18</td>\n",
              "      <td>11:19:46</td>\n",
              "      <td>00:16:28</td>\n",
              "      <td>02/01/2019</td>\n",
              "      <td>3872.0</td>\n",
              "      <td>3858.0</td>\n",
              "      <td>0.0</td>\n",
              "      <td>14.0</td>\n",
              "      <td>2</td>\n",
              "      <td>-14.0</td>\n",
              "      <td>125</td>\n",
              "      <td>140</td>\n",
              "      <td>57600</td>\n",
              "      <td>-2400</td>\n",
              "      <td>-16.0</td>\n",
              "      <td>24</td>\n",
              "      <td>480.0</td>\n",
              "      <td>460.0</td>\n",
              "      <td>460.0</td>\n",
              "      <td>460.0</td>\n",
              "      <td>1720.0</td>\n",
              "      <td>6800.0</td>\n",
              "      <td>9000.0</td>\n",
              "      <td>11400.0</td>\n",
              "      <td>116.0</td>\n",
              "      <td>52.0</td>\n",
              "      <td>40.5</td>\n",
              "      <td>37.5</td>\n",
              "      <td>-16.0</td>\n",
              "      <td>-8.0</td>\n",
              "      <td>-5.0</td>\n",
              "      <td>-1.0</td>\n",
              "      <td>-1.0</td>\n",
              "      <td>-1.0</td>\n",
              "      <td>-64</td>\n",
              "      <td>-0.94</td>\n",
              "      <td>-68</td>\n",
              "      <td>-0.90</td>\n",
              "      <td>-68</td>\n",
              "      <td>...</td>\n",
              "      <td>18</td>\n",
              "      <td>33</td>\n",
              "      <td>28</td>\n",
              "      <td>26</td>\n",
              "      <td>31</td>\n",
              "      <td>35</td>\n",
              "      <td>-100</td>\n",
              "      <td>100</td>\n",
              "      <td>1000</td>\n",
              "      <td>0</td>\n",
              "      <td>5</td>\n",
              "      <td>0</td>\n",
              "      <td>-800</td>\n",
              "      <td>0</td>\n",
              "      <td>-5500</td>\n",
              "      <td>170</td>\n",
              "      <td>20</td>\n",
              "      <td>19650</td>\n",
              "      <td>-14</td>\n",
              "      <td>-4.5</td>\n",
              "      <td>-12.5</td>\n",
              "      <td>-15.0</td>\n",
              "      <td>-9.5</td>\n",
              "      <td>-13.0</td>\n",
              "      <td>-15.0</td>\n",
              "      <td>-9.5</td>\n",
              "      <td>-1.5</td>\n",
              "      <td>0.5</td>\n",
              "      <td>-5.0</td>\n",
              "      <td>-1.0</td>\n",
              "      <td>0.5</td>\n",
              "      <td>-5.0</td>\n",
              "      <td>-0.5</td>\n",
              "      <td>-2.5</td>\n",
              "      <td>0.0</td>\n",
              "      <td>0.0</td>\n",
              "      <td>0.0</td>\n",
              "      <td>1.8</td>\n",
              "      <td>5.4</td>\n",
              "      <td>2019-01-02</td>\n",
              "    </tr>\n",
              "    <tr>\n",
              "      <th>4</th>\n",
              "      <td>9605</td>\n",
              "      <td>11:04:39</td>\n",
              "      <td>11:19:46</td>\n",
              "      <td>00:15:07</td>\n",
              "      <td>02/01/2019</td>\n",
              "      <td>3872.0</td>\n",
              "      <td>3858.0</td>\n",
              "      <td>0.0</td>\n",
              "      <td>14.0</td>\n",
              "      <td>2</td>\n",
              "      <td>-14.0</td>\n",
              "      <td>125</td>\n",
              "      <td>140</td>\n",
              "      <td>60800</td>\n",
              "      <td>-2400</td>\n",
              "      <td>-16.0</td>\n",
              "      <td>24</td>\n",
              "      <td>480.0</td>\n",
              "      <td>460.0</td>\n",
              "      <td>460.0</td>\n",
              "      <td>460.0</td>\n",
              "      <td>680.0</td>\n",
              "      <td>6800.0</td>\n",
              "      <td>9000.0</td>\n",
              "      <td>11400.0</td>\n",
              "      <td>36.0</td>\n",
              "      <td>52.0</td>\n",
              "      <td>40.5</td>\n",
              "      <td>37.5</td>\n",
              "      <td>-16.0</td>\n",
              "      <td>-8.0</td>\n",
              "      <td>-5.0</td>\n",
              "      <td>-1.0</td>\n",
              "      <td>-1.0</td>\n",
              "      <td>-1.0</td>\n",
              "      <td>-64</td>\n",
              "      <td>-0.96</td>\n",
              "      <td>-66</td>\n",
              "      <td>-0.88</td>\n",
              "      <td>-68</td>\n",
              "      <td>...</td>\n",
              "      <td>21</td>\n",
              "      <td>37</td>\n",
              "      <td>29</td>\n",
              "      <td>23</td>\n",
              "      <td>38</td>\n",
              "      <td>36</td>\n",
              "      <td>0</td>\n",
              "      <td>100</td>\n",
              "      <td>1000</td>\n",
              "      <td>5</td>\n",
              "      <td>5</td>\n",
              "      <td>0</td>\n",
              "      <td>0</td>\n",
              "      <td>0</td>\n",
              "      <td>-5500</td>\n",
              "      <td>20</td>\n",
              "      <td>20</td>\n",
              "      <td>19650</td>\n",
              "      <td>-14</td>\n",
              "      <td>-3.5</td>\n",
              "      <td>-12.5</td>\n",
              "      <td>-15.0</td>\n",
              "      <td>-8.5</td>\n",
              "      <td>-12.5</td>\n",
              "      <td>-15.0</td>\n",
              "      <td>-10.5</td>\n",
              "      <td>-1.5</td>\n",
              "      <td>0.5</td>\n",
              "      <td>-5.5</td>\n",
              "      <td>-1.5</td>\n",
              "      <td>0.5</td>\n",
              "      <td>-5.0</td>\n",
              "      <td>0.0</td>\n",
              "      <td>-2.5</td>\n",
              "      <td>0.0</td>\n",
              "      <td>0.0</td>\n",
              "      <td>0.0</td>\n",
              "      <td>1.6</td>\n",
              "      <td>5.4</td>\n",
              "      <td>2019-01-02</td>\n",
              "    </tr>\n",
              "  </tbody>\n",
              "</table>\n",
              "<p>5 rows × 91 columns</p>\n",
              "</div>"
            ],
            "text/plain": [
              "   CodOp Hora Entrada Hora Saida  ... Item 76 Item 77  DataFormatada\n",
              "0   9601     11:00:14   11:14:14  ...     2.9     5.4     2019-01-02\n",
              "1   9602     11:01:15   11:14:29  ...     2.9     5.4     2019-01-02\n",
              "2   9603     11:02:16   11:19:46  ...     2.0     5.4     2019-01-02\n",
              "3   9604     11:03:18   11:19:46  ...     1.8     5.4     2019-01-02\n",
              "4   9605     11:04:39   11:19:46  ...     1.6     5.4     2019-01-02\n",
              "\n",
              "[5 rows x 91 columns]"
            ]
          },
          "metadata": {
            "tags": []
          },
          "execution_count": 3
        }
      ]
    },
    {
      "cell_type": "code",
      "metadata": {
        "id": "Y0NU0d09etBP",
        "colab_type": "code",
        "colab": {}
      },
      "source": [
        "#separa um mês em cada  dataframe e faz todas as operações de preparação do daframe criado\n",
        "variables = locals()\n",
        "for i in range(1,13):\n",
        "  mes = str(i).zfill(2)\n",
        "  variables[\"mes{0}\".format(mes)] = historic[historic['DataFormatada'].dt.month == i]\n",
        "  #separa o target e o código da operação\n",
        "  variables[\"target{0}\".format(mes)] = variables[\"mes{0}\".format(mes)][['CodOp', 'Resultado']].copy()\n",
        "  #indica o campo CodOp como índice nos 2 dataframes (para conferência futura)\n",
        "  variables[\"mes{0}\".format(mes)] = variables[\"mes{0}\".format(mes)].set_index('CodOp')\n",
        "  variables[\"target{0}\".format(mes)] = variables[\"target{0}\".format(mes)].set_index('CodOp')\n",
        "  #apaga o campo target do dataframe original e outros campos já definidos como não necessários\n",
        "  variables[\"mes{0}\".format(mes)] = variables[\"mes{0}\".format(mes)].drop(['Resultado', 'Hora Entrada', 'Hora Saida',\n",
        "                                                                          'Duração', 'Data', 'Pentrada', 'Psaida', 'Ganhos',\n",
        "                                                                          'Perdas', 'Saldo Trade', 'K entra', 'K Saida', 'DataFormatada'], axis=1)"
      ],
      "execution_count": null,
      "outputs": []
    },
    {
      "cell_type": "markdown",
      "metadata": {
        "id": "I8F3MP9kEwiM",
        "colab_type": "text"
      },
      "source": [
        "# Criando um arquivo separado com base no mês para teste"
      ]
    },
    {
      "cell_type": "code",
      "metadata": {
        "id": "viwaY_ZVcXyl",
        "colab_type": "code",
        "colab": {}
      },
      "source": [
        "#escolhas dos meses para tratar\n",
        "mesesTreino = ['01', '02', '03', '04', '05', '06', '07', '08', '09', '10', '11'] #train\n",
        "mesValidacao = '12' #test"
      ],
      "execution_count": null,
      "outputs": []
    },
    {
      "cell_type": "code",
      "metadata": {
        "id": "U267JxQ7co9i",
        "colab_type": "code",
        "colab": {
          "base_uri": "https://localhost:8080/",
          "height": 85
        },
        "outputId": "42292d86-a954-4183-a99b-90c9c573163d"
      },
      "source": [
        "#prepara os datasets de acordo com os meses informados\n",
        "variables = locals()\n",
        "X_train = variables[\"mes{}\".format(mesesTreino[0])].copy()\n",
        "for i in range(1, len(mesesTreino)):\n",
        "  X_train = X_train.append(variables[\"mes{}\".format(mesesTreino[i])])\n",
        "print(X_train.shape)\n",
        "\n",
        "X_test = variables[\"mes{}\".format(mesValidacao)].copy()\n",
        "print(X_test.shape)\n",
        "\n",
        "#e também dos objetivos para validação\n",
        "y_train = variables[\"target{}\".format(mesesTreino[0])].copy()\n",
        "for i in range(1, len(mesesTreino)):\n",
        "  y_train = y_train.append(variables[\"target{}\".format(mesesTreino[i])])\n",
        "print(y_train.shape)\n",
        "\n",
        "y_test = variables[\"target{}\".format(mesValidacao)].copy()\n",
        "print(y_test.shape)\n",
        "#converte em array\n",
        "y_test = y_test.values.ravel()"
      ],
      "execution_count": null,
      "outputs": [
        {
          "output_type": "stream",
          "text": [
            "(36102, 77)\n",
            "(2966, 77)\n",
            "(36102, 1)\n",
            "(2966, 1)\n"
          ],
          "name": "stdout"
        }
      ]
    },
    {
      "cell_type": "markdown",
      "metadata": {
        "id": "6tirV7EfFNGL",
        "colab_type": "text"
      },
      "source": [
        "# Modelagem"
      ]
    },
    {
      "cell_type": "code",
      "metadata": {
        "id": "ckOdL07AgUaJ",
        "colab_type": "code",
        "colab": {}
      },
      "source": [
        "#definição de parâmetros para todos os classificadores\n",
        "estimadores = 200\n",
        "quantidadeValidacaoCruzada = 30"
      ],
      "execution_count": null,
      "outputs": []
    },
    {
      "cell_type": "code",
      "metadata": {
        "id": "l--Hx-lwho53",
        "colab_type": "code",
        "colab": {}
      },
      "source": [
        "#define a apresentação dos resultados das modelagens\n",
        "def mostraResultado(y_test, valoresPrevistos):\n",
        "  #lista quantidade de acertos\n",
        "  contaOk = 0\n",
        "  contaNao = 0\n",
        "  contaDesconsiderados = 0\n",
        "  for i in range(0, len(y_test)):\n",
        "    if valoresPrevistos[i] == 1  and y_test[i] == 1:\n",
        "      contaOk += 1\n",
        "    elif valoresPrevistos[i] == 1  and y_test[i] == 2:\n",
        "      contaNao += 1\n",
        "    else:\n",
        "      contaDesconsiderados += 1\n",
        "\n",
        "  print(\"Quantidade de resultados OK: {}\\nQuantidade de resultados Não: {}\".format(contaOk, contaNao))\n",
        "  print(\"Percentual de acertos: {:.1f}%\".format(contaOk/(contaOk+contaNao)*100))\n",
        "  print(\"Quantidade de resultados desconsiderados: {}\".format(contaDesconsiderados))"
      ],
      "execution_count": null,
      "outputs": []
    },
    {
      "cell_type": "code",
      "metadata": {
        "id": "j7mrS5_SFP4T",
        "colab_type": "code",
        "colab": {}
      },
      "source": [
        "#faz a função para gerar modelo 1\n",
        "def rfc_test(X_train, y_train, n_estimators, cv):\n",
        "  np.random.seed(1)\n",
        "  rfc = RandomForestClassifier(n_estimators=n_estimators, random_state=0, n_jobs=-1, criterion='entropy', verbose=0)\n",
        "  cv_scores = cross_val_score(rfc, X_train, y_train, scoring='roc_auc', cv=cv, n_jobs=-1)\n",
        "  print('Média dos {} testes: '.format(cv), cv_scores.mean())\n",
        "  return rfc"
      ],
      "execution_count": null,
      "outputs": []
    },
    {
      "cell_type": "code",
      "metadata": {
        "id": "3nQtPnTAFYPD",
        "colab_type": "code",
        "colab": {
          "base_uri": "https://localhost:8080/",
          "height": 34
        },
        "outputId": "85a5d0ed-eae6-4ee0-db58-d7966dfda47a"
      },
      "source": [
        "#gera o modelo\n",
        "model = rfc_test(X_train, y_train, cv=quantidadeValidacaoCruzada, n_estimators=estimadores)"
      ],
      "execution_count": null,
      "outputs": [
        {
          "output_type": "stream",
          "text": [
            "Média dos 30 testes:  0.37786731240156696\n"
          ],
          "name": "stdout"
        }
      ]
    },
    {
      "cell_type": "code",
      "metadata": {
        "id": "QQS0wMb6IJ8g",
        "colab_type": "code",
        "colab": {
          "base_uri": "https://localhost:8080/",
          "height": 153
        },
        "outputId": "b609ec64-d968-4648-a416-f17780968456"
      },
      "source": [
        "#fit modelo\n",
        "model.fit(X_train, y_train.values.ravel())"
      ],
      "execution_count": null,
      "outputs": [
        {
          "output_type": "execute_result",
          "data": {
            "text/plain": [
              "RandomForestClassifier(bootstrap=True, ccp_alpha=0.0, class_weight=None,\n",
              "                       criterion='entropy', max_depth=None, max_features='auto',\n",
              "                       max_leaf_nodes=None, max_samples=None,\n",
              "                       min_impurity_decrease=0.0, min_impurity_split=None,\n",
              "                       min_samples_leaf=1, min_samples_split=2,\n",
              "                       min_weight_fraction_leaf=0.0, n_estimators=200,\n",
              "                       n_jobs=-1, oob_score=False, random_state=0, verbose=0,\n",
              "                       warm_start=False)"
            ]
          },
          "metadata": {
            "tags": []
          },
          "execution_count": 11
        }
      ]
    },
    {
      "cell_type": "code",
      "metadata": {
        "id": "8fMmigf-IoCu",
        "colab_type": "code",
        "colab": {
          "base_uri": "https://localhost:8080/",
          "height": 85
        },
        "outputId": "0bc71eeb-2f44-47a5-eb68-6ffdf2302dd2"
      },
      "source": [
        "#faz predição com dados de validacao\n",
        "valoresPrevistos = model.predict(X_test)\n",
        "#resultado = 1 ou 2\n",
        "mostraResultado(y_test, valoresPrevistos)"
      ],
      "execution_count": null,
      "outputs": [
        {
          "output_type": "stream",
          "text": [
            "Quantidade de resultados OK: 526\n",
            "Quantidade de resultados Não: 1129\n",
            "Percentual de acertos: 31.8%\n",
            "Quantidade de resultados desconsiderados: 1311\n"
          ],
          "name": "stdout"
        }
      ]
    },
    {
      "cell_type": "code",
      "metadata": {
        "id": "e4WJodpdTnQ1",
        "colab_type": "code",
        "colab": {
          "base_uri": "https://localhost:8080/",
          "height": 312
        },
        "outputId": "9b1ed7da-cd09-41ce-c7dd-cf9b24309e43"
      },
      "source": [
        "#gera uma matriz de confusão\n",
        "cm = confusion_matrix(y_test, valoresPrevistos)\n",
        "x_axis_labels = [1, 2]\n",
        "y_axis_labels = [1, 2]\n",
        "sns.heatmap(cm, annot=True, cmap='Blues', fmt='g', xticklabels=x_axis_labels, yticklabels=y_axis_labels)\n",
        "plt.title('Matriz de Confusão')\n",
        "plt.ylabel('Real')\n",
        "plt.xlabel('Previsão')\n"
      ],
      "execution_count": null,
      "outputs": [
        {
          "output_type": "execute_result",
          "data": {
            "text/plain": [
              "Text(0.5, 15.0, 'Previsão')"
            ]
          },
          "metadata": {
            "tags": []
          },
          "execution_count": 13
        },
        {
          "output_type": "display_data",
          "data": {
            "image/png": "[encoded data removed]",
            "text/plain": [
              "<Figure size 432x288 with 2 Axes>"
            ]
          },
          "metadata": {
            "tags": [],
            "needs_background": "light"
          }
        }
      ]
    },
    {
      "cell_type": "code",
      "metadata": {
        "id": "Vbqqko1YdZoF",
        "colab_type": "code",
        "colab": {}
      },
      "source": [
        "#faz a função para gerar modelo 2\n",
        "def abc_test(X_train, y_train, n_estimators, cv):\n",
        "  np.random.seed(1)\n",
        "  abc = AdaBoostClassifier(random_state=2, n_estimators=n_estimators, algorithm='SAMME') \n",
        "  cv_scores = cross_val_score(abc, X_train, y_train, scoring='roc_auc', cv=cv, n_jobs=-1)\n",
        "  print('Média dos {} testes: '.format(cv), cv_scores.mean())\n",
        "  return abc"
      ],
      "execution_count": null,
      "outputs": []
    },
    {
      "cell_type": "code",
      "metadata": {
        "id": "XHVF2FDWdnmc",
        "colab_type": "code",
        "colab": {
          "base_uri": "https://localhost:8080/",
          "height": 34
        },
        "outputId": "d4696f7b-d712-4487-b31e-117511af83e0"
      },
      "source": [
        "#gera o modelo\n",
        "model = abc_test(X_train, y_train, cv=quantidadeValidacaoCruzada, n_estimators=estimadores)"
      ],
      "execution_count": null,
      "outputs": [
        {
          "output_type": "stream",
          "text": [
            "Média dos 30 testes:  0.48062462173343395\n"
          ],
          "name": "stdout"
        }
      ]
    },
    {
      "cell_type": "code",
      "metadata": {
        "id": "kOUzr8ZYd5XU",
        "colab_type": "code",
        "colab": {
          "base_uri": "https://localhost:8080/",
          "height": 51
        },
        "outputId": "4cbaca2b-087a-403f-91e4-a26426767d12"
      },
      "source": [
        "#fit modelo\n",
        "model.fit(X_train, y_train.values.ravel())"
      ],
      "execution_count": null,
      "outputs": [
        {
          "output_type": "execute_result",
          "data": {
            "text/plain": [
              "AdaBoostClassifier(algorithm='SAMME', base_estimator=None, learning_rate=1.0,\n",
              "                   n_estimators=200, random_state=2)"
            ]
          },
          "metadata": {
            "tags": []
          },
          "execution_count": 16
        }
      ]
    },
    {
      "cell_type": "code",
      "metadata": {
        "id": "p7-mwpJ6d9jr",
        "colab_type": "code",
        "colab": {
          "base_uri": "https://localhost:8080/",
          "height": 85
        },
        "outputId": "776c3a38-6c23-4f9c-f7e8-2a0f0165be71"
      },
      "source": [
        "#faz predição com dados de validacao\n",
        "valoresPrevistos = model.predict(X_test)\n",
        "#resultado = 1 ou 2\n",
        "mostraResultado(y_test, valoresPrevistos)"
      ],
      "execution_count": null,
      "outputs": [
        {
          "output_type": "stream",
          "text": [
            "Quantidade de resultados OK: 395\n",
            "Quantidade de resultados Não: 901\n",
            "Percentual de acertos: 30.5%\n",
            "Quantidade de resultados desconsiderados: 1670\n"
          ],
          "name": "stdout"
        }
      ]
    },
    {
      "cell_type": "code",
      "metadata": {
        "id": "nalXWmkAeDqz",
        "colab_type": "code",
        "colab": {}
      },
      "source": [
        "#faz a função para gerar modelo 3\n",
        "def gbc_test(X_train, y_train, n_estimators, cv):\n",
        "  np.random.seed(1)\n",
        "  gbc = GradientBoostingClassifier(random_state=2, n_estimators=n_estimators) \n",
        "  cv_scores = cross_val_score(gbc, X_train, y_train, scoring='roc_auc', cv=cv, n_jobs=-1)\n",
        "  print('Média dos {} testes: '.format(cv), cv_scores.mean())\n",
        "  return gbc"
      ],
      "execution_count": null,
      "outputs": []
    },
    {
      "cell_type": "code",
      "metadata": {
        "id": "kDktlVtOeQWN",
        "colab_type": "code",
        "colab": {
          "base_uri": "https://localhost:8080/",
          "height": 34
        },
        "outputId": "94103352-24be-4aec-f06c-f3d7eda54b04"
      },
      "source": [
        "#gera o modelo\n",
        "model = gbc_test(X_train, y_train, cv=quantidadeValidacaoCruzada, n_estimators=estimadores)"
      ],
      "execution_count": null,
      "outputs": [
        {
          "output_type": "stream",
          "text": [
            "Média dos 30 testes:  0.42336680575660546\n"
          ],
          "name": "stdout"
        }
      ]
    },
    {
      "cell_type": "code",
      "metadata": {
        "id": "QWR8AvJYeTCD",
        "colab_type": "code",
        "colab": {
          "base_uri": "https://localhost:8080/",
          "height": 187
        },
        "outputId": "daccebe7-9107-4297-b6bb-0a22042d2912"
      },
      "source": [
        "#fit modelo\n",
        "model.fit(X_train, y_train.values.ravel())"
      ],
      "execution_count": null,
      "outputs": [
        {
          "output_type": "execute_result",
          "data": {
            "text/plain": [
              "GradientBoostingClassifier(ccp_alpha=0.0, criterion='friedman_mse', init=None,\n",
              "                           learning_rate=0.1, loss='deviance', max_depth=3,\n",
              "                           max_features=None, max_leaf_nodes=None,\n",
              "                           min_impurity_decrease=0.0, min_impurity_split=None,\n",
              "                           min_samples_leaf=1, min_samples_split=2,\n",
              "                           min_weight_fraction_leaf=0.0, n_estimators=200,\n",
              "                           n_iter_no_change=None, presort='deprecated',\n",
              "                           random_state=2, subsample=1.0, tol=0.0001,\n",
              "                           validation_fraction=0.1, verbose=0,\n",
              "                           warm_start=False)"
            ]
          },
          "metadata": {
            "tags": []
          },
          "execution_count": 20
        }
      ]
    },
    {
      "cell_type": "code",
      "metadata": {
        "id": "1GJItMpgeVbT",
        "colab_type": "code",
        "colab": {
          "base_uri": "https://localhost:8080/",
          "height": 85
        },
        "outputId": "8dbdc4b3-15df-4e27-df50-aedd9877eab6"
      },
      "source": [
        "#faz predição com dados de validacao\n",
        "valoresPrevistos = model.predict(X_test)\n",
        "#resultado = 1 ou 2\n",
        "mostraResultado(y_test, valoresPrevistos)"
      ],
      "execution_count": null,
      "outputs": [
        {
          "output_type": "stream",
          "text": [
            "Quantidade de resultados OK: 534\n",
            "Quantidade de resultados Não: 1162\n",
            "Percentual de acertos: 31.5%\n",
            "Quantidade de resultados desconsiderados: 1270\n"
          ],
          "name": "stdout"
        }
      ]
    },
    {
      "cell_type": "code",
      "metadata": {
        "id": "uQ_Ju-Ov5IFy",
        "colab_type": "code",
        "colab": {
          "base_uri": "https://localhost:8080/",
          "height": 496
        },
        "outputId": "33ee42d5-316d-4e68-95be-5e56876a45c8"
      },
      "source": [
        "#faz a função para gerar modelo 4 com rede neural Keras\n",
        "model = keras.Sequential([\n",
        "    keras.layers.Dense(128, activation='relu'),\n",
        "    keras.layers.Dense(10, activation='softmax')\n",
        "])\n",
        "model.compile(optimizer='adam',\n",
        "              loss='sparse_categorical_crossentropy',\n",
        "              metrics=['accuracy'])\n",
        "model.fit(X_train, y_train, epochs=10)\n"
      ],
      "execution_count": null,
      "outputs": [
        {
          "output_type": "stream",
          "text": [
            "Epoch 1/10\n",
            "WARNING:tensorflow:Layer dense is casting an input tensor from dtype float64 to the layer's dtype of float32, which is new behavior in TensorFlow 2.  The layer has dtype float32 because it's dtype defaults to floatx.\n",
            "\n",
            "If you intended to run this layer in float32, you can safely ignore this warning. If in doubt, this warning is likely only an issue if you are porting a TensorFlow 1.X model to TensorFlow 2.\n",
            "\n",
            "To change all layers to have dtype float64 by default, call `tf.keras.backend.set_floatx('float64')`. To change just this layer, pass dtype='float64' to the layer constructor. If you are the author of this layer, you can disable autocasting by passing autocast=False to the base Layer constructor.\n",
            "\n",
            "1129/1129 [==============================] - 2s 2ms/step - loss: 609.6044 - accuracy: 0.5038\n",
            "Epoch 2/10\n",
            "1129/1129 [==============================] - 2s 1ms/step - loss: 174.3777 - accuracy: 0.5106\n",
            "Epoch 3/10\n",
            "1129/1129 [==============================] - 2s 1ms/step - loss: 190.1673 - accuracy: 0.5088\n",
            "Epoch 4/10\n",
            "1129/1129 [==============================] - 2s 1ms/step - loss: 159.0345 - accuracy: 0.5119\n",
            "Epoch 5/10\n",
            "1129/1129 [==============================] - 2s 1ms/step - loss: 140.6114 - accuracy: 0.5100\n",
            "Epoch 6/10\n",
            "1129/1129 [==============================] - 2s 1ms/step - loss: 128.3135 - accuracy: 0.5072\n",
            "Epoch 7/10\n",
            "1129/1129 [==============================] - 2s 1ms/step - loss: 128.1409 - accuracy: 0.5112\n",
            "Epoch 8/10\n",
            "1129/1129 [==============================] - 2s 1ms/step - loss: 135.7065 - accuracy: 0.5101\n",
            "Epoch 9/10\n",
            "1129/1129 [==============================] - 2s 2ms/step - loss: 106.2263 - accuracy: 0.5148\n",
            "Epoch 10/10\n",
            "1129/1129 [==============================] - 2s 2ms/step - loss: 95.4358 - accuracy: 0.5146\n"
          ],
          "name": "stdout"
        },
        {
          "output_type": "execute_result",
          "data": {
            "text/plain": [
              "<tensorflow.python.keras.callbacks.History at 0x7febb44dbd68>"
            ]
          },
          "metadata": {
            "tags": []
          },
          "execution_count": 24
        }
      ]
    },
    {
      "cell_type": "code",
      "metadata": {
        "id": "nzmJ8zuO5rJA",
        "colab_type": "code",
        "colab": {
          "base_uri": "https://localhost:8080/",
          "height": 68
        },
        "outputId": "bd219699-ed38-4fd3-f58a-29ab5efcf8c0"
      },
      "source": [
        "test_loss, test_acc = model.evaluate(X_test,  y_test, verbose=2)\n",
        "print('\\nTest accuracy:', test_acc)"
      ],
      "execution_count": null,
      "outputs": [
        {
          "output_type": "stream",
          "text": [
            "93/93 - 0s - loss: 161.7108 - accuracy: 0.3655\n",
            "\n",
            "Test accuracy: 0.3654753863811493\n"
          ],
          "name": "stdout"
        }
      ]
    },
    {
      "cell_type": "code",
      "metadata": {
        "id": "k1XpUnap6gKY",
        "colab_type": "code",
        "colab": {
          "base_uri": "https://localhost:8080/",
          "height": 1000
        },
        "outputId": "52f4055e-1688-43b2-b310-a4d0786e1fd8"
      },
      "source": [
        "#faz a função para gerar modelo 5 com rede neural keras\n",
        "model = Sequential()\n",
        "model.add(Dense(288, activation='relu', input_dim=77))\n",
        "model.add(Dense(288, activation='relu'))\n",
        "model.add(Dense(144, activation='relu'))\n",
        "model.add(Dense(144, activation='relu'))\n",
        "model.add(Dense(units=1, activation='sigmoid'))\n",
        "model.summary()\n",
        "model.compile(optimizer='rmsprop', loss='binary_crossentropy',\n",
        "metrics=['accuracy'])\n",
        "\n",
        "history = model.fit(X_train, y_train, epochs=200, batch_size=500, validation_data=(X_test, y_test))\n"
      ],
      "execution_count": null,
      "outputs": [
        {
          "output_type": "stream",
          "text": [
            "Model: \"sequential_8\"\n",
            "_________________________________________________________________\n",
            "Layer (type)                 Output Shape              Param #   \n",
            "=================================================================\n",
            "dense_25 (Dense)             (None, 288)               22464     \n",
            "_________________________________________________________________\n",
            "dense_26 (Dense)             (None, 288)               83232     \n",
            "_________________________________________________________________\n",
            "dense_27 (Dense)             (None, 144)               41616     \n",
            "_________________________________________________________________\n",
            "dense_28 (Dense)             (None, 144)               20880     \n",
            "_________________________________________________________________\n",
            "dense_29 (Dense)             (None, 1)                 145       \n",
            "=================================================================\n",
            "Total params: 168,337\n",
            "Trainable params: 168,337\n",
            "Non-trainable params: 0\n",
            "_________________________________________________________________\n",
            "Train on 36102 samples, validate on 2966 samples\n",
            "Epoch 1/200\n",
            "36102/36102 [==============================] - 1s 37us/step - loss: -230177930.1225 - accuracy: 0.4803 - val_loss: -1174394405.8908 - val_accuracy: 0.3618\n",
            "Epoch 2/200\n",
            "36102/36102 [==============================] - 1s 33us/step - loss: -6117018434.2585 - accuracy: 0.4872 - val_loss: -16546400425.8611 - val_accuracy: 0.3618\n",
            "Epoch 3/200\n",
            "36102/36102 [==============================] - 1s 34us/step - loss: -41669571593.3601 - accuracy: 0.4872 - val_loss: -85824629941.5995 - val_accuracy: 0.3618\n",
            "Epoch 4/200\n",
            "36102/36102 [==============================] - 1s 34us/step - loss: -161101894018.8860 - accuracy: 0.4872 - val_loss: -285313288718.1551 - val_accuracy: 0.3618\n",
            "Epoch 5/200\n",
            "36102/36102 [==============================] - 1s 32us/step - loss: -458779760346.7154 - accuracy: 0.4872 - val_loss: -738681348598.6783 - val_accuracy: 0.3618\n",
            "Epoch 6/200\n",
            "36102/36102 [==============================] - 1s 32us/step - loss: -1077510550068.3317 - accuracy: 0.4872 - val_loss: -1626298585808.8740 - val_accuracy: 0.3618\n",
            "Epoch 7/200\n",
            "36102/36102 [==============================] - 1s 34us/step - loss: -2229684508712.7310 - accuracy: 0.4872 - val_loss: -3203295985166.8457 - val_accuracy: 0.3618\n",
            "Epoch 8/200\n",
            "36102/36102 [==============================] - 1s 36us/step - loss: -4182374427729.6318 - accuracy: 0.4872 - val_loss: -5801281585682.2979 - val_accuracy: 0.3618\n",
            "Epoch 9/200\n",
            "36102/36102 [==============================] - 2s 48us/step - loss: -7297965177029.3008 - accuracy: 0.4872 - val_loss: -9816975360055.2402 - val_accuracy: 0.3618\n",
            "Epoch 10/200\n",
            "36102/36102 [==============================] - 2s 42us/step - loss: -12024342624026.7051 - accuracy: 0.4872 - val_loss: -15809981222815.3301 - val_accuracy: 0.3618\n",
            "Epoch 11/200\n",
            "36102/36102 [==============================] - 1s 39us/step - loss: -18884282848678.1133 - accuracy: 0.4872 - val_loss: -24326074914008.1289 - val_accuracy: 0.3618\n",
            "Epoch 12/200\n",
            "36102/36102 [==============================] - 2s 42us/step - loss: -28500732956697.6406 - accuracy: 0.4872 - val_loss: -36169716813627.8984 - val_accuracy: 0.3618\n",
            "Epoch 13/200\n",
            "36102/36102 [==============================] - 1s 35us/step - loss: -41676851268677.3828 - accuracy: 0.4872 - val_loss: -52237315111833.1172 - val_accuracy: 0.3618\n",
            "Epoch 14/200\n",
            "36102/36102 [==============================] - 1s 33us/step - loss: -59321425537483.3828 - accuracy: 0.4872 - val_loss: -73320366299189.8594 - val_accuracy: 0.3618\n",
            "Epoch 15/200\n",
            "36102/36102 [==============================] - 1s 34us/step - loss: -82460210562254.7656 - accuracy: 0.4872 - val_loss: -100827975128070.2188 - val_accuracy: 0.3618\n",
            "Epoch 16/200\n",
            "36102/36102 [==============================] - 1s 36us/step - loss: -112265876662748.6250 - accuracy: 0.4872 - val_loss: -136065517257609.9219 - val_accuracy: 0.3618\n",
            "Epoch 17/200\n",
            "36102/36102 [==============================] - 1s 38us/step - loss: -149987814671040.3438 - accuracy: 0.4872 - val_loss: -180398537331950.2500 - val_accuracy: 0.3618\n",
            "Epoch 18/200\n",
            "36102/36102 [==============================] - 1s 38us/step - loss: -197188421215984.7188 - accuracy: 0.4872 - val_loss: -235303745132697.2812 - val_accuracy: 0.3618\n",
            "Epoch 19/200\n",
            "36102/36102 [==============================] - 1s 40us/step - loss: -255521470083570.0938 - accuracy: 0.4872 - val_loss: -302829590692690.6875 - val_accuracy: 0.3618\n",
            "Epoch 20/200\n",
            "36102/36102 [==============================] - 1s 40us/step - loss: -326692741801409.5625 - accuracy: 0.4872 - val_loss: -385039490356583.7500 - val_accuracy: 0.3618\n",
            "Epoch 21/200\n",
            "36102/36102 [==============================] - 1s 38us/step - loss: -413163541190605.0625 - accuracy: 0.4872 - val_loss: -484171038120321.3125 - val_accuracy: 0.3618\n",
            "Epoch 22/200\n",
            "36102/36102 [==============================] - 1s 39us/step - loss: -516333105304701.3750 - accuracy: 0.4872 - val_loss: -602688417823619.0000 - val_accuracy: 0.3618\n",
            "Epoch 23/200\n",
            "36102/36102 [==============================] - 1s 39us/step - loss: -640346347094220.2500 - accuracy: 0.4872 - val_loss: -743387011003624.7500 - val_accuracy: 0.3618\n",
            "Epoch 24/200\n",
            "36102/36102 [==============================] - 1s 35us/step - loss: -785884184517474.7500 - accuracy: 0.4872 - val_loss: -909034499979931.0000 - val_accuracy: 0.3618\n",
            "Epoch 25/200\n",
            "36102/36102 [==============================] - 1s 37us/step - loss: -956904126436580.7500 - accuracy: 0.4872 - val_loss: -1102427135039497.6250 - val_accuracy: 0.3618\n",
            "Epoch 26/200\n",
            "36102/36102 [==============================] - 1s 37us/step - loss: -1156512208678007.0000 - accuracy: 0.4872 - val_loss: -1327214866156841.5000 - val_accuracy: 0.3618\n",
            "Epoch 27/200\n",
            "36102/36102 [==============================] - 1s 37us/step - loss: -1388052065512331.0000 - accuracy: 0.4872 - val_loss: -1588345617882876.2500 - val_accuracy: 0.3618\n",
            "Epoch 28/200\n",
            "36102/36102 [==============================] - 1s 37us/step - loss: -1654440085770821.0000 - accuracy: 0.4872 - val_loss: -1886673688590439.5000 - val_accuracy: 0.3618\n",
            "Epoch 29/200\n",
            "36102/36102 [==============================] - 1s 37us/step - loss: -1959588247693200.5000 - accuracy: 0.4872 - val_loss: -2229910483628327.5000 - val_accuracy: 0.3618\n",
            "Epoch 30/200\n",
            "36102/36102 [==============================] - 1s 41us/step - loss: -2310434473766121.5000 - accuracy: 0.4872 - val_loss: -2621726714770200.5000 - val_accuracy: 0.3618\n",
            "Epoch 31/200\n",
            "36102/36102 [==============================] - 1s 40us/step - loss: -2707486200814789.5000 - accuracy: 0.4872 - val_loss: -3063464089941280.0000 - val_accuracy: 0.3618\n",
            "Epoch 32/200\n",
            "36102/36102 [==============================] - 1s 40us/step - loss: -3157303495593923.5000 - accuracy: 0.4872 - val_loss: -3564001895524629.5000 - val_accuracy: 0.3618\n",
            "Epoch 33/200\n",
            "36102/36102 [==============================] - 1s 36us/step - loss: -3664457708662643.5000 - accuracy: 0.4872 - val_loss: -4129350450795382.5000 - val_accuracy: 0.3618\n",
            "Epoch 34/200\n",
            "36102/36102 [==============================] - 1s 35us/step - loss: -4235273731998423.5000 - accuracy: 0.4872 - val_loss: -4762740408867002.0000 - val_accuracy: 0.3618\n",
            "Epoch 35/200\n",
            "36102/36102 [==============================] - 1s 33us/step - loss: -4877258529965455.0000 - accuracy: 0.4872 - val_loss: -5471443632483035.0000 - val_accuracy: 0.3618\n",
            "Epoch 36/200\n",
            "36102/36102 [==============================] - 1s 34us/step - loss: -5592103485953614.0000 - accuracy: 0.4872 - val_loss: -6263981340016893.0000 - val_accuracy: 0.3618\n",
            "Epoch 37/200\n",
            "36102/36102 [==============================] - 1s 35us/step - loss: -6390015308889148.0000 - accuracy: 0.4872 - val_loss: -7141501078743319.0000 - val_accuracy: 0.3618\n",
            "Epoch 38/200\n",
            "36102/36102 [==============================] - 1s 33us/step - loss: -7274277484882066.0000 - accuracy: 0.4872 - val_loss: -8121050405774733.0000 - val_accuracy: 0.3618\n",
            "Epoch 39/200\n",
            "36102/36102 [==============================] - 1s 33us/step - loss: -8253636716228542.0000 - accuracy: 0.4872 - val_loss: -9194094003993508.0000 - val_accuracy: 0.3618\n",
            "Epoch 40/200\n",
            "36102/36102 [==============================] - 1s 34us/step - loss: -9333116862917840.0000 - accuracy: 0.4872 - val_loss: -10384097534016298.0000 - val_accuracy: 0.3618\n",
            "Epoch 41/200\n",
            "36102/36102 [==============================] - 1s 33us/step - loss: -10518992124339258.0000 - accuracy: 0.4872 - val_loss: -11688625395695860.0000 - val_accuracy: 0.3618\n",
            "Epoch 42/200\n",
            "36102/36102 [==============================] - 1s 34us/step - loss: -11830911280506534.0000 - accuracy: 0.4872 - val_loss: -13126398485169254.0000 - val_accuracy: 0.3618\n",
            "Epoch 43/200\n",
            "36102/36102 [==============================] - 1s 34us/step - loss: -13272721336077430.0000 - accuracy: 0.4872 - val_loss: -14705805145078172.0000 - val_accuracy: 0.3618\n",
            "Epoch 44/200\n",
            "36102/36102 [==============================] - 1s 35us/step - loss: -14847714357251976.0000 - accuracy: 0.4872 - val_loss: -16422752303447004.0000 - val_accuracy: 0.3618\n",
            "Epoch 45/200\n",
            "36102/36102 [==============================] - 1s 33us/step - loss: -16564171139125112.0000 - accuracy: 0.4872 - val_loss: -18311585202767104.0000 - val_accuracy: 0.3618\n",
            "Epoch 46/200\n",
            "36102/36102 [==============================] - 1s 35us/step - loss: -18434943111463524.0000 - accuracy: 0.4872 - val_loss: -20349625844453092.0000 - val_accuracy: 0.3618\n",
            "Epoch 47/200\n",
            "36102/36102 [==============================] - 1s 33us/step - loss: -20467580273157984.0000 - accuracy: 0.4872 - val_loss: -22572165307217216.0000 - val_accuracy: 0.3618\n",
            "Epoch 48/200\n",
            "36102/36102 [==============================] - 1s 34us/step - loss: -22697578411108696.0000 - accuracy: 0.4872 - val_loss: -24995213493630440.0000 - val_accuracy: 0.3618\n",
            "Epoch 49/200\n",
            "36102/36102 [==============================] - 1s 33us/step - loss: -25089260247316524.0000 - accuracy: 0.4872 - val_loss: -27607655633622796.0000 - val_accuracy: 0.3618\n",
            "Epoch 50/200\n",
            "36102/36102 [==============================] - 1s 34us/step - loss: -27697470389866424.0000 - accuracy: 0.4872 - val_loss: -30450593688136356.0000 - val_accuracy: 0.3618\n",
            "Epoch 51/200\n",
            "36102/36102 [==============================] - 1s 35us/step - loss: -30505467484283916.0000 - accuracy: 0.4872 - val_loss: -33499622081842340.0000 - val_accuracy: 0.3618\n",
            "Epoch 52/200\n",
            "36102/36102 [==============================] - 1s 36us/step - loss: -33547765777476708.0000 - accuracy: 0.4872 - val_loss: -36819714241563736.0000 - val_accuracy: 0.3618\n",
            "Epoch 53/200\n",
            "36102/36102 [==============================] - 1s 35us/step - loss: -36820810042275576.0000 - accuracy: 0.4872 - val_loss: -40377568233329008.0000 - val_accuracy: 0.3618\n",
            "Epoch 54/200\n",
            "36102/36102 [==============================] - 1s 36us/step - loss: -40359844811956872.0000 - accuracy: 0.4872 - val_loss: -44202025919536480.0000 - val_accuracy: 0.3618\n",
            "Epoch 55/200\n",
            "36102/36102 [==============================] - 1s 36us/step - loss: -44133422869429864.0000 - accuracy: 0.4872 - val_loss: -48309658642301160.0000 - val_accuracy: 0.3618\n",
            "Epoch 56/200\n",
            "36102/36102 [==============================] - 1s 35us/step - loss: -48217553760630368.0000 - accuracy: 0.4872 - val_loss: -52727824465769840.0000 - val_accuracy: 0.3618\n",
            "Epoch 57/200\n",
            "36102/36102 [==============================] - 1s 34us/step - loss: -52573081224506232.0000 - accuracy: 0.4872 - val_loss: -57462350253041872.0000 - val_accuracy: 0.3618\n",
            "Epoch 58/200\n",
            "36102/36102 [==============================] - 1s 34us/step - loss: -57255824817439120.0000 - accuracy: 0.4872 - val_loss: -62531648120560280.0000 - val_accuracy: 0.3618\n",
            "Epoch 59/200\n",
            "36102/36102 [==============================] - 1s 33us/step - loss: -62246298430796016.0000 - accuracy: 0.4872 - val_loss: -67934502355097256.0000 - val_accuracy: 0.3618\n",
            "Epoch 60/200\n",
            "36102/36102 [==============================] - 1s 34us/step - loss: -67600435037028104.0000 - accuracy: 0.4872 - val_loss: -73716550149647696.0000 - val_accuracy: 0.3618\n",
            "Epoch 61/200\n",
            "36102/36102 [==============================] - 1s 34us/step - loss: -73312703384952448.0000 - accuracy: 0.4872 - val_loss: -79896268641767728.0000 - val_accuracy: 0.3618\n",
            "Epoch 62/200\n",
            "36102/36102 [==============================] - 1s 33us/step - loss: -79365572961552032.0000 - accuracy: 0.4872 - val_loss: -86442549751141488.0000 - val_accuracy: 0.3618\n",
            "Epoch 63/200\n",
            "36102/36102 [==============================] - 1s 33us/step - loss: -85834080816149664.0000 - accuracy: 0.4872 - val_loss: -93457285677440816.0000 - val_accuracy: 0.3618\n",
            "Epoch 64/200\n",
            "36102/36102 [==============================] - 1s 33us/step - loss: -92743254389635504.0000 - accuracy: 0.4872 - val_loss: -100900193114375040.0000 - val_accuracy: 0.3618\n",
            "Epoch 65/200\n",
            "36102/36102 [==============================] - 1s 33us/step - loss: -100060976334384144.0000 - accuracy: 0.4872 - val_loss: -108787996363396832.0000 - val_accuracy: 0.3618\n",
            "Epoch 66/200\n",
            "36102/36102 [==============================] - 1s 36us/step - loss: -107827162568887552.0000 - accuracy: 0.4872 - val_loss: -117175240431803408.0000 - val_accuracy: 0.3618\n",
            "Epoch 67/200\n",
            "36102/36102 [==============================] - 1s 36us/step - loss: -116079392430936944.0000 - accuracy: 0.4872 - val_loss: -126082033771455440.0000 - val_accuracy: 0.3618\n",
            "Epoch 68/200\n",
            "36102/36102 [==============================] - 1s 33us/step - loss: -124850461852528048.0000 - accuracy: 0.4872 - val_loss: -135505677857007408.0000 - val_accuracy: 0.3618\n",
            "Epoch 69/200\n",
            "36102/36102 [==============================] - 1s 33us/step - loss: -134134839032371840.0000 - accuracy: 0.4872 - val_loss: -145510950254057888.0000 - val_accuracy: 0.3618\n",
            "Epoch 70/200\n",
            "36102/36102 [==============================] - 1s 32us/step - loss: -143933975123115232.0000 - accuracy: 0.4872 - val_loss: -156112078859932864.0000 - val_accuracy: 0.3618\n",
            "Epoch 71/200\n",
            "36102/36102 [==============================] - 1s 35us/step - loss: -154308229886286080.0000 - accuracy: 0.4872 - val_loss: -167272722771821888.0000 - val_accuracy: 0.3618\n",
            "Epoch 72/200\n",
            "36102/36102 [==============================] - 1s 33us/step - loss: -165301358931145600.0000 - accuracy: 0.4872 - val_loss: -179038879780412384.0000 - val_accuracy: 0.3618\n",
            "Epoch 73/200\n",
            "36102/36102 [==============================] - 1s 36us/step - loss: -176865937523850976.0000 - accuracy: 0.4872 - val_loss: -191517500954454944.0000 - val_accuracy: 0.3618\n",
            "Epoch 74/200\n",
            "36102/36102 [==============================] - 1s 36us/step - loss: -189138861868298592.0000 - accuracy: 0.4872 - val_loss: -204717563198433856.0000 - val_accuracy: 0.3618\n",
            "Epoch 75/200\n",
            "36102/36102 [==============================] - 1s 36us/step - loss: -202008614004969664.0000 - accuracy: 0.4872 - val_loss: -218538429978078880.0000 - val_accuracy: 0.3618\n",
            "Epoch 76/200\n",
            "36102/36102 [==============================] - 1s 35us/step - loss: -215573759065293984.0000 - accuracy: 0.4872 - val_loss: -233140784644621600.0000 - val_accuracy: 0.3618\n",
            "Epoch 77/200\n",
            "36102/36102 [==============================] - 1s 34us/step - loss: -229896190802470464.0000 - accuracy: 0.4872 - val_loss: -248501454960386848.0000 - val_accuracy: 0.3618\n",
            "Epoch 78/200\n",
            "36102/36102 [==============================] - 1s 38us/step - loss: -244992202501264384.0000 - accuracy: 0.4872 - val_loss: -264686699336615744.0000 - val_accuracy: 0.3618\n",
            "Epoch 79/200\n",
            "36102/36102 [==============================] - 1s 37us/step - loss: -260725432520482624.0000 - accuracy: 0.4872 - val_loss: -281610111372179744.0000 - val_accuracy: 0.3618\n",
            "Epoch 80/200\n",
            "36102/36102 [==============================] - 1s 37us/step - loss: -277380116489820736.0000 - accuracy: 0.4872 - val_loss: -299555476985262336.0000 - val_accuracy: 0.3618\n",
            "Epoch 81/200\n",
            "36102/36102 [==============================] - 1s 36us/step - loss: -294877185694070272.0000 - accuracy: 0.4872 - val_loss: -318246822255822144.0000 - val_accuracy: 0.3618\n",
            "Epoch 82/200\n",
            "36102/36102 [==============================] - 1s 34us/step - loss: -313236285955592256.0000 - accuracy: 0.4872 - val_loss: -337935735362748096.0000 - val_accuracy: 0.3618\n",
            "Epoch 83/200\n",
            "36102/36102 [==============================] - 1s 33us/step - loss: -332413344748361088.0000 - accuracy: 0.4872 - val_loss: -358522329650470080.0000 - val_accuracy: 0.3618\n",
            "Epoch 84/200\n",
            "36102/36102 [==============================] - 1s 33us/step - loss: -352592464490479232.0000 - accuracy: 0.4872 - val_loss: -380112244447382976.0000 - val_accuracy: 0.3618\n",
            "Epoch 85/200\n",
            "36102/36102 [==============================] - 1s 33us/step - loss: -373731095637857280.0000 - accuracy: 0.4872 - val_loss: -402768912024116736.0000 - val_accuracy: 0.3618\n",
            "Epoch 86/200\n",
            "36102/36102 [==============================] - 1s 33us/step - loss: -395867558966556224.0000 - accuracy: 0.4872 - val_loss: -426452577537814592.0000 - val_accuracy: 0.3618\n",
            "Epoch 87/200\n",
            "36102/36102 [==============================] - 1s 35us/step - loss: -419121458887072448.0000 - accuracy: 0.4872 - val_loss: -451453599382453376.0000 - val_accuracy: 0.3618\n",
            "Epoch 88/200\n",
            "36102/36102 [==============================] - 1s 34us/step - loss: -443319779083028800.0000 - accuracy: 0.4872 - val_loss: -477307243515007808.0000 - val_accuracy: 0.3618\n",
            "Epoch 89/200\n",
            "36102/36102 [==============================] - 1s 34us/step - loss: -468682412640482944.0000 - accuracy: 0.4872 - val_loss: -504398943833904576.0000 - val_accuracy: 0.3618\n",
            "Epoch 90/200\n",
            "36102/36102 [==============================] - 1s 34us/step - loss: -495140058350305024.0000 - accuracy: 0.4872 - val_loss: -532857782948639104.0000 - val_accuracy: 0.3618\n",
            "Epoch 91/200\n",
            "36102/36102 [==============================] - 1s 34us/step - loss: -522892195102711872.0000 - accuracy: 0.4872 - val_loss: -562493256938959168.0000 - val_accuracy: 0.3618\n",
            "Epoch 92/200\n",
            "36102/36102 [==============================] - 1s 34us/step - loss: -551750413862048512.0000 - accuracy: 0.4872 - val_loss: -593426453878659840.0000 - val_accuracy: 0.3618\n",
            "Epoch 93/200\n",
            "36102/36102 [==============================] - 1s 35us/step - loss: -581904356862789760.0000 - accuracy: 0.4872 - val_loss: -625696117535329792.0000 - val_accuracy: 0.3618\n",
            "Epoch 94/200\n",
            "36102/36102 [==============================] - 1s 35us/step - loss: -613358327478004224.0000 - accuracy: 0.4872 - val_loss: -659297453810288000.0000 - val_accuracy: 0.3618\n",
            "Epoch 95/200\n",
            "36102/36102 [==============================] - 1s 35us/step - loss: -646218123691581824.0000 - accuracy: 0.4872 - val_loss: -694357930428495616.0000 - val_accuracy: 0.3618\n",
            "Epoch 96/200\n",
            "36102/36102 [==============================] - 1s 33us/step - loss: -680487525935116032.0000 - accuracy: 0.4872 - val_loss: -731036189059117568.0000 - val_accuracy: 0.3618\n",
            "Epoch 97/200\n",
            "36102/36102 [==============================] - 1s 33us/step - loss: -716129774858139392.0000 - accuracy: 0.4872 - val_loss: -769068112394109440.0000 - val_accuracy: 0.3618\n",
            "Epoch 98/200\n",
            "36102/36102 [==============================] - 1s 33us/step - loss: -753206549105251840.0000 - accuracy: 0.4872 - val_loss: -808736530523046272.0000 - val_accuracy: 0.3618\n",
            "Epoch 99/200\n",
            "36102/36102 [==============================] - 1s 32us/step - loss: -791851181927664256.0000 - accuracy: 0.4872 - val_loss: -849997358256597248.0000 - val_accuracy: 0.3618\n",
            "Epoch 100/200\n",
            "36102/36102 [==============================] - 1s 33us/step - loss: -832075853937333248.0000 - accuracy: 0.4872 - val_loss: -892867703454461440.0000 - val_accuracy: 0.3618\n",
            "Epoch 101/200\n",
            "36102/36102 [==============================] - 1s 33us/step - loss: -873900223453925120.0000 - accuracy: 0.4872 - val_loss: -937545154769349632.0000 - val_accuracy: 0.3618\n",
            "Epoch 102/200\n",
            "36102/36102 [==============================] - 1s 34us/step - loss: -917402505317650048.0000 - accuracy: 0.4872 - val_loss: -983884222967295488.0000 - val_accuracy: 0.3618\n",
            "Epoch 103/200\n",
            "36102/36102 [==============================] - 1s 36us/step - loss: -962414526785538048.0000 - accuracy: 0.4872 - val_loss: -1032174538446767104.0000 - val_accuracy: 0.3618\n",
            "Epoch 104/200\n",
            "36102/36102 [==============================] - 1s 33us/step - loss: -1009548017268096640.0000 - accuracy: 0.4872 - val_loss: -1082280858265568000.0000 - val_accuracy: 0.3618\n",
            "Epoch 105/200\n",
            "36102/36102 [==============================] - 1s 33us/step - loss: -1058233355997470976.0000 - accuracy: 0.4872 - val_loss: -1134277874470951168.0000 - val_accuracy: 0.3618\n",
            "Epoch 106/200\n",
            "36102/36102 [==============================] - 1s 32us/step - loss: -1108964911197663488.0000 - accuracy: 0.4872 - val_loss: -1188434755507360512.0000 - val_accuracy: 0.3618\n",
            "Epoch 107/200\n",
            "36102/36102 [==============================] - 1s 32us/step - loss: -1161514291770936832.0000 - accuracy: 0.4872 - val_loss: -1244541055229212928.0000 - val_accuracy: 0.3618\n",
            "Epoch 108/200\n",
            "36102/36102 [==============================] - 1s 33us/step - loss: -1216017741341700864.0000 - accuracy: 0.4872 - val_loss: -1302502530318897152.0000 - val_accuracy: 0.3618\n",
            "Epoch 109/200\n",
            "36102/36102 [==============================] - 1s 33us/step - loss: -1272357637318383104.0000 - accuracy: 0.4872 - val_loss: -1362699415418543616.0000 - val_accuracy: 0.3618\n",
            "Epoch 110/200\n",
            "36102/36102 [==============================] - 1s 32us/step - loss: -1331034770437917440.0000 - accuracy: 0.4872 - val_loss: -1425317116881177600.0000 - val_accuracy: 0.3618\n",
            "Epoch 111/200\n",
            "36102/36102 [==============================] - 1s 33us/step - loss: -1391940541287055616.0000 - accuracy: 0.4872 - val_loss: -1489993564712221184.0000 - val_accuracy: 0.3618\n",
            "Epoch 112/200\n",
            "36102/36102 [==============================] - 1s 33us/step - loss: -1455080631109868288.0000 - accuracy: 0.4872 - val_loss: -1557466496182270720.0000 - val_accuracy: 0.3618\n",
            "Epoch 113/200\n",
            "36102/36102 [==============================] - 1s 34us/step - loss: -1520133124132410368.0000 - accuracy: 0.4872 - val_loss: -1626532297487442176.0000 - val_accuracy: 0.3618\n",
            "Epoch 114/200\n",
            "36102/36102 [==============================] - 1s 33us/step - loss: -1587510973815335936.0000 - accuracy: 0.4872 - val_loss: -1698485551541875456.0000 - val_accuracy: 0.3618\n",
            "Epoch 115/200\n",
            "36102/36102 [==============================] - 1s 33us/step - loss: -1657544685832919552.0000 - accuracy: 0.4872 - val_loss: -1773092205368386304.0000 - val_accuracy: 0.3618\n",
            "Epoch 116/200\n",
            "36102/36102 [==============================] - 1s 35us/step - loss: -1730163858168133120.0000 - accuracy: 0.4872 - val_loss: -1850309037891468544.0000 - val_accuracy: 0.3618\n",
            "Epoch 117/200\n",
            "36102/36102 [==============================] - 1s 34us/step - loss: -1804752234075710720.0000 - accuracy: 0.4872 - val_loss: -1929724007499318528.0000 - val_accuracy: 0.3618\n",
            "Epoch 118/200\n",
            "36102/36102 [==============================] - 1s 34us/step - loss: -1882118072130608384.0000 - accuracy: 0.4872 - val_loss: -2012471253485265152.0000 - val_accuracy: 0.3618\n",
            "Epoch 119/200\n",
            "36102/36102 [==============================] - 1s 33us/step - loss: -1962340488349541376.0000 - accuracy: 0.4872 - val_loss: -2097782180336324096.0000 - val_accuracy: 0.3618\n",
            "Epoch 120/200\n",
            "36102/36102 [==============================] - 1s 33us/step - loss: -2045206763193100800.0000 - accuracy: 0.4872 - val_loss: -2185796941680159488.0000 - val_accuracy: 0.3618\n",
            "Epoch 121/200\n",
            "36102/36102 [==============================] - 1s 34us/step - loss: -2130749108442991872.0000 - accuracy: 0.4872 - val_loss: -2276865837157818624.0000 - val_accuracy: 0.3618\n",
            "Epoch 122/200\n",
            "36102/36102 [==============================] - 1s 33us/step - loss: -2219052423904336896.0000 - accuracy: 0.4872 - val_loss: -2370901715644591616.0000 - val_accuracy: 0.3618\n",
            "Epoch 123/200\n",
            "36102/36102 [==============================] - 1s 34us/step - loss: -2310412801279057920.0000 - accuracy: 0.4872 - val_loss: -2467858993746076672.0000 - val_accuracy: 0.3618\n",
            "Epoch 124/200\n",
            "36102/36102 [==============================] - 1s 34us/step - loss: -2404512606788281344.0000 - accuracy: 0.4872 - val_loss: -2568389456746811392.0000 - val_accuracy: 0.3618\n",
            "Epoch 125/200\n",
            "36102/36102 [==============================] - 1s 33us/step - loss: -2501698536066282496.0000 - accuracy: 0.4872 - val_loss: -2671775283235123200.0000 - val_accuracy: 0.3618\n",
            "Epoch 126/200\n",
            "36102/36102 [==============================] - 1s 33us/step - loss: -2602169620049444352.0000 - accuracy: 0.4872 - val_loss: -2778407875254662144.0000 - val_accuracy: 0.3618\n",
            "Epoch 127/200\n",
            "36102/36102 [==============================] - 1s 34us/step - loss: -2705772175034491392.0000 - accuracy: 0.4872 - val_loss: -2888537904960179712.0000 - val_accuracy: 0.3618\n",
            "Epoch 128/200\n",
            "36102/36102 [==============================] - 1s 33us/step - loss: -2812235827999581184.0000 - accuracy: 0.4872 - val_loss: -3002163093441449984.0000 - val_accuracy: 0.3618\n",
            "Epoch 129/200\n",
            "36102/36102 [==============================] - 1s 33us/step - loss: -2922910935293850112.0000 - accuracy: 0.4872 - val_loss: -3119657336559685120.0000 - val_accuracy: 0.3618\n",
            "Epoch 130/200\n",
            "36102/36102 [==============================] - 1s 33us/step - loss: -3036664079752214016.0000 - accuracy: 0.4872 - val_loss: -3240305668538056192.0000 - val_accuracy: 0.3618\n",
            "Epoch 131/200\n",
            "36102/36102 [==============================] - 1s 34us/step - loss: -3153301561000220160.0000 - accuracy: 0.4872 - val_loss: -3364457233436821504.0000 - val_accuracy: 0.3618\n",
            "Epoch 132/200\n",
            "36102/36102 [==============================] - 1s 34us/step - loss: -3274172924839044608.0000 - accuracy: 0.4872 - val_loss: -3492530144462929920.0000 - val_accuracy: 0.3618\n",
            "Epoch 133/200\n",
            "36102/36102 [==============================] - 1s 33us/step - loss: -3399284022097701376.0000 - accuracy: 0.4872 - val_loss: -3625751395797324288.0000 - val_accuracy: 0.3618\n",
            "Epoch 134/200\n",
            "36102/36102 [==============================] - 1s 34us/step - loss: -3526871405032541696.0000 - accuracy: 0.4872 - val_loss: -3761398637797910016.0000 - val_accuracy: 0.3618\n",
            "Epoch 135/200\n",
            "36102/36102 [==============================] - 1s 33us/step - loss: -3659057032423936512.0000 - accuracy: 0.4872 - val_loss: -3901858121162566144.0000 - val_accuracy: 0.3618\n",
            "Epoch 136/200\n",
            "36102/36102 [==============================] - 1s 32us/step - loss: -3795009350970670080.0000 - accuracy: 0.4872 - val_loss: -4046245778673671680.0000 - val_accuracy: 0.3618\n",
            "Epoch 137/200\n",
            "36102/36102 [==============================] - 1s 31us/step - loss: -3934675849398969856.0000 - accuracy: 0.4872 - val_loss: -4194645826768207360.0000 - val_accuracy: 0.3618\n",
            "Epoch 138/200\n",
            "36102/36102 [==============================] - 1s 32us/step - loss: -4079111762430959104.0000 - accuracy: 0.4872 - val_loss: -4347815123135007744.0000 - val_accuracy: 0.3618\n",
            "Epoch 139/200\n",
            "36102/36102 [==============================] - 1s 33us/step - loss: -4227238740885532160.0000 - accuracy: 0.4872 - val_loss: -4505238123601823744.0000 - val_accuracy: 0.3618\n",
            "Epoch 140/200\n",
            "36102/36102 [==============================] - 1s 32us/step - loss: -4380260810952184320.0000 - accuracy: 0.4872 - val_loss: -4667568043170480128.0000 - val_accuracy: 0.3618\n",
            "Epoch 141/200\n",
            "36102/36102 [==============================] - 1s 33us/step - loss: -4536607341498258432.0000 - accuracy: 0.4872 - val_loss: -4833364049330162688.0000 - val_accuracy: 0.3618\n",
            "Epoch 142/200\n",
            "36102/36102 [==============================] - 1s 33us/step - loss: -4698243328496705536.0000 - accuracy: 0.4872 - val_loss: -5005245908140719104.0000 - val_accuracy: 0.3618\n",
            "Epoch 143/200\n",
            "36102/36102 [==============================] - 1s 32us/step - loss: -4863792599505758208.0000 - accuracy: 0.4872 - val_loss: -5181005840475087872.0000 - val_accuracy: 0.3618\n",
            "Epoch 144/200\n",
            "36102/36102 [==============================] - 1s 33us/step - loss: -5034398374694600704.0000 - accuracy: 0.4872 - val_loss: -5361843777922385920.0000 - val_accuracy: 0.3618\n",
            "Epoch 145/200\n",
            "36102/36102 [==============================] - 1s 33us/step - loss: -5209573686433110016.0000 - accuracy: 0.4872 - val_loss: -5548179388797882368.0000 - val_accuracy: 0.3618\n",
            "Epoch 146/200\n",
            "36102/36102 [==============================] - 1s 32us/step - loss: -5389791525713612800.0000 - accuracy: 0.4872 - val_loss: -5739656681560188928.0000 - val_accuracy: 0.3618\n",
            "Epoch 147/200\n",
            "36102/36102 [==============================] - 1s 33us/step - loss: -5574608979347990528.0000 - accuracy: 0.4872 - val_loss: -5935297593166131200.0000 - val_accuracy: 0.3618\n",
            "Epoch 148/200\n",
            "36102/36102 [==============================] - 1s 33us/step - loss: -5764811790835591168.0000 - accuracy: 0.4872 - val_loss: -6137061580117586944.0000 - val_accuracy: 0.3618\n",
            "Epoch 149/200\n",
            "36102/36102 [==============================] - 1s 33us/step - loss: -5959757068064999424.0000 - accuracy: 0.4872 - val_loss: -6344003480199427072.0000 - val_accuracy: 0.3618\n",
            "Epoch 150/200\n",
            "36102/36102 [==============================] - 1s 33us/step - loss: -6160156921427796992.0000 - accuracy: 0.4872 - val_loss: -6557412395912774656.0000 - val_accuracy: 0.3618\n",
            "Epoch 151/200\n",
            "36102/36102 [==============================] - 1s 33us/step - loss: -6366662184023773184.0000 - accuracy: 0.4872 - val_loss: -6776317035515663360.0000 - val_accuracy: 0.3618\n",
            "Epoch 152/200\n",
            "36102/36102 [==============================] - 1s 33us/step - loss: -6578142508835443712.0000 - accuracy: 0.4872 - val_loss: -6999565261328497664.0000 - val_accuracy: 0.3618\n",
            "Epoch 153/200\n",
            "36102/36102 [==============================] - 1s 34us/step - loss: -6794607132040675328.0000 - accuracy: 0.4872 - val_loss: -7229840937120759808.0000 - val_accuracy: 0.3618\n",
            "Epoch 154/200\n",
            "36102/36102 [==============================] - 1s 33us/step - loss: -7017110560759724032.0000 - accuracy: 0.4872 - val_loss: -7465057424479323136.0000 - val_accuracy: 0.3618\n",
            "Epoch 155/200\n",
            "36102/36102 [==============================] - 1s 33us/step - loss: -7245216100964704256.0000 - accuracy: 0.4872 - val_loss: -7706936695403503616.0000 - val_accuracy: 0.3618\n",
            "Epoch 156/200\n",
            "36102/36102 [==============================] - 1s 33us/step - loss: -7479225348433196032.0000 - accuracy: 0.4872 - val_loss: -7956239051433459712.0000 - val_accuracy: 0.3618\n",
            "Epoch 157/200\n",
            "36102/36102 [==============================] - 1s 32us/step - loss: -7720198045620031488.0000 - accuracy: 0.4872 - val_loss: -8211392742550808576.0000 - val_accuracy: 0.3618\n",
            "Epoch 158/200\n",
            "36102/36102 [==============================] - 1s 33us/step - loss: -7965450138850380800.0000 - accuracy: 0.4872 - val_loss: -8471622846602247168.0000 - val_accuracy: 0.3618\n",
            "Epoch 159/200\n",
            "36102/36102 [==============================] - 1s 33us/step - loss: -8218494655548313600.0000 - accuracy: 0.4872 - val_loss: -8738991338983843840.0000 - val_accuracy: 0.3618\n",
            "Epoch 160/200\n",
            "36102/36102 [==============================] - 1s 33us/step - loss: -8477046114090394624.0000 - accuracy: 0.4872 - val_loss: -9013643313711479808.0000 - val_accuracy: 0.3618\n",
            "Epoch 161/200\n",
            "36102/36102 [==============================] - 1s 32us/step - loss: -8742162284285408256.0000 - accuracy: 0.4872 - val_loss: -9295597780547893248.0000 - val_accuracy: 0.3618\n",
            "Epoch 162/200\n",
            "36102/36102 [==============================] - 1s 32us/step - loss: -9014158857082309632.0000 - accuracy: 0.4872 - val_loss: -9583073472826071040.0000 - val_accuracy: 0.3618\n",
            "Epoch 163/200\n",
            "36102/36102 [==============================] - 1s 32us/step - loss: -9293256248837933056.0000 - accuracy: 0.4872 - val_loss: -9877875827933579264.0000 - val_accuracy: 0.3618\n",
            "Epoch 164/200\n",
            "36102/36102 [==============================] - 1s 32us/step - loss: -9578420109932007424.0000 - accuracy: 0.4872 - val_loss: -10180269316599527424.0000 - val_accuracy: 0.3618\n",
            "Epoch 165/200\n",
            "36102/36102 [==============================] - 1s 34us/step - loss: -9872006885379655680.0000 - accuracy: 0.4872 - val_loss: -10491439834401990656.0000 - val_accuracy: 0.3618\n",
            "Epoch 166/200\n",
            "36102/36102 [==============================] - 1s 35us/step - loss: -10170253341858953216.0000 - accuracy: 0.4872 - val_loss: -10808528191434299392.0000 - val_accuracy: 0.3618\n",
            "Epoch 167/200\n",
            "36102/36102 [==============================] - 1s 34us/step - loss: -10478186685030668288.0000 - accuracy: 0.4872 - val_loss: -11134160030360508416.0000 - val_accuracy: 0.3618\n",
            "Epoch 168/200\n",
            "36102/36102 [==============================] - 1s 34us/step - loss: -10791918942249760768.0000 - accuracy: 0.4872 - val_loss: -11466029332765562880.0000 - val_accuracy: 0.3618\n",
            "Epoch 169/200\n",
            "36102/36102 [==============================] - 1s 33us/step - loss: -11115216820401938432.0000 - accuracy: 0.4872 - val_loss: -11808254069225291776.0000 - val_accuracy: 0.3618\n",
            "Epoch 170/200\n",
            "36102/36102 [==============================] - 1s 33us/step - loss: -11444003984986191872.0000 - accuracy: 0.4872 - val_loss: -12156797226731419648.0000 - val_accuracy: 0.3618\n",
            "Epoch 171/200\n",
            "36102/36102 [==============================] - 1s 33us/step - loss: -11781300518089011200.0000 - accuracy: 0.4872 - val_loss: -12514296003570546688.0000 - val_accuracy: 0.3618\n",
            "Epoch 172/200\n",
            "36102/36102 [==============================] - 1s 33us/step - loss: -12125792764198719488.0000 - accuracy: 0.4872 - val_loss: -12878515816219957248.0000 - val_accuracy: 0.3618\n",
            "Epoch 173/200\n",
            "36102/36102 [==============================] - 1s 33us/step - loss: -12478928973949161472.0000 - accuracy: 0.4872 - val_loss: -13252647417025632256.0000 - val_accuracy: 0.3618\n",
            "Epoch 174/200\n",
            "36102/36102 [==============================] - 1s 32us/step - loss: -12839282909963556864.0000 - accuracy: 0.4872 - val_loss: -13635670963356067840.0000 - val_accuracy: 0.3618\n",
            "Epoch 175/200\n",
            "36102/36102 [==============================] - 1s 32us/step - loss: -13208531122690142208.0000 - accuracy: 0.4872 - val_loss: -14027066788797169664.0000 - val_accuracy: 0.3618\n",
            "Epoch 176/200\n",
            "36102/36102 [==============================] - 1s 33us/step - loss: -13587449774265520128.0000 - accuracy: 0.4872 - val_loss: -14428381202610755584.0000 - val_accuracy: 0.3618\n",
            "Epoch 177/200\n",
            "36102/36102 [==============================] - 1s 32us/step - loss: -13973847586135531520.0000 - accuracy: 0.4872 - val_loss: -14836801118013247488.0000 - val_accuracy: 0.3618\n",
            "Epoch 178/200\n",
            "36102/36102 [==============================] - 1s 33us/step - loss: -14369849585172391936.0000 - accuracy: 0.4872 - val_loss: -15255052992431079424.0000 - val_accuracy: 0.3618\n",
            "Epoch 179/200\n",
            "36102/36102 [==============================] - 1s 32us/step - loss: -14774638967449884672.0000 - accuracy: 0.4872 - val_loss: -15683255862270111744.0000 - val_accuracy: 0.3618\n",
            "Epoch 180/200\n",
            "36102/36102 [==============================] - 1s 32us/step - loss: -15187193975043104768.0000 - accuracy: 0.4872 - val_loss: -16119758356707362816.0000 - val_accuracy: 0.3618\n",
            "Epoch 181/200\n",
            "36102/36102 [==============================] - 1s 34us/step - loss: -15609412690105714688.0000 - accuracy: 0.4872 - val_loss: -16567316844630575104.0000 - val_accuracy: 0.3618\n",
            "Epoch 182/200\n",
            "36102/36102 [==============================] - 1s 35us/step - loss: -16042020584066058240.0000 - accuracy: 0.4872 - val_loss: -17025168161914019840.0000 - val_accuracy: 0.3618\n",
            "Epoch 183/200\n",
            "36102/36102 [==============================] - 1s 33us/step - loss: -16482414525228029952.0000 - accuracy: 0.4872 - val_loss: -17491719814617655296.0000 - val_accuracy: 0.3618\n",
            "Epoch 184/200\n",
            "36102/36102 [==============================] - 1s 34us/step - loss: -16934220967843704832.0000 - accuracy: 0.4872 - val_loss: -17969234030492475392.0000 - val_accuracy: 0.3618\n",
            "Epoch 185/200\n",
            "36102/36102 [==============================] - 1s 33us/step - loss: -17394557619995170816.0000 - accuracy: 0.4872 - val_loss: -18455887229838368768.0000 - val_accuracy: 0.3618\n",
            "Epoch 186/200\n",
            "36102/36102 [==============================] - 1s 33us/step - loss: -17866653944807960576.0000 - accuracy: 0.4872 - val_loss: -18955952434388750336.0000 - val_accuracy: 0.3618\n",
            "Epoch 187/200\n",
            "36102/36102 [==============================] - 1s 33us/step - loss: -18347108457148299264.0000 - accuracy: 0.4872 - val_loss: -19464788190372954112.0000 - val_accuracy: 0.3618\n",
            "Epoch 188/200\n",
            "36102/36102 [==============================] - 1s 32us/step - loss: -18838188423269064704.0000 - accuracy: 0.4872 - val_loss: -19983932037650542592.0000 - val_accuracy: 0.3618\n",
            "Epoch 189/200\n",
            "36102/36102 [==============================] - 1s 32us/step - loss: -19339139491638509568.0000 - accuracy: 0.4872 - val_loss: -20513703788047343616.0000 - val_accuracy: 0.3618\n",
            "Epoch 190/200\n",
            "36102/36102 [==============================] - 1s 32us/step - loss: -19851279136791089152.0000 - accuracy: 0.4872 - val_loss: -21055782581912985600.0000 - val_accuracy: 0.3618\n",
            "Epoch 191/200\n",
            "36102/36102 [==============================] - 1s 34us/step - loss: -20374533848172761088.0000 - accuracy: 0.4872 - val_loss: -21608386903466565632.0000 - val_accuracy: 0.3618\n",
            "Epoch 192/200\n",
            "36102/36102 [==============================] - 1s 33us/step - loss: -20908566098677395456.0000 - accuracy: 0.4872 - val_loss: -22175430302348980224.0000 - val_accuracy: 0.3618\n",
            "Epoch 193/200\n",
            "36102/36102 [==============================] - 1s 34us/step - loss: -21454176593531703296.0000 - accuracy: 0.4872 - val_loss: -22750579443302154240.0000 - val_accuracy: 0.3618\n",
            "Epoch 194/200\n",
            "36102/36102 [==============================] - 1s 33us/step - loss: -22011736876907896832.0000 - accuracy: 0.4872 - val_loss: -23340939741169979392.0000 - val_accuracy: 0.3618\n",
            "Epoch 195/200\n",
            "36102/36102 [==============================] - 1s 33us/step - loss: -22576902788536832000.0000 - accuracy: 0.4872 - val_loss: -23939272770599436288.0000 - val_accuracy: 0.3618\n",
            "Epoch 196/200\n",
            "36102/36102 [==============================] - 1s 32us/step - loss: -23160102876484042752.0000 - accuracy: 0.4872 - val_loss: -24556589914412515328.0000 - val_accuracy: 0.3618\n",
            "Epoch 197/200\n",
            "36102/36102 [==============================] - 1s 33us/step - loss: -23749905173292470272.0000 - accuracy: 0.4872 - val_loss: -25180791555011686400.0000 - val_accuracy: 0.3618\n",
            "Epoch 198/200\n",
            "36102/36102 [==============================] - 1s 33us/step - loss: -24353544074299899904.0000 - accuracy: 0.4872 - val_loss: -25818232430690525184.0000 - val_accuracy: 0.3618\n",
            "Epoch 199/200\n",
            "36102/36102 [==============================] - 1s 32us/step - loss: -24970810744172503040.0000 - accuracy: 0.4872 - val_loss: -26469878981772021760.0000 - val_accuracy: 0.3618\n",
            "Epoch 200/200\n",
            "36102/36102 [==============================] - 1s 32us/step - loss: -25599435708801974272.0000 - accuracy: 0.4872 - val_loss: -27134469519034007552.0000 - val_accuracy: 0.3618\n"
          ],
          "name": "stdout"
        }
      ]
    },
    {
      "cell_type": "code",
      "metadata": {
        "id": "_MHOuQGE7ltu",
        "colab_type": "code",
        "colab": {
          "base_uri": "https://localhost:8080/",
          "height": 295
        },
        "outputId": "5ba44291-8e58-408a-8d2d-436316c3acdd"
      },
      "source": [
        "epochs = range(1, len(history.history['accuracy']) + 1)\n",
        "plt.plot(epochs, history.history['accuracy'], 'bo', label='Training accuracy')\n",
        "plt.plot(epochs, history.history['val_accuracy'], 'b', label='Validation accuracy')\n",
        "plt.title('Training and validation accuracy')\n",
        "plt.xlabel('Epochs')\n",
        "plt.ylabel('Loss')\n",
        "plt.legend()\n",
        "plt.show()"
      ],
      "execution_count": null,
      "outputs": [
        {
          "output_type": "display_data",
          "data": {
            "image/png": "[encoded data removed]",
            "text/plain": [
              "<Figure size 432x288 with 1 Axes>"
            ]
          },
          "metadata": {
            "tags": [],
            "needs_background": "light"
          }
        }
      ]
    },
    {
      "cell_type": "code",
      "metadata": {
        "id": "e7rsJjFB82Xc",
        "colab_type": "code",
        "colab": {
          "base_uri": "https://localhost:8080/",
          "height": 295
        },
        "outputId": "008bea70-fb6e-4023-cb1c-a049f946ba9d"
      },
      "source": [
        "epochs = range(1, len(history.history['loss']) + 1)\n",
        "plt.plot(epochs, history.history['loss'], 'bo', label='Training loss')\n",
        "plt.plot(epochs, history.history['val_loss'], 'b', label='Validation loss')\n",
        "plt.title('Training and validation loss')\n",
        "plt.xlabel('Epochs')\n",
        "plt.ylabel('Loss')\n",
        "plt.legend()\n",
        "plt.show()"
      ],
      "execution_count": null,
      "outputs": [
        {
          "output_type": "display_data",
          "data": {
            "image/png": "[encoded data removed]",
            "text/plain": [
              "<Figure size 432x288 with 1 Axes>"
            ]
          },
          "metadata": {
            "tags": [],
            "needs_background": "light"
          }
        }
      ]
    },
    {
      "cell_type": "code",
      "metadata": {
        "id": "LCZuGk6iDcih",
        "colab_type": "code",
        "colab": {
          "base_uri": "https://localhost:8080/",
          "height": 34
        },
        "outputId": "bad0358e-4099-4878-b2f9-b6507f1d8cee"
      },
      "source": [
        "y_test"
      ],
      "execution_count": null,
      "outputs": [
        {
          "output_type": "execute_result",
          "data": {
            "text/plain": [
              "array([2, 2, 2, ..., 1, 1, 1])"
            ]
          },
          "metadata": {
            "tags": []
          },
          "execution_count": 54
        }
      ]
    },
    {
      "cell_type": "code",
      "metadata": {
        "id": "_nmz7LdRDU2S",
        "colab_type": "code",
        "colab": {
          "base_uri": "https://localhost:8080/",
          "height": 34
        },
        "outputId": "0eaa8ecd-c812-4836-f2af-485921b60144"
      },
      "source": [
        "len(valoresPrevistos)"
      ],
      "execution_count": null,
      "outputs": [
        {
          "output_type": "execute_result",
          "data": {
            "text/plain": [
              "2966"
            ]
          },
          "metadata": {
            "tags": []
          },
          "execution_count": 55
        }
      ]
    },
    {
      "cell_type": "code",
      "metadata": {
        "id": "0g9C6qZ0FcT-",
        "colab_type": "code",
        "colab": {
          "base_uri": "https://localhost:8080/",
          "height": 136
        },
        "outputId": "17a2d75a-c2ff-43c8-f226-b8ffe2985364"
      },
      "source": [
        "valoresPrevistos"
      ],
      "execution_count": null,
      "outputs": [
        {
          "output_type": "execute_result",
          "data": {
            "text/plain": [
              "array([[1.],\n",
              "       [1.],\n",
              "       [1.],\n",
              "       ...,\n",
              "       [1.],\n",
              "       [1.],\n",
              "       [1.]], dtype=float32)"
            ]
          },
          "metadata": {
            "tags": []
          },
          "execution_count": 57
        }
      ]
    },
    {
      "cell_type": "code",
      "metadata": {
        "id": "uH6lV7Hy_MPf",
        "colab_type": "code",
        "colab": {
          "base_uri": "https://localhost:8080/",
          "height": 85
        },
        "outputId": "097a109c-4dcb-45d4-d265-e46a2d7f3ce0"
      },
      "source": [
        "#faz predição com dados de validacao\n",
        "valoresPrevistos = model.predict(X_test)\n",
        "#resultado = 1 ou 2\n",
        "mostraResultado(y_test, valoresPrevistos)"
      ],
      "execution_count": null,
      "outputs": [
        {
          "output_type": "stream",
          "text": [
            "Quantidade de resultados OK: 1073\n",
            "Quantidade de resultados Não: 1893\n",
            "Percentual de acertos: 36.2%\n",
            "Quantidade de resultados desconsiderados: 0\n"
          ],
          "name": "stdout"
        }
      ]
    }
  ]
}