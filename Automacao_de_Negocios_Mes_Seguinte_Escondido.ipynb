{
  "nbformat": 4,
  "nbformat_minor": 0,
  "metadata": {
    "colab": {
      "name": "Automacao de Negocios - Mes Seguinte Escondido",
      "provenance": [],
      "collapsed_sections": [],
      "toc_visible": true,
      "authorship_tag": "ABX9TyM60ZIyq35DQPVUM67vkF2C",
      "include_colab_link": true
    },
    "kernelspec": {
      "name": "python3",
      "display_name": "Python 3"
    }
  },
  "cells": [
    {
      "cell_type": "markdown",
      "metadata": {
        "id": "view-in-github",
        "colab_type": "text"
      },
      "source": [
        "<a href=\"https://colab.research.google.com/github/htsnet/automacao-de-negocios/blob/master/Automacao_de_Negocios_Mes_Seguinte_Escondido.ipynb\" target=\"_parent\"><img src=\"https://colab.research.google.com/assets/colab-badge.svg\" alt=\"Open In Colab\"/></a>"
      ]
    },
    {
      "cell_type": "markdown",
      "metadata": {
        "id": "0XIrIoBwb1NN",
        "colab_type": "text"
      },
      "source": [
        "#Uma variação do notebook original, sem split e uso do mês seguinte como validador"
      ]
    },
    {
      "cell_type": "markdown",
      "metadata": {
        "id": "esQEmXvQUDAO",
        "colab_type": "text"
      },
      "source": [
        "# Início: Importação as bibliotecas e Arquivo\n",
        "É preciso carregar um arquivo CSV com o padrão definido para execução do notebook"
      ]
    },
    {
      "cell_type": "code",
      "metadata": {
        "id": "60MYovA_7su6",
        "colab_type": "code",
        "colab": {}
      },
      "source": [
        "import pandas as pd\n",
        "import numpy as np\n",
        "from sklearn.ensemble import ExtraTreesClassifier, RandomForestClassifier, GradientBoostingClassifier\n",
        "from matplotlib import pyplot as plt\n",
        "from sklearn.metrics import roc_auc_score\n",
        "from sklearn.model_selection import train_test_split, cross_val_score, GridSearchCV\n",
        "from sklearn.ensemble import RandomForestRegressor\n",
        "from sklearn.metrics import mean_absolute_error\n",
        "from matplotlib.pyplot import figure\n",
        "import datetime\n",
        "import pickle"
      ],
      "execution_count": 1,
      "outputs": []
    },
    {
      "cell_type": "code",
      "metadata": {
        "id": "9lrF2JfV8RVC",
        "colab_type": "code",
        "colab": {}
      },
      "source": [
        "#carrega a tabela de dados\n",
        "#separador de campos = ;\n",
        "#ponto decimal = ,\n",
        "historic = pd.read_csv(\"/content/Amostra Completa - Mercado Futuro.csv\", sep=\";\", decimal=\",\")"
      ],
      "execution_count": 2,
      "outputs": []
    },
    {
      "cell_type": "code",
      "metadata": {
        "id": "bSeb5skcepaY",
        "colab_type": "code",
        "colab": {
          "base_uri": "https://localhost:8080/",
          "height": 270
        },
        "outputId": "8ffffcac-eb7b-42bc-f647-577ac2534be3"
      },
      "source": [
        "#converte o campo data (string) em formato de data\n",
        "historic['DataFormatada'] = pd.to_datetime(historic['Data'], format='%d/%m/%Y')\n",
        "historic.head()"
      ],
      "execution_count": 3,
      "outputs": [
        {
          "output_type": "execute_result",
          "data": {
            "text/html": [
              "<div>\n",
              "<style scoped>\n",
              "    .dataframe tbody tr th:only-of-type {\n",
              "        vertical-align: middle;\n",
              "    }\n",
              "\n",
              "    .dataframe tbody tr th {\n",
              "        vertical-align: top;\n",
              "    }\n",
              "\n",
              "    .dataframe thead th {\n",
              "        text-align: right;\n",
              "    }\n",
              "</style>\n",
              "<table border=\"1\" class=\"dataframe\">\n",
              "  <thead>\n",
              "    <tr style=\"text-align: right;\">\n",
              "      <th></th>\n",
              "      <th>CodOp</th>\n",
              "      <th>Hora Entrada</th>\n",
              "      <th>Hora Saida</th>\n",
              "      <th>Duração</th>\n",
              "      <th>Data</th>\n",
              "      <th>Pentrada</th>\n",
              "      <th>Psaida</th>\n",
              "      <th>Ganhos</th>\n",
              "      <th>Perdas</th>\n",
              "      <th>Resultado</th>\n",
              "      <th>Saldo Trade</th>\n",
              "      <th>K entra</th>\n",
              "      <th>K Saida</th>\n",
              "      <th>Item 1</th>\n",
              "      <th>Item 2</th>\n",
              "      <th>Item 3</th>\n",
              "      <th>Item 4</th>\n",
              "      <th>Item 5</th>\n",
              "      <th>Item 6</th>\n",
              "      <th>Item 7</th>\n",
              "      <th>Item 8</th>\n",
              "      <th>Item 9</th>\n",
              "      <th>Item 10</th>\n",
              "      <th>Item 11</th>\n",
              "      <th>Item 12</th>\n",
              "      <th>Item 13</th>\n",
              "      <th>Item 14</th>\n",
              "      <th>Item 15</th>\n",
              "      <th>Item 16</th>\n",
              "      <th>Item 17</th>\n",
              "      <th>Item 18</th>\n",
              "      <th>Item 19</th>\n",
              "      <th>Item 20</th>\n",
              "      <th>Item 21</th>\n",
              "      <th>Item 22</th>\n",
              "      <th>Item 23</th>\n",
              "      <th>Item 24</th>\n",
              "      <th>Item 25</th>\n",
              "      <th>Item 26</th>\n",
              "      <th>Item 27</th>\n",
              "      <th>...</th>\n",
              "      <th>Item 39</th>\n",
              "      <th>Item 40</th>\n",
              "      <th>Item 41</th>\n",
              "      <th>Item 42</th>\n",
              "      <th>Item 43</th>\n",
              "      <th>Item 44</th>\n",
              "      <th>Item 45</th>\n",
              "      <th>Item 46</th>\n",
              "      <th>Item 47</th>\n",
              "      <th>Item 48</th>\n",
              "      <th>Item 49</th>\n",
              "      <th>Item 50</th>\n",
              "      <th>Item 51</th>\n",
              "      <th>Item 52</th>\n",
              "      <th>Item 53</th>\n",
              "      <th>Item 54</th>\n",
              "      <th>Item 55</th>\n",
              "      <th>Item 56</th>\n",
              "      <th>Item 57</th>\n",
              "      <th>Item 58</th>\n",
              "      <th>Item 59</th>\n",
              "      <th>Item 60</th>\n",
              "      <th>Item 61</th>\n",
              "      <th>Item 62</th>\n",
              "      <th>Item 63</th>\n",
              "      <th>Item 64</th>\n",
              "      <th>Item 65</th>\n",
              "      <th>Item 66</th>\n",
              "      <th>Item 67</th>\n",
              "      <th>Item 68</th>\n",
              "      <th>Item 69</th>\n",
              "      <th>Item 70</th>\n",
              "      <th>Item 71</th>\n",
              "      <th>Item 72</th>\n",
              "      <th>Item 73</th>\n",
              "      <th>Item 74</th>\n",
              "      <th>Item 75</th>\n",
              "      <th>Item 76</th>\n",
              "      <th>Item 77</th>\n",
              "      <th>DataFormatada</th>\n",
              "    </tr>\n",
              "  </thead>\n",
              "  <tbody>\n",
              "    <tr>\n",
              "      <th>0</th>\n",
              "      <td>9601</td>\n",
              "      <td>11:00:14</td>\n",
              "      <td>11:14:14</td>\n",
              "      <td>00:13:59</td>\n",
              "      <td>02/01/2019</td>\n",
              "      <td>3876.5</td>\n",
              "      <td>3862.5</td>\n",
              "      <td>0.0</td>\n",
              "      <td>14.0</td>\n",
              "      <td>2</td>\n",
              "      <td>-14.0</td>\n",
              "      <td>120</td>\n",
              "      <td>135</td>\n",
              "      <td>54400</td>\n",
              "      <td>-1800</td>\n",
              "      <td>-11.5</td>\n",
              "      <td>24</td>\n",
              "      <td>460.0</td>\n",
              "      <td>460.0</td>\n",
              "      <td>460.0</td>\n",
              "      <td>460.0</td>\n",
              "      <td>280.0</td>\n",
              "      <td>6800.0</td>\n",
              "      <td>9000.0</td>\n",
              "      <td>11400.0</td>\n",
              "      <td>22.0</td>\n",
              "      <td>52.0</td>\n",
              "      <td>40.5</td>\n",
              "      <td>37.5</td>\n",
              "      <td>-11.0</td>\n",
              "      <td>-6.0</td>\n",
              "      <td>-4.0</td>\n",
              "      <td>1.0</td>\n",
              "      <td>-1.0</td>\n",
              "      <td>-2.0</td>\n",
              "      <td>-58</td>\n",
              "      <td>-0.52</td>\n",
              "      <td>-66</td>\n",
              "      <td>-0.84</td>\n",
              "      <td>-60</td>\n",
              "      <td>...</td>\n",
              "      <td>33</td>\n",
              "      <td>39</td>\n",
              "      <td>41</td>\n",
              "      <td>27</td>\n",
              "      <td>37</td>\n",
              "      <td>44</td>\n",
              "      <td>0</td>\n",
              "      <td>100</td>\n",
              "      <td>500</td>\n",
              "      <td>5</td>\n",
              "      <td>15</td>\n",
              "      <td>5</td>\n",
              "      <td>0</td>\n",
              "      <td>0</td>\n",
              "      <td>-1500</td>\n",
              "      <td>10</td>\n",
              "      <td>10</td>\n",
              "      <td>440</td>\n",
              "      <td>-11</td>\n",
              "      <td>-4.0</td>\n",
              "      <td>-8.5</td>\n",
              "      <td>-9.5</td>\n",
              "      <td>-7.0</td>\n",
              "      <td>-8.5</td>\n",
              "      <td>-9.5</td>\n",
              "      <td>-6.5</td>\n",
              "      <td>-2.0</td>\n",
              "      <td>-1.0</td>\n",
              "      <td>-3.5</td>\n",
              "      <td>-2.0</td>\n",
              "      <td>-1.0</td>\n",
              "      <td>-3.0</td>\n",
              "      <td>0.0</td>\n",
              "      <td>-1.0</td>\n",
              "      <td>0.0</td>\n",
              "      <td>0.0</td>\n",
              "      <td>0.0</td>\n",
              "      <td>2.9</td>\n",
              "      <td>5.4</td>\n",
              "      <td>2019-01-02</td>\n",
              "    </tr>\n",
              "    <tr>\n",
              "      <th>1</th>\n",
              "      <td>9602</td>\n",
              "      <td>11:01:15</td>\n",
              "      <td>11:14:29</td>\n",
              "      <td>00:13:14</td>\n",
              "      <td>02/01/2019</td>\n",
              "      <td>3874.5</td>\n",
              "      <td>3859.0</td>\n",
              "      <td>0.0</td>\n",
              "      <td>15.5</td>\n",
              "      <td>2</td>\n",
              "      <td>-15.5</td>\n",
              "      <td>120</td>\n",
              "      <td>135</td>\n",
              "      <td>57600</td>\n",
              "      <td>-2200</td>\n",
              "      <td>-13.5</td>\n",
              "      <td>24</td>\n",
              "      <td>460.0</td>\n",
              "      <td>460.0</td>\n",
              "      <td>460.0</td>\n",
              "      <td>460.0</td>\n",
              "      <td>480.0</td>\n",
              "      <td>6800.0</td>\n",
              "      <td>9000.0</td>\n",
              "      <td>11400.0</td>\n",
              "      <td>38.0</td>\n",
              "      <td>52.0</td>\n",
              "      <td>40.5</td>\n",
              "      <td>37.5</td>\n",
              "      <td>-13.0</td>\n",
              "      <td>-7.0</td>\n",
              "      <td>-4.0</td>\n",
              "      <td>-4.0</td>\n",
              "      <td>-4.0</td>\n",
              "      <td>-2.0</td>\n",
              "      <td>4</td>\n",
              "      <td>0.08</td>\n",
              "      <td>-68</td>\n",
              "      <td>-0.88</td>\n",
              "      <td>-64</td>\n",
              "      <td>...</td>\n",
              "      <td>33</td>\n",
              "      <td>37</td>\n",
              "      <td>36</td>\n",
              "      <td>27</td>\n",
              "      <td>34</td>\n",
              "      <td>41</td>\n",
              "      <td>200</td>\n",
              "      <td>700</td>\n",
              "      <td>500</td>\n",
              "      <td>5</td>\n",
              "      <td>0</td>\n",
              "      <td>5</td>\n",
              "      <td>0</td>\n",
              "      <td>-2800</td>\n",
              "      <td>-1500</td>\n",
              "      <td>90</td>\n",
              "      <td>6690</td>\n",
              "      <td>440</td>\n",
              "      <td>-12</td>\n",
              "      <td>-5.0</td>\n",
              "      <td>-10.5</td>\n",
              "      <td>-11.5</td>\n",
              "      <td>-8.5</td>\n",
              "      <td>-11.0</td>\n",
              "      <td>-11.5</td>\n",
              "      <td>-7.5</td>\n",
              "      <td>-2.0</td>\n",
              "      <td>-1.0</td>\n",
              "      <td>-4.0</td>\n",
              "      <td>-1.5</td>\n",
              "      <td>-1.0</td>\n",
              "      <td>-3.5</td>\n",
              "      <td>-0.5</td>\n",
              "      <td>-1.0</td>\n",
              "      <td>0.0</td>\n",
              "      <td>0.0</td>\n",
              "      <td>0.0</td>\n",
              "      <td>2.9</td>\n",
              "      <td>5.4</td>\n",
              "      <td>2019-01-02</td>\n",
              "    </tr>\n",
              "    <tr>\n",
              "      <th>2</th>\n",
              "      <td>9603</td>\n",
              "      <td>11:02:16</td>\n",
              "      <td>11:19:46</td>\n",
              "      <td>00:17:30</td>\n",
              "      <td>02/01/2019</td>\n",
              "      <td>3872.5</td>\n",
              "      <td>3858.0</td>\n",
              "      <td>0.0</td>\n",
              "      <td>14.5</td>\n",
              "      <td>2</td>\n",
              "      <td>-14.5</td>\n",
              "      <td>120</td>\n",
              "      <td>140</td>\n",
              "      <td>57600</td>\n",
              "      <td>-2400</td>\n",
              "      <td>-15.5</td>\n",
              "      <td>24</td>\n",
              "      <td>470.0</td>\n",
              "      <td>460.0</td>\n",
              "      <td>460.0</td>\n",
              "      <td>460.0</td>\n",
              "      <td>1160.0</td>\n",
              "      <td>6800.0</td>\n",
              "      <td>9000.0</td>\n",
              "      <td>11400.0</td>\n",
              "      <td>78.0</td>\n",
              "      <td>52.0</td>\n",
              "      <td>40.5</td>\n",
              "      <td>37.5</td>\n",
              "      <td>-16.0</td>\n",
              "      <td>-8.0</td>\n",
              "      <td>-5.0</td>\n",
              "      <td>-5.0</td>\n",
              "      <td>-4.0</td>\n",
              "      <td>-1.0</td>\n",
              "      <td>-54</td>\n",
              "      <td>-0.82</td>\n",
              "      <td>-70</td>\n",
              "      <td>-0.92</td>\n",
              "      <td>-68</td>\n",
              "      <td>...</td>\n",
              "      <td>19</td>\n",
              "      <td>38</td>\n",
              "      <td>29</td>\n",
              "      <td>25</td>\n",
              "      <td>34</td>\n",
              "      <td>36</td>\n",
              "      <td>200</td>\n",
              "      <td>200</td>\n",
              "      <td>1000</td>\n",
              "      <td>15</td>\n",
              "      <td>5</td>\n",
              "      <td>0</td>\n",
              "      <td>0</td>\n",
              "      <td>-400</td>\n",
              "      <td>-5500</td>\n",
              "      <td>20</td>\n",
              "      <td>110</td>\n",
              "      <td>19650</td>\n",
              "      <td>-14</td>\n",
              "      <td>-5.5</td>\n",
              "      <td>-11.5</td>\n",
              "      <td>-14.5</td>\n",
              "      <td>-9.5</td>\n",
              "      <td>-12.5</td>\n",
              "      <td>-14.5</td>\n",
              "      <td>-8.5</td>\n",
              "      <td>-2.5</td>\n",
              "      <td>0.5</td>\n",
              "      <td>-4.5</td>\n",
              "      <td>-2.0</td>\n",
              "      <td>0.5</td>\n",
              "      <td>-4.0</td>\n",
              "      <td>-1.0</td>\n",
              "      <td>-2.5</td>\n",
              "      <td>0.0</td>\n",
              "      <td>0.0</td>\n",
              "      <td>0.0</td>\n",
              "      <td>2.0</td>\n",
              "      <td>5.4</td>\n",
              "      <td>2019-01-02</td>\n",
              "    </tr>\n",
              "    <tr>\n",
              "      <th>3</th>\n",
              "      <td>9604</td>\n",
              "      <td>11:03:18</td>\n",
              "      <td>11:19:46</td>\n",
              "      <td>00:16:28</td>\n",
              "      <td>02/01/2019</td>\n",
              "      <td>3872.0</td>\n",
              "      <td>3858.0</td>\n",
              "      <td>0.0</td>\n",
              "      <td>14.0</td>\n",
              "      <td>2</td>\n",
              "      <td>-14.0</td>\n",
              "      <td>125</td>\n",
              "      <td>140</td>\n",
              "      <td>57600</td>\n",
              "      <td>-2400</td>\n",
              "      <td>-16.0</td>\n",
              "      <td>24</td>\n",
              "      <td>480.0</td>\n",
              "      <td>460.0</td>\n",
              "      <td>460.0</td>\n",
              "      <td>460.0</td>\n",
              "      <td>1720.0</td>\n",
              "      <td>6800.0</td>\n",
              "      <td>9000.0</td>\n",
              "      <td>11400.0</td>\n",
              "      <td>116.0</td>\n",
              "      <td>52.0</td>\n",
              "      <td>40.5</td>\n",
              "      <td>37.5</td>\n",
              "      <td>-16.0</td>\n",
              "      <td>-8.0</td>\n",
              "      <td>-5.0</td>\n",
              "      <td>-1.0</td>\n",
              "      <td>-1.0</td>\n",
              "      <td>-1.0</td>\n",
              "      <td>-64</td>\n",
              "      <td>-0.94</td>\n",
              "      <td>-68</td>\n",
              "      <td>-0.90</td>\n",
              "      <td>-68</td>\n",
              "      <td>...</td>\n",
              "      <td>18</td>\n",
              "      <td>33</td>\n",
              "      <td>28</td>\n",
              "      <td>26</td>\n",
              "      <td>31</td>\n",
              "      <td>35</td>\n",
              "      <td>-100</td>\n",
              "      <td>100</td>\n",
              "      <td>1000</td>\n",
              "      <td>0</td>\n",
              "      <td>5</td>\n",
              "      <td>0</td>\n",
              "      <td>-800</td>\n",
              "      <td>0</td>\n",
              "      <td>-5500</td>\n",
              "      <td>170</td>\n",
              "      <td>20</td>\n",
              "      <td>19650</td>\n",
              "      <td>-14</td>\n",
              "      <td>-4.5</td>\n",
              "      <td>-12.5</td>\n",
              "      <td>-15.0</td>\n",
              "      <td>-9.5</td>\n",
              "      <td>-13.0</td>\n",
              "      <td>-15.0</td>\n",
              "      <td>-9.5</td>\n",
              "      <td>-1.5</td>\n",
              "      <td>0.5</td>\n",
              "      <td>-5.0</td>\n",
              "      <td>-1.0</td>\n",
              "      <td>0.5</td>\n",
              "      <td>-5.0</td>\n",
              "      <td>-0.5</td>\n",
              "      <td>-2.5</td>\n",
              "      <td>0.0</td>\n",
              "      <td>0.0</td>\n",
              "      <td>0.0</td>\n",
              "      <td>1.8</td>\n",
              "      <td>5.4</td>\n",
              "      <td>2019-01-02</td>\n",
              "    </tr>\n",
              "    <tr>\n",
              "      <th>4</th>\n",
              "      <td>9605</td>\n",
              "      <td>11:04:39</td>\n",
              "      <td>11:19:46</td>\n",
              "      <td>00:15:07</td>\n",
              "      <td>02/01/2019</td>\n",
              "      <td>3872.0</td>\n",
              "      <td>3858.0</td>\n",
              "      <td>0.0</td>\n",
              "      <td>14.0</td>\n",
              "      <td>2</td>\n",
              "      <td>-14.0</td>\n",
              "      <td>125</td>\n",
              "      <td>140</td>\n",
              "      <td>60800</td>\n",
              "      <td>-2400</td>\n",
              "      <td>-16.0</td>\n",
              "      <td>24</td>\n",
              "      <td>480.0</td>\n",
              "      <td>460.0</td>\n",
              "      <td>460.0</td>\n",
              "      <td>460.0</td>\n",
              "      <td>680.0</td>\n",
              "      <td>6800.0</td>\n",
              "      <td>9000.0</td>\n",
              "      <td>11400.0</td>\n",
              "      <td>36.0</td>\n",
              "      <td>52.0</td>\n",
              "      <td>40.5</td>\n",
              "      <td>37.5</td>\n",
              "      <td>-16.0</td>\n",
              "      <td>-8.0</td>\n",
              "      <td>-5.0</td>\n",
              "      <td>-1.0</td>\n",
              "      <td>-1.0</td>\n",
              "      <td>-1.0</td>\n",
              "      <td>-64</td>\n",
              "      <td>-0.96</td>\n",
              "      <td>-66</td>\n",
              "      <td>-0.88</td>\n",
              "      <td>-68</td>\n",
              "      <td>...</td>\n",
              "      <td>21</td>\n",
              "      <td>37</td>\n",
              "      <td>29</td>\n",
              "      <td>23</td>\n",
              "      <td>38</td>\n",
              "      <td>36</td>\n",
              "      <td>0</td>\n",
              "      <td>100</td>\n",
              "      <td>1000</td>\n",
              "      <td>5</td>\n",
              "      <td>5</td>\n",
              "      <td>0</td>\n",
              "      <td>0</td>\n",
              "      <td>0</td>\n",
              "      <td>-5500</td>\n",
              "      <td>20</td>\n",
              "      <td>20</td>\n",
              "      <td>19650</td>\n",
              "      <td>-14</td>\n",
              "      <td>-3.5</td>\n",
              "      <td>-12.5</td>\n",
              "      <td>-15.0</td>\n",
              "      <td>-8.5</td>\n",
              "      <td>-12.5</td>\n",
              "      <td>-15.0</td>\n",
              "      <td>-10.5</td>\n",
              "      <td>-1.5</td>\n",
              "      <td>0.5</td>\n",
              "      <td>-5.5</td>\n",
              "      <td>-1.5</td>\n",
              "      <td>0.5</td>\n",
              "      <td>-5.0</td>\n",
              "      <td>0.0</td>\n",
              "      <td>-2.5</td>\n",
              "      <td>0.0</td>\n",
              "      <td>0.0</td>\n",
              "      <td>0.0</td>\n",
              "      <td>1.6</td>\n",
              "      <td>5.4</td>\n",
              "      <td>2019-01-02</td>\n",
              "    </tr>\n",
              "  </tbody>\n",
              "</table>\n",
              "<p>5 rows × 91 columns</p>\n",
              "</div>"
            ],
            "text/plain": [
              "   CodOp Hora Entrada Hora Saida  ... Item 76 Item 77  DataFormatada\n",
              "0   9601     11:00:14   11:14:14  ...     2.9     5.4     2019-01-02\n",
              "1   9602     11:01:15   11:14:29  ...     2.9     5.4     2019-01-02\n",
              "2   9603     11:02:16   11:19:46  ...     2.0     5.4     2019-01-02\n",
              "3   9604     11:03:18   11:19:46  ...     1.8     5.4     2019-01-02\n",
              "4   9605     11:04:39   11:19:46  ...     1.6     5.4     2019-01-02\n",
              "\n",
              "[5 rows x 91 columns]"
            ]
          },
          "metadata": {
            "tags": []
          },
          "execution_count": 3
        }
      ]
    },
    {
      "cell_type": "code",
      "metadata": {
        "id": "Y0NU0d09etBP",
        "colab_type": "code",
        "colab": {}
      },
      "source": [
        "#separa um mês em cada  dataframe e faz todas as operações de preparação do daframe criado\n",
        "variables = locals()\n",
        "for i in range(1,13):\n",
        "  mes = str(i).zfill(2)\n",
        "  variables[\"mes{0}\".format(mes)] = historic[historic['DataFormatada'].dt.month == i]\n",
        "  #separa o target e o código da operação\n",
        "  variables[\"target{0}\".format(mes)] = variables[\"mes{0}\".format(mes)][['CodOp', 'Resultado']].copy()\n",
        "  #indica o campo CodOp como índice nos 2 dataframes (para conferência futura)\n",
        "  variables[\"mes{0}\".format(mes)] = variables[\"mes{0}\".format(mes)].set_index('CodOp')\n",
        "  variables[\"target{0}\".format(mes)] = variables[\"target{0}\".format(mes)].set_index('CodOp')\n",
        "  #apaga o campo target do dataframe original e outros campos já definidos como não necessários\n",
        "  variables[\"mes{0}\".format(mes)] = variables[\"mes{0}\".format(mes)].drop(['Resultado', 'Hora Entrada', 'Hora Saida',\n",
        "                                                                          'Duração', 'Data', 'Pentrada', 'Psaida', 'Ganhos',\n",
        "                                                                          'Perdas', 'Saldo Trade', 'K entra', 'K Saida', 'DataFormatada'], axis=1)"
      ],
      "execution_count": 4,
      "outputs": []
    },
    {
      "cell_type": "markdown",
      "metadata": {
        "id": "I8F3MP9kEwiM",
        "colab_type": "text"
      },
      "source": [
        "# Criando um arquivo separado com base no mês para teste"
      ]
    },
    {
      "cell_type": "code",
      "metadata": {
        "id": "viwaY_ZVcXyl",
        "colab_type": "code",
        "colab": {}
      },
      "source": [
        "mesesTreino = ['01', '02', '03'] #train\n",
        "mesValidacao = '04' #test"
      ],
      "execution_count": 5,
      "outputs": []
    },
    {
      "cell_type": "code",
      "metadata": {
        "id": "U267JxQ7co9i",
        "colab_type": "code",
        "colab": {
          "base_uri": "https://localhost:8080/",
          "height": 85
        },
        "outputId": "ec4b94fd-21de-4b8c-815c-a875e0db0bf0"
      },
      "source": [
        "#prepara os datasets de acordo com os meses informados\n",
        "variables = locals()\n",
        "X_train = variables[\"mes{}\".format(mesesTreino[0])].copy()\n",
        "for i in range(1, len(mesesTreino)):\n",
        "  X_train = X_train.append(variables[\"mes{}\".format(mesesTreino[i])])\n",
        "print(X_train.shape)\n",
        "\n",
        "X_test = variables[\"mes{}\".format(mesValidacao)].copy()\n",
        "print(X_test.shape)\n",
        "\n",
        "#e também dos objetivos para validação\n",
        "y_train = variables[\"target{}\".format(mesesTreino[0])].copy()\n",
        "for i in range(1, len(mesesTreino)):\n",
        "  y_train = y_train.append(variables[\"target{}\".format(mesesTreino[i])])\n",
        "print(y_train.shape)\n",
        "\n",
        "y_test = variables[\"target{}\".format(mesValidacao)].copy()\n",
        "print(y_test.shape)\n",
        "#converte em array\n",
        "y_test = y_test.values.ravel()"
      ],
      "execution_count": 19,
      "outputs": [
        {
          "output_type": "stream",
          "text": [
            "(9360, 77)\n",
            "(3336, 77)\n",
            "(9360, 1)\n",
            "(3336, 1)\n"
          ],
          "name": "stdout"
        }
      ]
    },
    {
      "cell_type": "markdown",
      "metadata": {
        "id": "pWCdPe1LEKTA",
        "colab_type": "text"
      },
      "source": [
        "# Seleção de variáveis baseada no classificador"
      ]
    },
    {
      "cell_type": "code",
      "metadata": {
        "id": "HelbOFwkELaF",
        "colab_type": "code",
        "colab": {}
      },
      "source": [
        "#cria função para avaliar importância\n",
        "def etc_importances(features_interna, outcome_interna, n_estimators):\n",
        "  model = RandomForestClassifier(n_estimators=n_estimators, random_state=0, n_jobs=-1, criterion='entropy', verbose=0)\n",
        "  model.fit(features_interna, np.array(outcome_interna).ravel())\n",
        "\n",
        "  importances = model.feature_importances_\n",
        "  variables = np.array(features_interna.columns)\n",
        "  indices = np.argsort(importances)[::-1] #tudo, em ordem decrescente\n",
        "  importances = importances[indices]\n",
        "  variables = variables[indices]\n",
        "\n",
        "  return variables, importances"
      ],
      "execution_count": 24,
      "outputs": []
    },
    {
      "cell_type": "code",
      "metadata": {
        "id": "jELicTOLEdkl",
        "colab_type": "code",
        "colab": {}
      },
      "source": [
        "#cria função para plotar importâncias x variáveis acumulado\n",
        "def sum_and_plot_importances(variables, importances):\n",
        "  sum_importances = pd.DataFrame()\n",
        "  for i in range(importances.size):\n",
        "    sum_importance = importances[:(i+1)].sum() #soma todas as colunas anteriores a i\n",
        "    this_variable = pd.Series([variables[i], sum_importance])\n",
        "    sum_importances = sum_importances.append(this_variable, ignore_index=True)\n",
        "  plt.scatter(sum_importances.index, sum_importances.iloc[:,1])\n",
        "  return sum_importances"
      ],
      "execution_count": 28,
      "outputs": []
    },
    {
      "cell_type": "code",
      "metadata": {
        "id": "D5NJ8uTnEUH3",
        "colab_type": "code",
        "colab": {}
      },
      "source": [
        "variables, importances = etc_importances(X_train, y_train, n_estimators=300)"
      ],
      "execution_count": 37,
      "outputs": []
    },
    {
      "cell_type": "code",
      "metadata": {
        "id": "TtR_QWg2EhfF",
        "colab_type": "code",
        "colab": {
          "base_uri": "https://localhost:8080/",
          "height": 265
        },
        "outputId": "2ab823c8-5bf6-4f03-c8fe-3760629de25d"
      },
      "source": [
        "#plota a importância das variáveis\n",
        "sum_importances = sum_and_plot_importances(variables, importances)"
      ],
      "execution_count": 38,
      "outputs": [
        {
          "output_type": "display_data",
          "data": {
            "image/png": "[encoded data removed]",
            "text/plain": [
              "<Figure size 432x288 with 1 Axes>"
            ]
          },
          "metadata": {
            "tags": [],
            "needs_background": "light"
          }
        }
      ]
    },
    {
      "cell_type": "code",
      "metadata": {
        "id": "TsLlbdWBEmeU",
        "colab_type": "code",
        "colab": {
          "base_uri": "https://localhost:8080/",
          "height": 419
        },
        "outputId": "a42b1826-a032-4092-bcf3-706cfff6d7fa"
      },
      "source": [
        "#mostra a ordem e a importância das variáveis no cálculo final, sendo a primeira a mais importante e a última a menos significativa\n",
        "sum_importances"
      ],
      "execution_count": 39,
      "outputs": [
        {
          "output_type": "execute_result",
          "data": {
            "text/html": [
              "<div>\n",
              "<style scoped>\n",
              "    .dataframe tbody tr th:only-of-type {\n",
              "        vertical-align: middle;\n",
              "    }\n",
              "\n",
              "    .dataframe tbody tr th {\n",
              "        vertical-align: top;\n",
              "    }\n",
              "\n",
              "    .dataframe thead th {\n",
              "        text-align: right;\n",
              "    }\n",
              "</style>\n",
              "<table border=\"1\" class=\"dataframe\">\n",
              "  <thead>\n",
              "    <tr style=\"text-align: right;\">\n",
              "      <th></th>\n",
              "      <th>0</th>\n",
              "      <th>1</th>\n",
              "    </tr>\n",
              "  </thead>\n",
              "  <tbody>\n",
              "    <tr>\n",
              "      <th>0</th>\n",
              "      <td>Item 2</td>\n",
              "      <td>0.046472</td>\n",
              "    </tr>\n",
              "    <tr>\n",
              "      <th>1</th>\n",
              "      <td>Item 3</td>\n",
              "      <td>0.081895</td>\n",
              "    </tr>\n",
              "    <tr>\n",
              "      <th>2</th>\n",
              "      <td>Item 8</td>\n",
              "      <td>0.114585</td>\n",
              "    </tr>\n",
              "    <tr>\n",
              "      <th>3</th>\n",
              "      <td>Item 17</td>\n",
              "      <td>0.146250</td>\n",
              "    </tr>\n",
              "    <tr>\n",
              "      <th>4</th>\n",
              "      <td>Item 1</td>\n",
              "      <td>0.176481</td>\n",
              "    </tr>\n",
              "    <tr>\n",
              "      <th>...</th>\n",
              "      <td>...</td>\n",
              "      <td>...</td>\n",
              "    </tr>\n",
              "    <tr>\n",
              "      <th>72</th>\n",
              "      <td>Item 49</td>\n",
              "      <td>0.995798</td>\n",
              "    </tr>\n",
              "    <tr>\n",
              "      <th>73</th>\n",
              "      <td>Item 21</td>\n",
              "      <td>0.997801</td>\n",
              "    </tr>\n",
              "    <tr>\n",
              "      <th>74</th>\n",
              "      <td>Item 51</td>\n",
              "      <td>0.998922</td>\n",
              "    </tr>\n",
              "    <tr>\n",
              "      <th>75</th>\n",
              "      <td>Item 50</td>\n",
              "      <td>1.000000</td>\n",
              "    </tr>\n",
              "    <tr>\n",
              "      <th>76</th>\n",
              "      <td>Item 75</td>\n",
              "      <td>1.000000</td>\n",
              "    </tr>\n",
              "  </tbody>\n",
              "</table>\n",
              "<p>77 rows × 2 columns</p>\n",
              "</div>"
            ],
            "text/plain": [
              "          0         1\n",
              "0    Item 2  0.046472\n",
              "1    Item 3  0.081895\n",
              "2    Item 8  0.114585\n",
              "3   Item 17  0.146250\n",
              "4    Item 1  0.176481\n",
              "..      ...       ...\n",
              "72  Item 49  0.995798\n",
              "73  Item 21  0.997801\n",
              "74  Item 51  0.998922\n",
              "75  Item 50  1.000000\n",
              "76  Item 75  1.000000\n",
              "\n",
              "[77 rows x 2 columns]"
            ]
          },
          "metadata": {
            "tags": []
          },
          "execution_count": 39
        }
      ]
    },
    {
      "cell_type": "code",
      "metadata": {
        "id": "ObqTOZ_PZRI7",
        "colab_type": "code",
        "colab": {
          "base_uri": "https://localhost:8080/",
          "height": 51
        },
        "outputId": "919c5912-56f1-44d8-9fae-2a56c23c4b41"
      },
      "source": [
        "#lista a quantidade de ocorrência por resultado para avaliar em y_train e y_test\n",
        "print(\"Total de resultado 1 e 2 em treino: \", sum(num == 1 for num in y_train.values.ravel()), '+', sum(num == 2 for num in y_train.values.ravel()), '=', len(y_train.values.ravel()))\n",
        "print(\"Total de resultado 1 e 2 em teste: \", sum(num == 1 for num in y_test), '+', sum(num == 2 for num in y_test), '=', len(y_test))"
      ],
      "execution_count": 40,
      "outputs": [
        {
          "output_type": "stream",
          "text": [
            "Total de resultado 1 e 2 em treino:  4492 + 4868 = 9360\n",
            "Total de resultado 1 e 2 em teste:  1479 + 1857 = 3336\n"
          ],
          "name": "stdout"
        }
      ]
    },
    {
      "cell_type": "markdown",
      "metadata": {
        "id": "6tirV7EfFNGL",
        "colab_type": "text"
      },
      "source": [
        "# Modelagem"
      ]
    },
    {
      "cell_type": "code",
      "metadata": {
        "id": "j7mrS5_SFP4T",
        "colab_type": "code",
        "colab": {}
      },
      "source": [
        "#faz a função para mostrar AUC e ROC\n",
        "def rfc_test(X_train, y_train, n_estimators, cv):\n",
        "  np.random.seed(1)\n",
        "  rfc = RandomForestClassifier(n_estimators=n_estimators, random_state=0, n_jobs=-1, criterion='entropy', verbose=0)\n",
        "  cv_scores = cross_val_score(rfc, X_train, y_train, scoring='roc_auc', cv=cv, n_jobs=-1)\n",
        "  print('Média dos {} testes: '.format(cv), cv_scores.mean())\n",
        "  return rfc"
      ],
      "execution_count": 41,
      "outputs": []
    },
    {
      "cell_type": "code",
      "metadata": {
        "id": "3nQtPnTAFYPD",
        "colab_type": "code",
        "colab": {
          "base_uri": "https://localhost:8080/",
          "height": 34
        },
        "outputId": "af50d373-d73e-44b4-dafa-08120cf051b5"
      },
      "source": [
        "#gera o modelo\n",
        "model = rfc_test(X_train, y_train, cv=20, n_estimators=340)"
      ],
      "execution_count": 42,
      "outputs": [
        {
          "output_type": "stream",
          "text": [
            "Média dos 20 testes:  0.45276743351809284\n"
          ],
          "name": "stdout"
        }
      ]
    },
    {
      "cell_type": "code",
      "metadata": {
        "id": "QQS0wMb6IJ8g",
        "colab_type": "code",
        "colab": {
          "base_uri": "https://localhost:8080/",
          "height": 153
        },
        "outputId": "bcbf3e5e-03fa-47f0-e33b-cdb95ed561be"
      },
      "source": [
        "#fit modelo\n",
        "model.fit(X_train, y_train.values.ravel())"
      ],
      "execution_count": 43,
      "outputs": [
        {
          "output_type": "execute_result",
          "data": {
            "text/plain": [
              "RandomForestClassifier(bootstrap=True, ccp_alpha=0.0, class_weight=None,\n",
              "                       criterion='entropy', max_depth=None, max_features='auto',\n",
              "                       max_leaf_nodes=None, max_samples=None,\n",
              "                       min_impurity_decrease=0.0, min_impurity_split=None,\n",
              "                       min_samples_leaf=1, min_samples_split=2,\n",
              "                       min_weight_fraction_leaf=0.0, n_estimators=340,\n",
              "                       n_jobs=-1, oob_score=False, random_state=0, verbose=0,\n",
              "                       warm_start=False)"
            ]
          },
          "metadata": {
            "tags": []
          },
          "execution_count": 43
        }
      ]
    },
    {
      "cell_type": "code",
      "metadata": {
        "id": "8fMmigf-IoCu",
        "colab_type": "code",
        "colab": {}
      },
      "source": [
        "#faz predição com dados de validacao\n",
        "valoresPrevistos = model.predict(X_test)\n",
        "#resultado = 1 ou 2"
      ],
      "execution_count": 44,
      "outputs": []
    },
    {
      "cell_type": "code",
      "metadata": {
        "id": "Ilvn9wh3JXjF",
        "colab_type": "code",
        "colab": {
          "base_uri": "https://localhost:8080/",
          "height": 34
        },
        "outputId": "98d8d151-a6c6-4665-b65b-5ed52b7b6331"
      },
      "source": [
        "valoresPrevistos"
      ],
      "execution_count": 45,
      "outputs": [
        {
          "output_type": "execute_result",
          "data": {
            "text/plain": [
              "array([2, 2, 2, ..., 2, 2, 2])"
            ]
          },
          "metadata": {
            "tags": []
          },
          "execution_count": 45
        }
      ]
    },
    {
      "cell_type": "code",
      "metadata": {
        "id": "zEkknq3DJhrH",
        "colab_type": "code",
        "colab": {
          "base_uri": "https://localhost:8080/",
          "height": 34
        },
        "outputId": "60dfa08a-a35e-4ef2-e7bb-e875c2b44921"
      },
      "source": [
        "y_test"
      ],
      "execution_count": 46,
      "outputs": [
        {
          "output_type": "execute_result",
          "data": {
            "text/plain": [
              "array([1, 2, 2, ..., 2, 2, 2])"
            ]
          },
          "metadata": {
            "tags": []
          },
          "execution_count": 46
        }
      ]
    },
    {
      "cell_type": "code",
      "metadata": {
        "id": "sVDRGZbAMH6h",
        "colab_type": "code",
        "colab": {
          "base_uri": "https://localhost:8080/",
          "height": 544
        },
        "outputId": "016d4eb5-67fe-4c3b-81ee-9767b2ed51de"
      },
      "source": [
        "#lista comparação dos primeiros 50 registros\n",
        "print(\"Previsto x Real\")\n",
        "for i in range(0, 30):\n",
        "  if valoresPrevistos[i] != y_test[i]:\n",
        "    print(\"   {} x   {}\".format(valoresPrevistos[i], y_test[i]), end=' ')\n",
        "    print(\" <<<--- falha\")\n",
        "  else:\n",
        "    print(\"   {} x   {}\".format(valoresPrevistos[i], y_test[i]))\n"
      ],
      "execution_count": 47,
      "outputs": [
        {
          "output_type": "stream",
          "text": [
            "Previsto x Real\n",
            "   2 x   1  <<<--- falha\n",
            "   2 x   2\n",
            "   2 x   2\n",
            "   2 x   1  <<<--- falha\n",
            "   2 x   1  <<<--- falha\n",
            "   2 x   1  <<<--- falha\n",
            "   2 x   1  <<<--- falha\n",
            "   2 x   1  <<<--- falha\n",
            "   1 x   1\n",
            "   2 x   1  <<<--- falha\n",
            "   2 x   1  <<<--- falha\n",
            "   2 x   1  <<<--- falha\n",
            "   2 x   1  <<<--- falha\n",
            "   2 x   2\n",
            "   2 x   2\n",
            "   2 x   2\n",
            "   2 x   2\n",
            "   2 x   2\n",
            "   2 x   2\n",
            "   2 x   2\n",
            "   2 x   2\n",
            "   2 x   2\n",
            "   2 x   2\n",
            "   2 x   2\n",
            "   2 x   1  <<<--- falha\n",
            "   2 x   2\n",
            "   2 x   2\n",
            "   2 x   2\n",
            "   2 x   2\n",
            "   2 x   1  <<<--- falha\n"
          ],
          "name": "stdout"
        }
      ]
    },
    {
      "cell_type": "code",
      "metadata": {
        "id": "pdbbPrAPJ648",
        "colab_type": "code",
        "colab": {
          "base_uri": "https://localhost:8080/",
          "height": 68
        },
        "outputId": "a8a53267-4c2f-4bed-ad03-18ce632b0725"
      },
      "source": [
        "#lista quantidade de acertos\n",
        "contaOk = 0\n",
        "contaNao = 0\n",
        "for i in range(0, len(y_test)):\n",
        "  if valoresPrevistos[i] == y_test[i]:\n",
        "    contaOk += 1\n",
        "  else:\n",
        "    contaNao += 1\n",
        "\n",
        "print(\"Quantidade de resultados OK: {}\\nQuantidade de resultados Não: {}\".format(contaOk, contaNao))\n",
        "print(\"Percentual de acertos: {:.1f}%\".format(contaOk/len(y_test)*100))"
      ],
      "execution_count": 48,
      "outputs": [
        {
          "output_type": "stream",
          "text": [
            "Quantidade de resultados OK: 1947\n",
            "Quantidade de resultados Não: 1389\n",
            "Percentual de acertos: 58.4%\n"
          ],
          "name": "stdout"
        }
      ]
    }
  ]
}