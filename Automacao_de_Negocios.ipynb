{
  "nbformat": 4,
  "nbformat_minor": 0,
  "metadata": {
    "colab": {
      "name": "Automacao de Negocios",
      "provenance": [],
      "collapsed_sections": [],
      "toc_visible": true,
      "authorship_tag": "ABX9TyNg2HXMfhoIIMFGPQLNoeWO",
      "include_colab_link": true
    },
    "kernelspec": {
      "name": "python3",
      "display_name": "Python 3"
    }
  },
  "cells": [
    {
      "cell_type": "markdown",
      "metadata": {
        "id": "view-in-github",
        "colab_type": "text"
      },
      "source": [
        "<a href=\"https://colab.research.google.com/github/htsnet/automacao-de-negocios/blob/master/Automacao_de_Negocios.ipynb\" target=\"_parent\"><img src=\"https://colab.research.google.com/assets/colab-badge.svg\" alt=\"Open In Colab\"/></a>"
      ]
    },
    {
      "cell_type": "markdown",
      "metadata": {
        "id": "yaO_Gy9974d0",
        "colab_type": "text"
      },
      "source": [
        "# Automação de Negócios\n",
        "\n",
        "Este projeto tem como objetivo a geração de um modelo que permita a automação de decisões de negócios. \n",
        "\n",
        "Baseia-se em uma tabela histórica de simulações de aplicações, com dados fornecidos pela Bolsa de Valores de São Paulo.\n",
        "\n",
        "As operações são de derivativos de contrato de dólar futuro.\n",
        "\n",
        "Descrição dos campos:\n",
        "\n",
        "*   CodOp = Código interno da operação (sem significado)\n",
        "* Hora Entrada = Hora da compra\n",
        "* Hora Saida = Hora da venda\n",
        "* Duração = Intervalo de tempo entre saída e entrada\n",
        "* Data = Data da operação\n",
        "* Pentrada = Preço do papel no momento da compra\n",
        "* Psaida = Preço do papel no momento da venda\n",
        "* Ganhos = Diferença entre compra e venda, se >= 0\n",
        "* Perdas = Diferença entre compra e venda, se < 0\n",
        "* --> Resultado = Resultado da operação (1 = ganho, 2 = perda)  <-- campo target\n",
        "* Ganho Trade = \n",
        "* K entra = \n",
        "* K Saida =\n",
        "* Item 1 = classificador número 1\n",
        "* Item 2 = classificador número 2\n",
        "* ...\n",
        "* Item 77 = classificador número 77\n",
        "\n",
        "Obs. Todos os classificadores são numéricos e sem valores nulos\n",
        "\n"
      ]
    },
    {
      "cell_type": "code",
      "metadata": {
        "id": "60MYovA_7su6",
        "colab_type": "code",
        "colab": {}
      },
      "source": [
        "import pandas as pd\n",
        "import numpy as np\n",
        "from sklearn.ensemble import ExtraTreesClassifier, RandomForestClassifier, GradientBoostingClassifier\n",
        "from matplotlib import pyplot as plt\n",
        "from sklearn.metrics import roc_auc_score\n",
        "from sklearn.model_selection import train_test_split, cross_val_score, GridSearchCV\n",
        "from sklearn.ensemble import RandomForestRegressor\n",
        "from sklearn.metrics import mean_absolute_error\n"
      ],
      "execution_count": null,
      "outputs": []
    },
    {
      "cell_type": "code",
      "metadata": {
        "id": "9lrF2JfV8RVC",
        "colab_type": "code",
        "colab": {}
      },
      "source": [
        "#carrega a tabela de dados\n",
        "#separador de campos = ;\n",
        "#ponto decimal = ,\n",
        "historic = pd.read_csv(\"/content/Amostra Reduzida - Mercado Futuro.csv\", sep=\";\", decimal=\",\")"
      ],
      "execution_count": null,
      "outputs": []
    },
    {
      "cell_type": "code",
      "metadata": {
        "id": "TOj03Vk39AGR",
        "colab_type": "code",
        "colab": {
          "base_uri": "https://localhost:8080/",
          "height": 241
        },
        "outputId": "3911b870-98d4-423b-acb1-e51d23d687ee"
      },
      "source": [
        "#mostra os primeiros registros\n",
        "historic.head()"
      ],
      "execution_count": null,
      "outputs": [
        {
          "output_type": "execute_result",
          "data": {
            "text/html": [
              "<div>\n",
              "<style scoped>\n",
              "    .dataframe tbody tr th:only-of-type {\n",
              "        vertical-align: middle;\n",
              "    }\n",
              "\n",
              "    .dataframe tbody tr th {\n",
              "        vertical-align: top;\n",
              "    }\n",
              "\n",
              "    .dataframe thead th {\n",
              "        text-align: right;\n",
              "    }\n",
              "</style>\n",
              "<table border=\"1\" class=\"dataframe\">\n",
              "  <thead>\n",
              "    <tr style=\"text-align: right;\">\n",
              "      <th></th>\n",
              "      <th>CodOp</th>\n",
              "      <th>Hora Entrada</th>\n",
              "      <th>Hora Saida</th>\n",
              "      <th>Duração</th>\n",
              "      <th>Data</th>\n",
              "      <th>Pentrada</th>\n",
              "      <th>Psaida</th>\n",
              "      <th>Ganhos</th>\n",
              "      <th>Perdas</th>\n",
              "      <th>Resultado</th>\n",
              "      <th>Ganho Trade</th>\n",
              "      <th>K entra</th>\n",
              "      <th>K Saida</th>\n",
              "      <th>Item 1</th>\n",
              "      <th>Item 2</th>\n",
              "      <th>Item 3</th>\n",
              "      <th>Item 8</th>\n",
              "      <th>Item 12</th>\n",
              "      <th>Item 16</th>\n",
              "      <th>Item 21</th>\n",
              "      <th>Item 23</th>\n",
              "      <th>Item 23-1</th>\n",
              "      <th>Item 27</th>\n",
              "      <th>Item 27-1</th>\n",
              "      <th>Item 31</th>\n",
              "      <th>Item 31-1</th>\n",
              "      <th>Item 35</th>\n",
              "      <th>Item 35-1</th>\n",
              "      <th>Item 39</th>\n",
              "      <th>Item 40</th>\n",
              "      <th>Item 42</th>\n",
              "      <th>Item 44</th>\n",
              "      <th>Item 57</th>\n",
              "      <th>Item 59</th>\n",
              "      <th>Item 62</th>\n",
              "      <th>Item 65</th>\n",
              "      <th>Item 68</th>\n",
              "      <th>Item 71</th>\n",
              "      <th>Item 73</th>\n",
              "      <th>Item 76</th>\n",
              "      <th>Item 77</th>\n",
              "    </tr>\n",
              "  </thead>\n",
              "  <tbody>\n",
              "    <tr>\n",
              "      <th>0</th>\n",
              "      <td>9601</td>\n",
              "      <td>11:00:14</td>\n",
              "      <td>11:14:14</td>\n",
              "      <td>00:13:59</td>\n",
              "      <td>02/01/2019</td>\n",
              "      <td>3876.5</td>\n",
              "      <td>3862.5</td>\n",
              "      <td>0.0</td>\n",
              "      <td>14.0</td>\n",
              "      <td>2</td>\n",
              "      <td>-14.0</td>\n",
              "      <td>120</td>\n",
              "      <td>135</td>\n",
              "      <td>54400</td>\n",
              "      <td>-1800</td>\n",
              "      <td>-11.5</td>\n",
              "      <td>460.0</td>\n",
              "      <td>11400.0</td>\n",
              "      <td>37.5</td>\n",
              "      <td>-1.0</td>\n",
              "      <td>-58</td>\n",
              "      <td>-0.52</td>\n",
              "      <td>-60</td>\n",
              "      <td>-0.80</td>\n",
              "      <td>-74</td>\n",
              "      <td>-0.86</td>\n",
              "      <td>-64</td>\n",
              "      <td>-0.94</td>\n",
              "      <td>33</td>\n",
              "      <td>39</td>\n",
              "      <td>27</td>\n",
              "      <td>44</td>\n",
              "      <td>-11</td>\n",
              "      <td>-8.5</td>\n",
              "      <td>-8.5</td>\n",
              "      <td>-2.0</td>\n",
              "      <td>-2.0</td>\n",
              "      <td>0.0</td>\n",
              "      <td>0.0</td>\n",
              "      <td>2.9</td>\n",
              "      <td>5.4</td>\n",
              "    </tr>\n",
              "    <tr>\n",
              "      <th>1</th>\n",
              "      <td>9602</td>\n",
              "      <td>11:01:15</td>\n",
              "      <td>11:14:29</td>\n",
              "      <td>00:13:14</td>\n",
              "      <td>02/01/2019</td>\n",
              "      <td>3874.5</td>\n",
              "      <td>3859.0</td>\n",
              "      <td>0.0</td>\n",
              "      <td>15.5</td>\n",
              "      <td>2</td>\n",
              "      <td>-15.5</td>\n",
              "      <td>120</td>\n",
              "      <td>135</td>\n",
              "      <td>57600</td>\n",
              "      <td>-2200</td>\n",
              "      <td>-13.5</td>\n",
              "      <td>460.0</td>\n",
              "      <td>11400.0</td>\n",
              "      <td>37.5</td>\n",
              "      <td>-4.0</td>\n",
              "      <td>4</td>\n",
              "      <td>0.08</td>\n",
              "      <td>-64</td>\n",
              "      <td>-0.86</td>\n",
              "      <td>-62</td>\n",
              "      <td>-0.86</td>\n",
              "      <td>-66</td>\n",
              "      <td>-0.96</td>\n",
              "      <td>33</td>\n",
              "      <td>37</td>\n",
              "      <td>27</td>\n",
              "      <td>41</td>\n",
              "      <td>-12</td>\n",
              "      <td>-10.5</td>\n",
              "      <td>-11.0</td>\n",
              "      <td>-2.0</td>\n",
              "      <td>-1.5</td>\n",
              "      <td>-0.5</td>\n",
              "      <td>0.0</td>\n",
              "      <td>2.9</td>\n",
              "      <td>5.4</td>\n",
              "    </tr>\n",
              "    <tr>\n",
              "      <th>2</th>\n",
              "      <td>9603</td>\n",
              "      <td>11:02:16</td>\n",
              "      <td>11:19:46</td>\n",
              "      <td>00:17:30</td>\n",
              "      <td>02/01/2019</td>\n",
              "      <td>3872.5</td>\n",
              "      <td>3858.0</td>\n",
              "      <td>0.0</td>\n",
              "      <td>14.5</td>\n",
              "      <td>2</td>\n",
              "      <td>-14.5</td>\n",
              "      <td>120</td>\n",
              "      <td>140</td>\n",
              "      <td>57600</td>\n",
              "      <td>-2400</td>\n",
              "      <td>-15.5</td>\n",
              "      <td>460.0</td>\n",
              "      <td>11400.0</td>\n",
              "      <td>37.5</td>\n",
              "      <td>-4.0</td>\n",
              "      <td>-54</td>\n",
              "      <td>-0.82</td>\n",
              "      <td>-68</td>\n",
              "      <td>-0.92</td>\n",
              "      <td>-70</td>\n",
              "      <td>-0.96</td>\n",
              "      <td>-68</td>\n",
              "      <td>-0.96</td>\n",
              "      <td>19</td>\n",
              "      <td>38</td>\n",
              "      <td>25</td>\n",
              "      <td>36</td>\n",
              "      <td>-14</td>\n",
              "      <td>-11.5</td>\n",
              "      <td>-12.5</td>\n",
              "      <td>-2.5</td>\n",
              "      <td>-2.0</td>\n",
              "      <td>-1.0</td>\n",
              "      <td>0.0</td>\n",
              "      <td>2.0</td>\n",
              "      <td>5.4</td>\n",
              "    </tr>\n",
              "    <tr>\n",
              "      <th>3</th>\n",
              "      <td>9604</td>\n",
              "      <td>11:03:18</td>\n",
              "      <td>11:19:46</td>\n",
              "      <td>00:16:28</td>\n",
              "      <td>02/01/2019</td>\n",
              "      <td>3872.0</td>\n",
              "      <td>3858.0</td>\n",
              "      <td>0.0</td>\n",
              "      <td>14.0</td>\n",
              "      <td>2</td>\n",
              "      <td>-14.0</td>\n",
              "      <td>125</td>\n",
              "      <td>140</td>\n",
              "      <td>57600</td>\n",
              "      <td>-2400</td>\n",
              "      <td>-16.0</td>\n",
              "      <td>460.0</td>\n",
              "      <td>11400.0</td>\n",
              "      <td>37.5</td>\n",
              "      <td>-1.0</td>\n",
              "      <td>-64</td>\n",
              "      <td>-0.94</td>\n",
              "      <td>-68</td>\n",
              "      <td>-0.92</td>\n",
              "      <td>-62</td>\n",
              "      <td>-0.88</td>\n",
              "      <td>-68</td>\n",
              "      <td>-0.98</td>\n",
              "      <td>18</td>\n",
              "      <td>33</td>\n",
              "      <td>26</td>\n",
              "      <td>35</td>\n",
              "      <td>-14</td>\n",
              "      <td>-12.5</td>\n",
              "      <td>-13.0</td>\n",
              "      <td>-1.5</td>\n",
              "      <td>-1.0</td>\n",
              "      <td>-0.5</td>\n",
              "      <td>0.0</td>\n",
              "      <td>1.8</td>\n",
              "      <td>5.4</td>\n",
              "    </tr>\n",
              "    <tr>\n",
              "      <th>4</th>\n",
              "      <td>9605</td>\n",
              "      <td>11:04:39</td>\n",
              "      <td>11:19:46</td>\n",
              "      <td>00:15:07</td>\n",
              "      <td>02/01/2019</td>\n",
              "      <td>3872.0</td>\n",
              "      <td>3858.0</td>\n",
              "      <td>0.0</td>\n",
              "      <td>14.0</td>\n",
              "      <td>2</td>\n",
              "      <td>-14.0</td>\n",
              "      <td>125</td>\n",
              "      <td>140</td>\n",
              "      <td>60800</td>\n",
              "      <td>-2400</td>\n",
              "      <td>-16.0</td>\n",
              "      <td>460.0</td>\n",
              "      <td>11400.0</td>\n",
              "      <td>37.5</td>\n",
              "      <td>-1.0</td>\n",
              "      <td>-64</td>\n",
              "      <td>-0.96</td>\n",
              "      <td>-68</td>\n",
              "      <td>-0.92</td>\n",
              "      <td>-56</td>\n",
              "      <td>-0.80</td>\n",
              "      <td>-68</td>\n",
              "      <td>-0.98</td>\n",
              "      <td>21</td>\n",
              "      <td>37</td>\n",
              "      <td>23</td>\n",
              "      <td>36</td>\n",
              "      <td>-14</td>\n",
              "      <td>-12.5</td>\n",
              "      <td>-12.5</td>\n",
              "      <td>-1.5</td>\n",
              "      <td>-1.5</td>\n",
              "      <td>0.0</td>\n",
              "      <td>0.0</td>\n",
              "      <td>1.6</td>\n",
              "      <td>5.4</td>\n",
              "    </tr>\n",
              "  </tbody>\n",
              "</table>\n",
              "</div>"
            ],
            "text/plain": [
              "   CodOp Hora Entrada Hora Saida   Duração  ... Item 71  Item 73  Item 76  Item 77\n",
              "0   9601     11:00:14   11:14:14  00:13:59  ...     0.0      0.0      2.9      5.4\n",
              "1   9602     11:01:15   11:14:29  00:13:14  ...    -0.5      0.0      2.9      5.4\n",
              "2   9603     11:02:16   11:19:46  00:17:30  ...    -1.0      0.0      2.0      5.4\n",
              "3   9604     11:03:18   11:19:46  00:16:28  ...    -0.5      0.0      1.8      5.4\n",
              "4   9605     11:04:39   11:19:46  00:15:07  ...     0.0      0.0      1.6      5.4\n",
              "\n",
              "[5 rows x 41 columns]"
            ]
          },
          "metadata": {
            "tags": []
          },
          "execution_count": 34
        }
      ]
    },
    {
      "cell_type": "code",
      "metadata": {
        "id": "Q7TnfE2W--7-",
        "colab_type": "code",
        "colab": {
          "base_uri": "https://localhost:8080/",
          "height": 34
        },
        "outputId": "222b6d1e-2495-40de-a838-45b9054a0a0e"
      },
      "source": [
        "#mostra as dimensões da tabela\n",
        "historic.shape"
      ],
      "execution_count": null,
      "outputs": [
        {
          "output_type": "execute_result",
          "data": {
            "text/plain": [
              "(39068, 41)"
            ]
          },
          "metadata": {
            "tags": []
          },
          "execution_count": 35
        }
      ]
    },
    {
      "cell_type": "code",
      "metadata": {
        "id": "oOuPJMeoAOWc",
        "colab_type": "code",
        "colab": {
          "base_uri": "https://localhost:8080/",
          "height": 34
        },
        "outputId": "66237af2-8726-4d6f-9f3d-58435ea704b5"
      },
      "source": [
        "#separa o target e retira do dataframe\n",
        "target = historic['Resultado']\n",
        "target.shape"
      ],
      "execution_count": null,
      "outputs": [
        {
          "output_type": "execute_result",
          "data": {
            "text/plain": [
              "(39068,)"
            ]
          },
          "metadata": {
            "tags": []
          },
          "execution_count": 36
        }
      ]
    },
    {
      "cell_type": "code",
      "metadata": {
        "id": "nlaWkOC6BOTk",
        "colab_type": "code",
        "colab": {
          "base_uri": "https://localhost:8080/",
          "height": 34
        },
        "outputId": "c02e689f-a4cf-40a7-a643-c5ffe7db6e48"
      },
      "source": [
        "#confirma que todo o target está dentro dos limites de resposta (1 ou 2)\n",
        "np.unique(target)"
      ],
      "execution_count": null,
      "outputs": [
        {
          "output_type": "execute_result",
          "data": {
            "text/plain": [
              "array([1, 2])"
            ]
          },
          "metadata": {
            "tags": []
          },
          "execution_count": 37
        }
      ]
    },
    {
      "cell_type": "code",
      "metadata": {
        "id": "ZKnI9fc9AgEr",
        "colab_type": "code",
        "colab": {
          "base_uri": "https://localhost:8080/",
          "height": 119
        },
        "outputId": "5889f358-8b19-4b94-861d-26074cd56285"
      },
      "source": [
        "#mostra as primeiras linhas\n",
        "target.head()"
      ],
      "execution_count": null,
      "outputs": [
        {
          "output_type": "execute_result",
          "data": {
            "text/plain": [
              "0    2\n",
              "1    2\n",
              "2    2\n",
              "3    2\n",
              "4    2\n",
              "Name: Resultado, dtype: int64"
            ]
          },
          "metadata": {
            "tags": []
          },
          "execution_count": 24
        }
      ]
    },
    {
      "cell_type": "code",
      "metadata": {
        "id": "TLupG-u5AnPs",
        "colab_type": "code",
        "colab": {}
      },
      "source": [
        "#apaga o campo target do dataframe original e outros campos já definidos como não necessários\n",
        "historic = historic.drop(['Resultado', 'CodOp', 'Hora Entrada', 'Hora Saida', 'Duração', 'Data', 'Pentrada', 'Psaida', 'Ganhos', 'Perdas', 'Ganho Trade', 'K entra', 'K Saida'], axis=1)"
      ],
      "execution_count": null,
      "outputs": []
    },
    {
      "cell_type": "code",
      "metadata": {
        "id": "BQ68fYMHCOwz",
        "colab_type": "code",
        "colab": {
          "base_uri": "https://localhost:8080/",
          "height": 221
        },
        "outputId": "9f9c02ae-6fae-47de-d146-af2981930b2f"
      },
      "source": [
        "historic.head()"
      ],
      "execution_count": null,
      "outputs": [
        {
          "output_type": "execute_result",
          "data": {
            "text/html": [
              "<div>\n",
              "<style scoped>\n",
              "    .dataframe tbody tr th:only-of-type {\n",
              "        vertical-align: middle;\n",
              "    }\n",
              "\n",
              "    .dataframe tbody tr th {\n",
              "        vertical-align: top;\n",
              "    }\n",
              "\n",
              "    .dataframe thead th {\n",
              "        text-align: right;\n",
              "    }\n",
              "</style>\n",
              "<table border=\"1\" class=\"dataframe\">\n",
              "  <thead>\n",
              "    <tr style=\"text-align: right;\">\n",
              "      <th></th>\n",
              "      <th>Item 1</th>\n",
              "      <th>Item 2</th>\n",
              "      <th>Item 3</th>\n",
              "      <th>Item 8</th>\n",
              "      <th>Item 12</th>\n",
              "      <th>Item 16</th>\n",
              "      <th>Item 21</th>\n",
              "      <th>Item 23</th>\n",
              "      <th>Item 23-1</th>\n",
              "      <th>Item 27</th>\n",
              "      <th>Item 27-1</th>\n",
              "      <th>Item 31</th>\n",
              "      <th>Item 31-1</th>\n",
              "      <th>Item 35</th>\n",
              "      <th>Item 35-1</th>\n",
              "      <th>Item 39</th>\n",
              "      <th>Item 40</th>\n",
              "      <th>Item 42</th>\n",
              "      <th>Item 44</th>\n",
              "      <th>Item 57</th>\n",
              "      <th>Item 59</th>\n",
              "      <th>Item 62</th>\n",
              "      <th>Item 65</th>\n",
              "      <th>Item 68</th>\n",
              "      <th>Item 71</th>\n",
              "      <th>Item 73</th>\n",
              "      <th>Item 76</th>\n",
              "      <th>Item 77</th>\n",
              "    </tr>\n",
              "  </thead>\n",
              "  <tbody>\n",
              "    <tr>\n",
              "      <th>0</th>\n",
              "      <td>54400</td>\n",
              "      <td>-1800</td>\n",
              "      <td>-11.5</td>\n",
              "      <td>460.0</td>\n",
              "      <td>11400.0</td>\n",
              "      <td>37.5</td>\n",
              "      <td>-1.0</td>\n",
              "      <td>-58</td>\n",
              "      <td>-0.52</td>\n",
              "      <td>-60</td>\n",
              "      <td>-0.80</td>\n",
              "      <td>-74</td>\n",
              "      <td>-0.86</td>\n",
              "      <td>-64</td>\n",
              "      <td>-0.94</td>\n",
              "      <td>33</td>\n",
              "      <td>39</td>\n",
              "      <td>27</td>\n",
              "      <td>44</td>\n",
              "      <td>-11</td>\n",
              "      <td>-8.5</td>\n",
              "      <td>-8.5</td>\n",
              "      <td>-2.0</td>\n",
              "      <td>-2.0</td>\n",
              "      <td>0.0</td>\n",
              "      <td>0.0</td>\n",
              "      <td>2.9</td>\n",
              "      <td>5.4</td>\n",
              "    </tr>\n",
              "    <tr>\n",
              "      <th>1</th>\n",
              "      <td>57600</td>\n",
              "      <td>-2200</td>\n",
              "      <td>-13.5</td>\n",
              "      <td>460.0</td>\n",
              "      <td>11400.0</td>\n",
              "      <td>37.5</td>\n",
              "      <td>-4.0</td>\n",
              "      <td>4</td>\n",
              "      <td>0.08</td>\n",
              "      <td>-64</td>\n",
              "      <td>-0.86</td>\n",
              "      <td>-62</td>\n",
              "      <td>-0.86</td>\n",
              "      <td>-66</td>\n",
              "      <td>-0.96</td>\n",
              "      <td>33</td>\n",
              "      <td>37</td>\n",
              "      <td>27</td>\n",
              "      <td>41</td>\n",
              "      <td>-12</td>\n",
              "      <td>-10.5</td>\n",
              "      <td>-11.0</td>\n",
              "      <td>-2.0</td>\n",
              "      <td>-1.5</td>\n",
              "      <td>-0.5</td>\n",
              "      <td>0.0</td>\n",
              "      <td>2.9</td>\n",
              "      <td>5.4</td>\n",
              "    </tr>\n",
              "    <tr>\n",
              "      <th>2</th>\n",
              "      <td>57600</td>\n",
              "      <td>-2400</td>\n",
              "      <td>-15.5</td>\n",
              "      <td>460.0</td>\n",
              "      <td>11400.0</td>\n",
              "      <td>37.5</td>\n",
              "      <td>-4.0</td>\n",
              "      <td>-54</td>\n",
              "      <td>-0.82</td>\n",
              "      <td>-68</td>\n",
              "      <td>-0.92</td>\n",
              "      <td>-70</td>\n",
              "      <td>-0.96</td>\n",
              "      <td>-68</td>\n",
              "      <td>-0.96</td>\n",
              "      <td>19</td>\n",
              "      <td>38</td>\n",
              "      <td>25</td>\n",
              "      <td>36</td>\n",
              "      <td>-14</td>\n",
              "      <td>-11.5</td>\n",
              "      <td>-12.5</td>\n",
              "      <td>-2.5</td>\n",
              "      <td>-2.0</td>\n",
              "      <td>-1.0</td>\n",
              "      <td>0.0</td>\n",
              "      <td>2.0</td>\n",
              "      <td>5.4</td>\n",
              "    </tr>\n",
              "    <tr>\n",
              "      <th>3</th>\n",
              "      <td>57600</td>\n",
              "      <td>-2400</td>\n",
              "      <td>-16.0</td>\n",
              "      <td>460.0</td>\n",
              "      <td>11400.0</td>\n",
              "      <td>37.5</td>\n",
              "      <td>-1.0</td>\n",
              "      <td>-64</td>\n",
              "      <td>-0.94</td>\n",
              "      <td>-68</td>\n",
              "      <td>-0.92</td>\n",
              "      <td>-62</td>\n",
              "      <td>-0.88</td>\n",
              "      <td>-68</td>\n",
              "      <td>-0.98</td>\n",
              "      <td>18</td>\n",
              "      <td>33</td>\n",
              "      <td>26</td>\n",
              "      <td>35</td>\n",
              "      <td>-14</td>\n",
              "      <td>-12.5</td>\n",
              "      <td>-13.0</td>\n",
              "      <td>-1.5</td>\n",
              "      <td>-1.0</td>\n",
              "      <td>-0.5</td>\n",
              "      <td>0.0</td>\n",
              "      <td>1.8</td>\n",
              "      <td>5.4</td>\n",
              "    </tr>\n",
              "    <tr>\n",
              "      <th>4</th>\n",
              "      <td>60800</td>\n",
              "      <td>-2400</td>\n",
              "      <td>-16.0</td>\n",
              "      <td>460.0</td>\n",
              "      <td>11400.0</td>\n",
              "      <td>37.5</td>\n",
              "      <td>-1.0</td>\n",
              "      <td>-64</td>\n",
              "      <td>-0.96</td>\n",
              "      <td>-68</td>\n",
              "      <td>-0.92</td>\n",
              "      <td>-56</td>\n",
              "      <td>-0.80</td>\n",
              "      <td>-68</td>\n",
              "      <td>-0.98</td>\n",
              "      <td>21</td>\n",
              "      <td>37</td>\n",
              "      <td>23</td>\n",
              "      <td>36</td>\n",
              "      <td>-14</td>\n",
              "      <td>-12.5</td>\n",
              "      <td>-12.5</td>\n",
              "      <td>-1.5</td>\n",
              "      <td>-1.5</td>\n",
              "      <td>0.0</td>\n",
              "      <td>0.0</td>\n",
              "      <td>1.6</td>\n",
              "      <td>5.4</td>\n",
              "    </tr>\n",
              "  </tbody>\n",
              "</table>\n",
              "</div>"
            ],
            "text/plain": [
              "   Item 1  Item 2  Item 3  Item 8  ...  Item 71  Item 73  Item 76  Item 77\n",
              "0   54400   -1800   -11.5   460.0  ...      0.0      0.0      2.9      5.4\n",
              "1   57600   -2200   -13.5   460.0  ...     -0.5      0.0      2.9      5.4\n",
              "2   57600   -2400   -15.5   460.0  ...     -1.0      0.0      2.0      5.4\n",
              "3   57600   -2400   -16.0   460.0  ...     -0.5      0.0      1.8      5.4\n",
              "4   60800   -2400   -16.0   460.0  ...      0.0      0.0      1.6      5.4\n",
              "\n",
              "[5 rows x 28 columns]"
            ]
          },
          "metadata": {
            "tags": []
          },
          "execution_count": 39
        }
      ]
    },
    {
      "cell_type": "markdown",
      "metadata": {
        "id": "ZeUrFHdQCpol",
        "colab_type": "text"
      },
      "source": [
        "## Análise das variáveis"
      ]
    },
    {
      "cell_type": "code",
      "metadata": {
        "id": "r6dPvgpvC41_",
        "colab_type": "code",
        "colab": {
          "base_uri": "https://localhost:8080/",
          "height": 119
        },
        "outputId": "ae17e4d2-0247-4d42-a687-bfab36ba1872"
      },
      "source": [
        "#pega o código das variáveis\n",
        "all_vars = np.array(historic.columns)\n",
        "all_vars"
      ],
      "execution_count": null,
      "outputs": [
        {
          "output_type": "execute_result",
          "data": {
            "text/plain": [
              "array(['Item 1', 'Item 2', 'Item 3', 'Item 8', 'Item 12', 'Item 16',\n",
              "       'Item 21', 'Item 23', 'Item 23-1', 'Item 27', 'Item 27-1',\n",
              "       'Item 31', 'Item 31-1', 'Item 35', 'Item 35-1', 'Item 39',\n",
              "       'Item 40', 'Item 42', 'Item 44', 'Item 57', 'Item 59', 'Item 62',\n",
              "       'Item 65', 'Item 68', 'Item 71', 'Item 73', 'Item 76', 'Item 77'],\n",
              "      dtype=object)"
            ]
          },
          "metadata": {
            "tags": []
          },
          "execution_count": 40
        }
      ]
    },
    {
      "cell_type": "code",
      "metadata": {
        "id": "dEJDWl95CoIg",
        "colab_type": "code",
        "colab": {
          "base_uri": "https://localhost:8080/",
          "height": 510
        },
        "outputId": "291521b3-e28f-48de-aeff-212c0a93d006"
      },
      "source": [
        "#avalia quantas variações de conteúdo tem cada variável e se há linhas vazias\n",
        "quantidades = pd.DataFrame(columns=['qtde', 'vazias'])\n",
        "\n",
        "#numéricas\n",
        "for col in all_vars:\n",
        "  historic[col] = historic[col].astype('float')\n",
        "  var = historic.groupby(col).size()\n",
        "  empty_entries = historic[col].isna().sum()\n",
        "  quantidades.loc[col] = [var.count(), empty_entries]\n",
        "\n",
        "print(quantidades.head(50))  "
      ],
      "execution_count": null,
      "outputs": [
        {
          "output_type": "stream",
          "text": [
            "          qtde vazias\n",
            "Item 1     122      0\n",
            "Item 2     210      0\n",
            "Item 3     336      0\n",
            "Item 8     140      0\n",
            "Item 12    131      0\n",
            "Item 16     99      0\n",
            "Item 21     55      0\n",
            "Item 23     67      0\n",
            "Item 23-1  100      0\n",
            "Item 27     87      0\n",
            "Item 27-1  101      0\n",
            "Item 31     88      0\n",
            "Item 31-1  101      0\n",
            "Item 35     86      0\n",
            "Item 35-1  101      0\n",
            "Item 39     99      0\n",
            "Item 40     99      0\n",
            "Item 42     90      0\n",
            "Item 44     77      0\n",
            "Item 57    100      0\n",
            "Item 59    148      0\n",
            "Item 62    192      0\n",
            "Item 65    137      0\n",
            "Item 68    107      0\n",
            "Item 71    115      0\n",
            "Item 73    119      0\n",
            "Item 76    115      0\n",
            "Item 77    145      0\n"
          ],
          "name": "stdout"
        }
      ]
    },
    {
      "cell_type": "markdown",
      "metadata": {
        "id": "pWCdPe1LEKTA",
        "colab_type": "text"
      },
      "source": [
        "# Seleção de variáveis baseada em árvore de decisão"
      ]
    },
    {
      "cell_type": "code",
      "metadata": {
        "id": "HelbOFwkELaF",
        "colab_type": "code",
        "colab": {}
      },
      "source": [
        "#cria função para avaliar importância\n",
        "def etc_importances(features_interna, outcome_interna):\n",
        "  model = ExtraTreesClassifier(n_estimators=200, criterion='entropy', verbose=0)\n",
        "  model.fit(features_interna, np.array(outcome_interna).ravel())\n",
        "\n",
        "  importances = model.feature_importances_\n",
        "  variables = np.array(features_interna.columns)\n",
        "  indices = np.argsort(importances)[::-1] #tudo, em ordem decrescente\n",
        "  importances = importances[indices]\n",
        "  variables = variables[indices]\n",
        "\n",
        "  return variables, importances"
      ],
      "execution_count": null,
      "outputs": []
    },
    {
      "cell_type": "code",
      "metadata": {
        "id": "D5NJ8uTnEUH3",
        "colab_type": "code",
        "colab": {}
      },
      "source": [
        "variables, importances = etc_importances(historic, target)"
      ],
      "execution_count": null,
      "outputs": []
    },
    {
      "cell_type": "code",
      "metadata": {
        "id": "jELicTOLEdkl",
        "colab_type": "code",
        "colab": {}
      },
      "source": [
        "#cria função para plotar importâncias x variáveis acumulado\n",
        "def sum_and_plot_importances(variables, importances):\n",
        "  sum_importances = pd.DataFrame()\n",
        "  for i in range(importances.size):\n",
        "    sum_importance = importances[:(i+1)].sum() #soma todas as colunas anteriores a i\n",
        "    this_variable = pd.Series([variables[i], sum_importance])\n",
        "    sum_importances = sum_importances.append(this_variable, ignore_index=True)\n",
        "  plt.scatter(sum_importances.index, sum_importances.iloc[:,1])\n",
        "  return sum_importances"
      ],
      "execution_count": null,
      "outputs": []
    },
    {
      "cell_type": "code",
      "metadata": {
        "id": "TtR_QWg2EhfF",
        "colab_type": "code",
        "colab": {
          "base_uri": "https://localhost:8080/",
          "height": 265
        },
        "outputId": "04a402a9-5b78-42b8-9d00-3c7431496551"
      },
      "source": [
        "#plota a importância das variáveis\n",
        "sum_importances = sum_and_plot_importances(variables, importances)"
      ],
      "execution_count": null,
      "outputs": [
        {
          "output_type": "display_data",
          "data": {
            "image/png": "[encoded data removed]",
            "text/plain": [
              "<Figure size 432x288 with 1 Axes>"
            ]
          },
          "metadata": {
            "tags": [],
            "needs_background": "light"
          }
        }
      ]
    },
    {
      "cell_type": "code",
      "metadata": {
        "id": "TsLlbdWBEmeU",
        "colab_type": "code",
        "colab": {
          "base_uri": "https://localhost:8080/",
          "height": 917
        },
        "outputId": "ec5852b2-6eed-41f2-8341-0d8f0f72d80b"
      },
      "source": [
        "sum_importances"
      ],
      "execution_count": null,
      "outputs": [
        {
          "output_type": "execute_result",
          "data": {
            "text/html": [
              "<div>\n",
              "<style scoped>\n",
              "    .dataframe tbody tr th:only-of-type {\n",
              "        vertical-align: middle;\n",
              "    }\n",
              "\n",
              "    .dataframe tbody tr th {\n",
              "        vertical-align: top;\n",
              "    }\n",
              "\n",
              "    .dataframe thead th {\n",
              "        text-align: right;\n",
              "    }\n",
              "</style>\n",
              "<table border=\"1\" class=\"dataframe\">\n",
              "  <thead>\n",
              "    <tr style=\"text-align: right;\">\n",
              "      <th></th>\n",
              "      <th>0</th>\n",
              "      <th>1</th>\n",
              "    </tr>\n",
              "  </thead>\n",
              "  <tbody>\n",
              "    <tr>\n",
              "      <th>0</th>\n",
              "      <td>Item 8</td>\n",
              "      <td>0.064813</td>\n",
              "    </tr>\n",
              "    <tr>\n",
              "      <th>1</th>\n",
              "      <td>Item 2</td>\n",
              "      <td>0.122128</td>\n",
              "    </tr>\n",
              "    <tr>\n",
              "      <th>2</th>\n",
              "      <td>Item 1</td>\n",
              "      <td>0.179431</td>\n",
              "    </tr>\n",
              "    <tr>\n",
              "      <th>3</th>\n",
              "      <td>Item 3</td>\n",
              "      <td>0.235074</td>\n",
              "    </tr>\n",
              "    <tr>\n",
              "      <th>4</th>\n",
              "      <td>Item 12</td>\n",
              "      <td>0.283119</td>\n",
              "    </tr>\n",
              "    <tr>\n",
              "      <th>5</th>\n",
              "      <td>Item 16</td>\n",
              "      <td>0.331020</td>\n",
              "    </tr>\n",
              "    <tr>\n",
              "      <th>6</th>\n",
              "      <td>Item 68</td>\n",
              "      <td>0.377826</td>\n",
              "    </tr>\n",
              "    <tr>\n",
              "      <th>7</th>\n",
              "      <td>Item 77</td>\n",
              "      <td>0.422510</td>\n",
              "    </tr>\n",
              "    <tr>\n",
              "      <th>8</th>\n",
              "      <td>Item 65</td>\n",
              "      <td>0.466996</td>\n",
              "    </tr>\n",
              "    <tr>\n",
              "      <th>9</th>\n",
              "      <td>Item 73</td>\n",
              "      <td>0.509509</td>\n",
              "    </tr>\n",
              "    <tr>\n",
              "      <th>10</th>\n",
              "      <td>Item 71</td>\n",
              "      <td>0.551222</td>\n",
              "    </tr>\n",
              "    <tr>\n",
              "      <th>11</th>\n",
              "      <td>Item 57</td>\n",
              "      <td>0.587857</td>\n",
              "    </tr>\n",
              "    <tr>\n",
              "      <th>12</th>\n",
              "      <td>Item 44</td>\n",
              "      <td>0.622764</td>\n",
              "    </tr>\n",
              "    <tr>\n",
              "      <th>13</th>\n",
              "      <td>Item 62</td>\n",
              "      <td>0.656142</td>\n",
              "    </tr>\n",
              "    <tr>\n",
              "      <th>14</th>\n",
              "      <td>Item 40</td>\n",
              "      <td>0.687260</td>\n",
              "    </tr>\n",
              "    <tr>\n",
              "      <th>15</th>\n",
              "      <td>Item 35</td>\n",
              "      <td>0.716689</td>\n",
              "    </tr>\n",
              "    <tr>\n",
              "      <th>16</th>\n",
              "      <td>Item 59</td>\n",
              "      <td>0.745632</td>\n",
              "    </tr>\n",
              "    <tr>\n",
              "      <th>17</th>\n",
              "      <td>Item 76</td>\n",
              "      <td>0.773546</td>\n",
              "    </tr>\n",
              "    <tr>\n",
              "      <th>18</th>\n",
              "      <td>Item 35-1</td>\n",
              "      <td>0.800576</td>\n",
              "    </tr>\n",
              "    <tr>\n",
              "      <th>19</th>\n",
              "      <td>Item 42</td>\n",
              "      <td>0.827523</td>\n",
              "    </tr>\n",
              "    <tr>\n",
              "      <th>20</th>\n",
              "      <td>Item 27</td>\n",
              "      <td>0.852950</td>\n",
              "    </tr>\n",
              "    <tr>\n",
              "      <th>21</th>\n",
              "      <td>Item 27-1</td>\n",
              "      <td>0.877477</td>\n",
              "    </tr>\n",
              "    <tr>\n",
              "      <th>22</th>\n",
              "      <td>Item 39</td>\n",
              "      <td>0.900462</td>\n",
              "    </tr>\n",
              "    <tr>\n",
              "      <th>23</th>\n",
              "      <td>Item 31</td>\n",
              "      <td>0.921472</td>\n",
              "    </tr>\n",
              "    <tr>\n",
              "      <th>24</th>\n",
              "      <td>Item 21</td>\n",
              "      <td>0.941934</td>\n",
              "    </tr>\n",
              "    <tr>\n",
              "      <th>25</th>\n",
              "      <td>Item 31-1</td>\n",
              "      <td>0.961840</td>\n",
              "    </tr>\n",
              "    <tr>\n",
              "      <th>26</th>\n",
              "      <td>Item 23</td>\n",
              "      <td>0.981098</td>\n",
              "    </tr>\n",
              "    <tr>\n",
              "      <th>27</th>\n",
              "      <td>Item 23-1</td>\n",
              "      <td>1.000000</td>\n",
              "    </tr>\n",
              "  </tbody>\n",
              "</table>\n",
              "</div>"
            ],
            "text/plain": [
              "            0         1\n",
              "0      Item 8  0.064813\n",
              "1      Item 2  0.122128\n",
              "2      Item 1  0.179431\n",
              "3      Item 3  0.235074\n",
              "4     Item 12  0.283119\n",
              "5     Item 16  0.331020\n",
              "6     Item 68  0.377826\n",
              "7     Item 77  0.422510\n",
              "8     Item 65  0.466996\n",
              "9     Item 73  0.509509\n",
              "10    Item 71  0.551222\n",
              "11    Item 57  0.587857\n",
              "12    Item 44  0.622764\n",
              "13    Item 62  0.656142\n",
              "14    Item 40  0.687260\n",
              "15    Item 35  0.716689\n",
              "16    Item 59  0.745632\n",
              "17    Item 76  0.773546\n",
              "18  Item 35-1  0.800576\n",
              "19    Item 42  0.827523\n",
              "20    Item 27  0.852950\n",
              "21  Item 27-1  0.877477\n",
              "22    Item 39  0.900462\n",
              "23    Item 31  0.921472\n",
              "24    Item 21  0.941934\n",
              "25  Item 31-1  0.961840\n",
              "26    Item 23  0.981098\n",
              "27  Item 23-1  1.000000"
            ]
          },
          "metadata": {
            "tags": []
          },
          "execution_count": 48
        }
      ]
    },
    {
      "cell_type": "markdown",
      "metadata": {
        "id": "I8F3MP9kEwiM",
        "colab_type": "text"
      },
      "source": [
        "# Dividindo os dados do dataset para treino e teste"
      ]
    },
    {
      "cell_type": "code",
      "metadata": {
        "id": "pqwDP_IOEzPu",
        "colab_type": "code",
        "colab": {}
      },
      "source": [
        "#cria a função para divisão\n",
        "def split_datasets(historic, target, test_size=0.2):\n",
        "  X_train, X_test, y_train, y_test = train_test_split(historic, target,\n",
        "                                                      test_size=test_size, stratify=target,\n",
        "                                                      random_state=0)\n",
        "  y_train, y_test = np.array(y_train).ravel(), np.array(y_test).ravel()\n",
        "  return X_train, X_test, y_train, y_test"
      ],
      "execution_count": null,
      "outputs": []
    },
    {
      "cell_type": "code",
      "metadata": {
        "id": "-T1e2PujE7Ks",
        "colab_type": "code",
        "colab": {
          "base_uri": "https://localhost:8080/",
          "height": 34
        },
        "outputId": "c773ebb8-dba6-4c65-b082-e8337275072f"
      },
      "source": [
        "#faz a divisão\n",
        "X_train, X_test, y_train, y_test = split_datasets(historic, target)\n",
        "X_train.shape"
      ],
      "execution_count": null,
      "outputs": [
        {
          "output_type": "execute_result",
          "data": {
            "text/plain": [
              "(31254, 28)"
            ]
          },
          "metadata": {
            "tags": []
          },
          "execution_count": 55
        }
      ]
    },
    {
      "cell_type": "markdown",
      "metadata": {
        "id": "6tirV7EfFNGL",
        "colab_type": "text"
      },
      "source": [
        "# Modelagem Preliminar"
      ]
    },
    {
      "cell_type": "code",
      "metadata": {
        "id": "j7mrS5_SFP4T",
        "colab_type": "code",
        "colab": {}
      },
      "source": [
        "#faz a função para mostrar AUC e ROC\n",
        "padraoCv = 20\n",
        "def rfc_test(X_train, y_train, n_estimators=100, cv=padraoCv):\n",
        "  np.random.seed(0)\n",
        "  rfc = RandomForestClassifier(n_estimators=n_estimators, random_state=0, n_jobs=-1)\n",
        "  cv_scores = cross_val_score(rfc, X_train, y_train, scoring='roc_auc', cv=cv, n_jobs=-1)\n",
        "  print('Média dos {} testes: '.format(cv), cv_scores.mean())"
      ],
      "execution_count": null,
      "outputs": []
    },
    {
      "cell_type": "code",
      "metadata": {
        "id": "3nQtPnTAFYPD",
        "colab_type": "code",
        "colab": {
          "base_uri": "https://localhost:8080/",
          "height": 34
        },
        "outputId": "a21bd0ae-424a-411f-ae25-f60ddaa54cea"
      },
      "source": [
        "rfc_test(X_train, y_train)"
      ],
      "execution_count": null,
      "outputs": [
        {
          "output_type": "stream",
          "text": [
            "Média dos 20 testes:  0.9856748000898661\n"
          ],
          "name": "stdout"
        }
      ]
    },
    {
      "cell_type": "code",
      "metadata": {
        "id": "QQS0wMb6IJ8g",
        "colab_type": "code",
        "colab": {
          "base_uri": "https://localhost:8080/",
          "height": 136
        },
        "outputId": "9f25e0a1-00a0-4be3-9c40-d8b55b766481"
      },
      "source": [
        "#gera o modelo\n",
        "model = RandomForestRegressor(n_estimators=300, random_state=0)\n",
        "#fit modelo\n",
        "model.fit(X_train, y_train)"
      ],
      "execution_count": null,
      "outputs": [
        {
          "output_type": "execute_result",
          "data": {
            "text/plain": [
              "RandomForestRegressor(bootstrap=True, ccp_alpha=0.0, criterion='mse',\n",
              "                      max_depth=None, max_features='auto', max_leaf_nodes=None,\n",
              "                      max_samples=None, min_impurity_decrease=0.0,\n",
              "                      min_impurity_split=None, min_samples_leaf=1,\n",
              "                      min_samples_split=2, min_weight_fraction_leaf=0.0,\n",
              "                      n_estimators=300, n_jobs=None, oob_score=False,\n",
              "                      random_state=0, verbose=0, warm_start=False)"
            ]
          },
          "metadata": {
            "tags": []
          },
          "execution_count": 62
        }
      ]
    },
    {
      "cell_type": "code",
      "metadata": {
        "id": "8fMmigf-IoCu",
        "colab_type": "code",
        "colab": {
          "base_uri": "https://localhost:8080/",
          "height": 34
        },
        "outputId": "ecc16d28-14c2-4de2-a765-bd741b510b50"
      },
      "source": [
        "#faz predição com dados de validacao\n",
        "valoresPrevistos = model.predict(X_test)\n",
        "\n",
        "#resultado entre 1 e 2, com decimais"
      ],
      "execution_count": null,
      "outputs": [
        {
          "output_type": "stream",
          "text": [
            "0.14671657708386654\n"
          ],
          "name": "stdout"
        }
      ]
    },
    {
      "cell_type": "code",
      "metadata": {
        "id": "Ilvn9wh3JXjF",
        "colab_type": "code",
        "colab": {
          "base_uri": "https://localhost:8080/",
          "height": 51
        },
        "outputId": "5ea49740-4326-459e-bfbd-50b60e407980"
      },
      "source": [
        "valoresPrevistos"
      ],
      "execution_count": null,
      "outputs": [
        {
          "output_type": "execute_result",
          "data": {
            "text/plain": [
              "array([1.06666667, 1.04333333, 1.93      , ..., 1.95333333, 1.85666667,\n",
              "       1.97      ])"
            ]
          },
          "metadata": {
            "tags": []
          },
          "execution_count": 66
        }
      ]
    },
    {
      "cell_type": "code",
      "metadata": {
        "id": "zEkknq3DJhrH",
        "colab_type": "code",
        "colab": {
          "base_uri": "https://localhost:8080/",
          "height": 34
        },
        "outputId": "79c55047-878e-44cc-90f9-5c74466bc842"
      },
      "source": [
        "y_test"
      ],
      "execution_count": null,
      "outputs": [
        {
          "output_type": "execute_result",
          "data": {
            "text/plain": [
              "array([1, 1, 2, ..., 2, 2, 2])"
            ]
          },
          "metadata": {
            "tags": []
          },
          "execution_count": 68
        }
      ]
    },
    {
      "cell_type": "code",
      "metadata": {
        "id": "sVDRGZbAMH6h",
        "colab_type": "code",
        "colab": {
          "base_uri": "https://localhost:8080/",
          "height": 867
        },
        "outputId": "8c586da6-b468-49e2-cabe-d50f73d96d3b"
      },
      "source": [
        "#lista comparação dos primeiros 50 registros\n",
        "margemAceitavel = 0.3\n",
        "for i in range(0, 50):\n",
        "  if abs(valoresPrevistos[i] - y_test[i]) > margemAceitavel:\n",
        "    print(\"Valor previsto: {:.2f} x Valor Real: {}\".format(valoresPrevistos[i], y_test[i]), end=' ')\n",
        "    print(\" <<<--- falha: diferença de {:.2f}\".format(valoresPrevistos[i] - y_test[i]))\n",
        "  else:\n",
        "    print(\"Valor previsto: {:.2f} x Valor Real: {}\".format(valoresPrevistos[i], y_test[i]))\n"
      ],
      "execution_count": null,
      "outputs": [
        {
          "output_type": "stream",
          "text": [
            "Valor previsto: 1.07 x Valor Real: 1\n",
            "Valor previsto: 1.04 x Valor Real: 1\n",
            "Valor previsto: 1.93 x Valor Real: 2\n",
            "Valor previsto: 1.98 x Valor Real: 2\n",
            "Valor previsto: 1.89 x Valor Real: 2\n",
            "Valor previsto: 1.96 x Valor Real: 2\n",
            "Valor previsto: 1.68 x Valor Real: 2  <<<--- falha: diferença de -0.32\n",
            "Valor previsto: 1.04 x Valor Real: 1\n",
            "Valor previsto: 1.98 x Valor Real: 2\n",
            "Valor previsto: 1.11 x Valor Real: 1\n",
            "Valor previsto: 1.88 x Valor Real: 1  <<<--- falha: diferença de 0.88\n",
            "Valor previsto: 1.92 x Valor Real: 2\n",
            "Valor previsto: 1.78 x Valor Real: 2\n",
            "Valor previsto: 1.94 x Valor Real: 2\n",
            "Valor previsto: 1.60 x Valor Real: 1  <<<--- falha: diferença de 0.60\n",
            "Valor previsto: 1.91 x Valor Real: 2\n",
            "Valor previsto: 1.79 x Valor Real: 2\n",
            "Valor previsto: 1.89 x Valor Real: 2\n",
            "Valor previsto: 1.92 x Valor Real: 2\n",
            "Valor previsto: 1.90 x Valor Real: 2\n",
            "Valor previsto: 1.90 x Valor Real: 2\n",
            "Valor previsto: 1.56 x Valor Real: 1  <<<--- falha: diferença de 0.56\n",
            "Valor previsto: 1.26 x Valor Real: 1\n",
            "Valor previsto: 1.27 x Valor Real: 1\n",
            "Valor previsto: 1.95 x Valor Real: 2\n",
            "Valor previsto: 1.94 x Valor Real: 2\n",
            "Valor previsto: 1.08 x Valor Real: 1\n",
            "Valor previsto: 1.73 x Valor Real: 2\n",
            "Valor previsto: 1.14 x Valor Real: 1\n",
            "Valor previsto: 1.13 x Valor Real: 1\n",
            "Valor previsto: 1.95 x Valor Real: 2\n",
            "Valor previsto: 1.93 x Valor Real: 2\n",
            "Valor previsto: 1.88 x Valor Real: 2\n",
            "Valor previsto: 1.51 x Valor Real: 1  <<<--- falha: diferença de 0.51\n",
            "Valor previsto: 1.09 x Valor Real: 1\n",
            "Valor previsto: 1.01 x Valor Real: 1\n",
            "Valor previsto: 1.99 x Valor Real: 2\n",
            "Valor previsto: 1.05 x Valor Real: 1\n",
            "Valor previsto: 1.16 x Valor Real: 1\n",
            "Valor previsto: 1.09 x Valor Real: 1\n",
            "Valor previsto: 1.97 x Valor Real: 2\n",
            "Valor previsto: 1.57 x Valor Real: 2  <<<--- falha: diferença de -0.43\n",
            "Valor previsto: 1.18 x Valor Real: 1\n",
            "Valor previsto: 1.76 x Valor Real: 2\n",
            "Valor previsto: 1.78 x Valor Real: 2\n",
            "Valor previsto: 1.83 x Valor Real: 2\n",
            "Valor previsto: 2.00 x Valor Real: 2\n",
            "Valor previsto: 1.81 x Valor Real: 2\n",
            "Valor previsto: 1.72 x Valor Real: 2\n",
            "Valor previsto: 1.17 x Valor Real: 1\n"
          ],
          "name": "stdout"
        }
      ]
    },
    {
      "cell_type": "code",
      "metadata": {
        "id": "pdbbPrAPJ648",
        "colab_type": "code",
        "colab": {
          "base_uri": "https://localhost:8080/",
          "height": 68
        },
        "outputId": "96196228-cc75-4d2a-bba8-5077ae499cf8"
      },
      "source": [
        "#lista quantidade de acertos (considerando um percentual de dúvida)\n",
        "contaOk = 0\n",
        "contaNao = 0\n",
        "for i in range(0, len(y_test)):\n",
        "  if abs(valoresPrevistos[i] - y_test[i]) < margemAceitavel:\n",
        "    contaOk += 1\n",
        "  else:\n",
        "    contaNao += 1\n",
        "\n",
        "print(\"Quantidade de resultados OK: {}\\nQuantidade de resultados Não: {}\".format(contaOk, contaNao))\n",
        "print(\"Percentual de acertos: {:.2f}%\".format(contaOk/len(y_test)))"
      ],
      "execution_count": null,
      "outputs": [
        {
          "output_type": "stream",
          "text": [
            "Quantidade de resultados OK: 6894\n",
            "Quantidade de resultados Não: 920\n",
            "Percentual de acertos: 0.88%\n"
          ],
          "name": "stdout"
        }
      ]
    }
  ]
}