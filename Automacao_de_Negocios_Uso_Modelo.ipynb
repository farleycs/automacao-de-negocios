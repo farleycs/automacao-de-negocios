{
  "nbformat": 4,
  "nbformat_minor": 0,
  "metadata": {
    "colab": {
      "name": "Automacao de Negocios Uso Modelo.ipynb",
      "provenance": [],
      "collapsed_sections": [],
      "toc_visible": true,
      "authorship_tag": "ABX9TyPF88NTSQWFjkC+gt5G98R0",
      "include_colab_link": true
    },
    "kernelspec": {
      "name": "python3",
      "display_name": "Python 3"
    }
  },
  "cells": [
    {
      "cell_type": "markdown",
      "metadata": {
        "id": "view-in-github",
        "colab_type": "text"
      },
      "source": [
        "<a href=\"https://colab.research.google.com/github/htsnet/automacao-de-negocios/blob/master/Automacao_de_Negocios_Uso_Modelo.ipynb\" target=\"_parent\"><img src=\"https://colab.research.google.com/assets/colab-badge.svg\" alt=\"Open In Colab\"/></a>"
      ]
    },
    {
      "cell_type": "markdown",
      "metadata": {
        "id": "0aUmubvHx5nw",
        "colab_type": "text"
      },
      "source": [
        "# Execução de modelo já preparado para decisão sobre nova operação"
      ]
    },
    {
      "cell_type": "code",
      "metadata": {
        "id": "x-FvSWqfxxui",
        "colab_type": "code",
        "colab": {}
      },
      "source": [
        "import pandas as pd\n",
        "import pickle"
      ],
      "execution_count": 1,
      "outputs": []
    },
    {
      "cell_type": "markdown",
      "metadata": {
        "id": "8C-5DRbSzxUN",
        "colab_type": "text"
      },
      "source": [
        "## O arquivo do modelo a ser carregado deve ter sido gerado a partir do outro notebook (Automacao de Negocios)"
      ]
    },
    {
      "cell_type": "code",
      "metadata": {
        "id": "kat4cdVuyBu3",
        "colab_type": "code",
        "colab": {}
      },
      "source": [
        "# carrega o modelo salvo em disco\n",
        "arquivo_modelo = 'finalized_model.pkl'\n",
        "with open(arquivo_modelo, 'rb') as file:\n",
        "    model = pickle.load(file)"
      ],
      "execution_count": 2,
      "outputs": []
    },
    {
      "cell_type": "code",
      "metadata": {
        "id": "43OrWE4-yY6W",
        "colab_type": "code",
        "colab": {}
      },
      "source": [
        "#carrega a tabela com os dados a avaliar\n",
        "#separador de campos = ;\n",
        "#ponto decimal = ,\n",
        "new = pd.read_csv(\"/content/novos_dados.csv\", sep=\";\", decimal=\",\")"
      ],
      "execution_count": 3,
      "outputs": []
    },
    {
      "cell_type": "code",
      "metadata": {
        "id": "yFRNSmF-1DfX",
        "colab_type": "code",
        "colab": {
          "base_uri": "https://localhost:8080/",
          "height": 117
        },
        "outputId": "efe03e7f-c4d1-4d8e-d9d6-6d6f498fb228"
      },
      "source": [
        "new.head()"
      ],
      "execution_count": 4,
      "outputs": [
        {
          "output_type": "execute_result",
          "data": {
            "text/html": [
              "<div>\n",
              "<style scoped>\n",
              "    .dataframe tbody tr th:only-of-type {\n",
              "        vertical-align: middle;\n",
              "    }\n",
              "\n",
              "    .dataframe tbody tr th {\n",
              "        vertical-align: top;\n",
              "    }\n",
              "\n",
              "    .dataframe thead th {\n",
              "        text-align: right;\n",
              "    }\n",
              "</style>\n",
              "<table border=\"1\" class=\"dataframe\">\n",
              "  <thead>\n",
              "    <tr style=\"text-align: right;\">\n",
              "      <th></th>\n",
              "      <th>Item 1</th>\n",
              "      <th>Item 2</th>\n",
              "      <th>Item 3</th>\n",
              "      <th>Item 4</th>\n",
              "      <th>Item 5</th>\n",
              "      <th>Item 6</th>\n",
              "      <th>Item 7</th>\n",
              "      <th>Item 8</th>\n",
              "      <th>Item 9</th>\n",
              "      <th>Item 10</th>\n",
              "      <th>Item 11</th>\n",
              "      <th>Item 12</th>\n",
              "      <th>Item 13</th>\n",
              "      <th>Item 14</th>\n",
              "      <th>Item 15</th>\n",
              "      <th>Item 16</th>\n",
              "      <th>Item 17</th>\n",
              "      <th>Item 18</th>\n",
              "      <th>Item 19</th>\n",
              "      <th>Item 20</th>\n",
              "      <th>Item 21</th>\n",
              "      <th>Item 22</th>\n",
              "      <th>Item 23</th>\n",
              "      <th>Item 24</th>\n",
              "      <th>Item 25</th>\n",
              "      <th>Item 26</th>\n",
              "      <th>Item 27</th>\n",
              "      <th>Item 28</th>\n",
              "      <th>Item 29</th>\n",
              "      <th>Item 30</th>\n",
              "      <th>Item 31</th>\n",
              "      <th>Item 32</th>\n",
              "      <th>Item 33</th>\n",
              "      <th>Item 34</th>\n",
              "      <th>Item 35</th>\n",
              "      <th>Item 36</th>\n",
              "      <th>Item 37</th>\n",
              "      <th>Item 38</th>\n",
              "      <th>Item 39</th>\n",
              "      <th>Item 40</th>\n",
              "      <th>Item 41</th>\n",
              "      <th>Item 42</th>\n",
              "      <th>Item 43</th>\n",
              "      <th>Item 44</th>\n",
              "      <th>Item 45</th>\n",
              "      <th>Item 46</th>\n",
              "      <th>Item 47</th>\n",
              "      <th>Item 48</th>\n",
              "      <th>Item 49</th>\n",
              "      <th>Item 50</th>\n",
              "      <th>Item 51</th>\n",
              "      <th>Item 52</th>\n",
              "      <th>Item 53</th>\n",
              "      <th>Item 54</th>\n",
              "      <th>Item 55</th>\n",
              "      <th>Item 56</th>\n",
              "      <th>Item 57</th>\n",
              "      <th>Item 58</th>\n",
              "      <th>Item 59</th>\n",
              "      <th>Item 60</th>\n",
              "      <th>Item 61</th>\n",
              "      <th>Item 62</th>\n",
              "      <th>Item 63</th>\n",
              "      <th>Item 64</th>\n",
              "      <th>Item 65</th>\n",
              "      <th>Item 66</th>\n",
              "      <th>Item 67</th>\n",
              "      <th>Item 68</th>\n",
              "      <th>Item 69</th>\n",
              "      <th>Item 70</th>\n",
              "      <th>Item 71</th>\n",
              "      <th>Item 72</th>\n",
              "      <th>Item 73</th>\n",
              "      <th>Item 74</th>\n",
              "      <th>Item 75</th>\n",
              "      <th>Item 76</th>\n",
              "      <th>Item 77</th>\n",
              "    </tr>\n",
              "  </thead>\n",
              "  <tbody>\n",
              "    <tr>\n",
              "      <th>0</th>\n",
              "      <td>54400</td>\n",
              "      <td>-1800</td>\n",
              "      <td>-11.5</td>\n",
              "      <td>24</td>\n",
              "      <td>460</td>\n",
              "      <td>460</td>\n",
              "      <td>460</td>\n",
              "      <td>460</td>\n",
              "      <td>280</td>\n",
              "      <td>6800</td>\n",
              "      <td>9000</td>\n",
              "      <td>11400</td>\n",
              "      <td>22</td>\n",
              "      <td>52</td>\n",
              "      <td>40.5</td>\n",
              "      <td>37.5</td>\n",
              "      <td>-11</td>\n",
              "      <td>-6</td>\n",
              "      <td>-4</td>\n",
              "      <td>1.0</td>\n",
              "      <td>-1</td>\n",
              "      <td>-2</td>\n",
              "      <td>-58</td>\n",
              "      <td>-0.52</td>\n",
              "      <td>-66</td>\n",
              "      <td>-0.84</td>\n",
              "      <td>-60</td>\n",
              "      <td>-0.8</td>\n",
              "      <td>-60</td>\n",
              "      <td>-0.9</td>\n",
              "      <td>-74</td>\n",
              "      <td>-0.86</td>\n",
              "      <td>-70</td>\n",
              "      <td>-0.96</td>\n",
              "      <td>-64</td>\n",
              "      <td>-0.94</td>\n",
              "      <td>-42</td>\n",
              "      <td>-0.8</td>\n",
              "      <td>33</td>\n",
              "      <td>39</td>\n",
              "      <td>41</td>\n",
              "      <td>27</td>\n",
              "      <td>37</td>\n",
              "      <td>44</td>\n",
              "      <td>0</td>\n",
              "      <td>100</td>\n",
              "      <td>500</td>\n",
              "      <td>5</td>\n",
              "      <td>15</td>\n",
              "      <td>5</td>\n",
              "      <td>0</td>\n",
              "      <td>0</td>\n",
              "      <td>-1500</td>\n",
              "      <td>10</td>\n",
              "      <td>10</td>\n",
              "      <td>440</td>\n",
              "      <td>-11</td>\n",
              "      <td>-4</td>\n",
              "      <td>-8.5</td>\n",
              "      <td>-9.5</td>\n",
              "      <td>-7</td>\n",
              "      <td>-8.5</td>\n",
              "      <td>-9.5</td>\n",
              "      <td>-6.5</td>\n",
              "      <td>-2</td>\n",
              "      <td>-1</td>\n",
              "      <td>-3.5</td>\n",
              "      <td>-2</td>\n",
              "      <td>-1</td>\n",
              "      <td>-3</td>\n",
              "      <td>0</td>\n",
              "      <td>-1</td>\n",
              "      <td>0</td>\n",
              "      <td>0</td>\n",
              "      <td>0</td>\n",
              "      <td>2.9</td>\n",
              "      <td>5.4</td>\n",
              "    </tr>\n",
              "  </tbody>\n",
              "</table>\n",
              "</div>"
            ],
            "text/plain": [
              "   Item 1  Item 2  Item 3  Item 4  ...  Item 74  Item 75  Item 76  Item 77\n",
              "0   54400   -1800   -11.5      24  ...        0        0      2.9      5.4\n",
              "\n",
              "[1 rows x 77 columns]"
            ]
          },
          "metadata": {
            "tags": []
          },
          "execution_count": 4
        }
      ]
    },
    {
      "cell_type": "code",
      "metadata": {
        "id": "OPWFrqlEyopV",
        "colab_type": "code",
        "colab": {
          "base_uri": "https://localhost:8080/",
          "height": 51
        },
        "outputId": "14a00407-ac0c-40c9-c881-9c20b67b9263"
      },
      "source": [
        "#faz a predição com base nos novos dados\n",
        "Ypredict = model.predict(new)\n",
        "print(Ypredict)\n",
        "if Ypredict == 1:\n",
        "  print(\"Seguir\")\n",
        "else:\n",
        "  print(\"Não\")"
      ],
      "execution_count": 5,
      "outputs": [
        {
          "output_type": "stream",
          "text": [
            "[2]\n",
            "Não\n"
          ],
          "name": "stdout"
        }
      ]
    },
    {
      "cell_type": "code",
      "metadata": {
        "id": "7YngZ_5W_ybg",
        "colab_type": "code",
        "colab": {
          "base_uri": "https://localhost:8080/",
          "height": 34
        },
        "outputId": "b6841937-46ca-4dfa-c3e8-d903ed570baa"
      },
      "source": [
        "#verifica a probabilidade de acerto do resultado apresentado\n",
        "probabilidade = model.predict_proba(new)\n",
        "probabilidade"
      ],
      "execution_count": 6,
      "outputs": [
        {
          "output_type": "execute_result",
          "data": {
            "text/plain": [
              "array([[0.40294118, 0.59705882]])"
            ]
          },
          "metadata": {
            "tags": []
          },
          "execution_count": 6
        }
      ]
    }
  ]
}